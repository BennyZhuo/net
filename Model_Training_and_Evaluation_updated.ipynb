{
 "cells": [
  {
   "cell_type": "code",
   "execution_count": 1,
   "metadata": {
    "pycharm": {
     "name": "#%%\n"
    }
   },
   "outputs": [],
   "source": [
    "#Author: Tongshu Zheng from Duke University\n",
    "#Email: tongshu.zheng@duke.edu; contact me if you have any questions regarding the code\n",
    "#Please reference the code source and publication (i.e., \"Estimating ground-level PM2.5 using micro-satellite \n",
    "#images by a convolutional neural network and random forest approach\") if you use the code."
   ]
  },
  {
   "cell_type": "code",
   "execution_count": 2,
   "metadata": {
    "pycharm": {
     "name": "#%%\n"
    }
   },
   "outputs": [
    {
     "name": "stdout",
     "output_type": "stream",
     "text": [
      "Figure directory exists.\n"
     ]
    }
   ],
   "source": [
    "# To support both python 2 and python 3\n",
    "from __future__ import division, print_function, unicode_literals\n",
    "\n",
    "# Common imports\n",
    "import numpy as np\n",
    "import os\n",
    "# to make this notebook's output stable across runs\n",
    "np.random.seed(42)\n",
    "\n",
    "# To plot pretty figures\n",
    "%matplotlib inline\n",
    "import matplotlib\n",
    "import matplotlib.pyplot as plt\n",
    "plt.rcParams['axes.labelsize'] = 14\n",
    "plt.rcParams['xtick.labelsize'] = 12\n",
    "plt.rcParams['ytick.labelsize'] = 12\n",
    "plt.rcParams['font.family'] = 'sans-serif'\n",
    "plt.rcParams['font.sans-serif'] = 'Arial'\n",
    "# Where to save the figures\n",
    "PROJECT_ROOT_DIR = \".\"\n",
    "PROJECT_SAVE_DIR = \"Project\"\n",
    "\n",
    "import os\n",
    "if not (os.path.isdir(PROJECT_ROOT_DIR+'/'+PROJECT_SAVE_DIR)):\n",
    "    print('Figure directory didn''t exist, creating now.')\n",
    "    os.mkdir(PROJECT_ROOT_DIR+'/'+PROJECT_SAVE_DIR)\n",
    "else:\n",
    "    print('Figure directory exists.') \n",
    "    \n",
    "def savepdf(fig,name):\n",
    "    fig.savefig(PROJECT_ROOT_DIR+'/'+PROJECT_SAVE_DIR+'/'+name+'.pdf')\n",
    "\n",
    "import warnings\n",
    "warnings.filterwarnings(\"ignore\", category=DeprecationWarning) \n",
    "\n",
    "from os import listdir\n",
    "from os.path import isfile, join\n",
    "import tensorflow as tf\n",
    "import random\n",
    "import keras\n",
    "from keras import applications\n",
    "# from keras.utils import multi_gpu_model\n",
    "from keras.optimizers import RMSprop, SGD\n",
    "from keras.preprocessing.image import ImageDataGenerator\n",
    "# from keras.preprocessing import  image\n",
    "import keras.utils as image\n",
    "from keras import optimizers\n",
    "from keras.models import Sequential, Model, load_model\n",
    "from keras.layers import Dropout, Flatten, Dense, GlobalAveragePooling2D, GlobalMaxPooling2D, Conv2D, MaxPooling2D, Activation\n",
    "from keras import backend as k \n",
    "from keras.callbacks import ModelCheckpoint, Callback,LearningRateScheduler, TensorBoard, EarlyStopping\n",
    "# from keras.layers.normalization import BatchNormalization\n",
    "from keras.layers import BatchNormalization\n",
    "from keras.applications.vgg16 import VGG16\n",
    "from keras.applications.vgg19 import VGG19\n",
    "from keras.applications.vgg19 import preprocess_input\n"
   ]
  },
  {
   "cell_type": "markdown",
   "metadata": {
    "scrolled": true,
    "pycharm": {
     "name": "#%% md\n"
    }
   },
   "source": [
    "# Load in the Images "
   ]
  },
  {
   "cell_type": "code",
   "execution_count": 3,
   "metadata": {
    "scrolled": true,
    "pycharm": {
     "name": "#%%\n"
    }
   },
   "outputs": [
    {
     "data": {
      "text/plain": "['X_image_0_20200218_0.png',\n 'X_image_1_20200218_1.png',\n 'X_image_2_20200218_2.png',\n 'X_image_3_20200218_3.png',\n 'X_image_4_20200218_4.png',\n 'X_image_5_20200218_5.png',\n 'X_image_6_20200218_6.png',\n 'X_image_7_20200218_7.png',\n 'X_image_8_20200218_8.png',\n 'X_image_9_20200218_9.png',\n 'X_image_10_20200220_1.png',\n 'X_image_11_20200220_2.png',\n 'X_image_12_20200220_3.png',\n 'X_image_13_20200220_4.png',\n 'X_image_14_20200220_6.png',\n 'X_image_15_20200220_7.png',\n 'X_image_16_20200220_8.png',\n 'X_image_17_20200220_9.png',\n 'X_image_18_20200223_0.png',\n 'X_image_19_20200223_1.png',\n 'X_image_20_20200223_2.png',\n 'X_image_21_20200223_3.png',\n 'X_image_22_20200223_4.png',\n 'X_image_23_20200223_5.png',\n 'X_image_24_20200223_6.png',\n 'X_image_25_20200223_7.png',\n 'X_image_26_20200223_8.png',\n 'X_image_27_20200223_9.png',\n 'X_image_28_20200316_1.png',\n 'X_image_29_20200316_2.png',\n 'X_image_30_20200316_3.png',\n 'X_image_31_20200316_4.png',\n 'X_image_32_20200316_6.png',\n 'X_image_33_20200316_7.png',\n 'X_image_34_20200316_8.png',\n 'X_image_35_20200316_9.png',\n 'X_image_36_20200319_0.png',\n 'X_image_37_20200319_1.png',\n 'X_image_38_20200319_2.png',\n 'X_image_39_20200319_3.png',\n 'X_image_40_20200319_4.png',\n 'X_image_41_20200319_5.png',\n 'X_image_42_20200319_6.png',\n 'X_image_43_20200319_7.png',\n 'X_image_44_20200319_8.png',\n 'X_image_45_20200319_9.png',\n 'X_image_46_20200413_5.png',\n 'X_image_47_20200428_5.png',\n 'X_image_48_20200503_5.png',\n 'X_image_49_20200801_5.png',\n 'X_image_50_20200813_1.png',\n 'X_image_51_20200813_2.png',\n 'X_image_52_20200813_3.png',\n 'X_image_53_20200813_4.png',\n 'X_image_54_20200813_6.png',\n 'X_image_55_20200813_7.png',\n 'X_image_56_20200813_8.png',\n 'X_image_57_20200813_9.png',\n 'X_image_58_20200816_5.png',\n 'X_image_59_20200818_0.png',\n 'X_image_60_20200818_1.png',\n 'X_image_61_20200818_2.png',\n 'X_image_62_20200818_3.png',\n 'X_image_63_20200818_4.png',\n 'X_image_64_20200818_6.png',\n 'X_image_65_20200818_7.png',\n 'X_image_66_20200818_8.png',\n 'X_image_67_20200818_9.png',\n 'X_image_68_20200905_0.png',\n 'X_image_69_20200905_1.png',\n 'X_image_70_20200905_2.png',\n 'X_image_71_20200905_3.png',\n 'X_image_72_20200905_4.png',\n 'X_image_73_20200905_5.png',\n 'X_image_74_20200905_6.png',\n 'X_image_75_20200905_7.png',\n 'X_image_76_20200905_8.png',\n 'X_image_77_20200905_9.png',\n 'X_image_78_20200907_0.png',\n 'X_image_79_20200907_1.png',\n 'X_image_80_20200907_2.png',\n 'X_image_81_20200907_3.png',\n 'X_image_82_20200907_4.png',\n 'X_image_83_20200907_6.png',\n 'X_image_84_20200907_7.png',\n 'X_image_85_20200907_8.png',\n 'X_image_86_20200907_9.png',\n 'X_image_87_20201005_5.png',\n 'X_image_88_20201030_0.png',\n 'X_image_89_20201030_1.png',\n 'X_image_90_20201030_2.png',\n 'X_image_91_20201030_3.png',\n 'X_image_92_20201030_4.png',\n 'X_image_93_20201030_5.png',\n 'X_image_94_20201030_6.png',\n 'X_image_95_20201030_7.png',\n 'X_image_96_20201030_8.png',\n 'X_image_97_20201030_9.png',\n 'X_image_98_20201104_5.png',\n 'X_image_99_20201109_0.png',\n 'X_image_100_20201109_1.png',\n 'X_image_101_20201109_2.png',\n 'X_image_102_20201109_3.png',\n 'X_image_103_20201109_4.png',\n 'X_image_104_20201109_5.png',\n 'X_image_105_20201109_6.png',\n 'X_image_106_20201109_7.png',\n 'X_image_107_20201109_8.png',\n 'X_image_108_20201109_9.png',\n 'X_image_109_20201129_0.png',\n 'X_image_110_20201129_1.png',\n 'X_image_111_20201129_2.png',\n 'X_image_112_20201129_3.png',\n 'X_image_113_20201129_4.png',\n 'X_image_114_20201129_5.png',\n 'X_image_115_20201129_6.png',\n 'X_image_116_20201129_7.png',\n 'X_image_117_20201129_8.png',\n 'X_image_118_20201129_9.png',\n 'X_image_119_20201209_0.png',\n 'X_image_120_20201209_1.png',\n 'X_image_121_20201209_2.png',\n 'X_image_122_20201209_3.png',\n 'X_image_123_20201209_4.png',\n 'X_image_124_20201209_5.png',\n 'X_image_125_20201209_6.png',\n 'X_image_126_20201209_7.png',\n 'X_image_127_20201209_8.png',\n 'X_image_128_20201209_9.png',\n 'X_image_129_20201221_1.png',\n 'X_image_130_20201221_2.png',\n 'X_image_131_20201221_3.png',\n 'X_image_132_20201221_4.png',\n 'X_image_133_20201221_6.png',\n 'X_image_134_20201221_7.png',\n 'X_image_135_20201221_8.png',\n 'X_image_136_20201221_9.png']"
     },
     "execution_count": 3,
     "metadata": {},
     "output_type": "execute_result"
    }
   ],
   "source": [
    "my_X_images_folder = './X_image_Beijing'\n",
    "image_files = [f for f in listdir(my_X_images_folder) if isfile(join(my_X_images_folder, f)) and '.DS_Store' not in f ]\n",
    "image_files_sorted = sorted(image_files, key = lambda x: int(x.split('.')[0].split('_')[2]))\n",
    "\n",
    "image_files_sorted"
   ]
  },
  {
   "cell_type": "markdown",
   "metadata": {
    "pycharm": {
     "name": "#%% md\n"
    }
   },
   "source": [
    "# Use keras to preprocess images so that they have the correct forms for the ImageNet CNN models later"
   ]
  },
  {
   "cell_type": "code",
   "execution_count": 4,
   "metadata": {
    "pycharm": {
     "name": "#%%\n"
    }
   },
   "outputs": [],
   "source": [
    "def img_cropper(img, img_size):\n",
    "    y,x,_ = img.shape\n",
    "    startx = x//2-(img_size//2)\n",
    "    starty = y//2-(img_size//2)    \n",
    "    return img[starty:starty+img_size,startx:startx+img_size:,:3]"
   ]
  },
  {
   "cell_type": "code",
   "execution_count": 5,
   "metadata": {
    "pycharm": {
     "name": "#%%\n"
    }
   },
   "outputs": [],
   "source": [
    "#image_size = 67 #200 m * 200 m model\n",
    "#image_size = 167 #500 m * 500 m model\n",
    "image_size = 224 #670 m * 670 m model\n",
    "#image_size = 33 #100 m * 100 m model\n",
    "X_image = []\n",
    "for image_file in image_files_sorted:\n",
    "    img = image.load_img(my_X_images_folder+'/'+image_file)\n",
    "    x = image.img_to_array(img) \n",
    "    x = img_cropper(x, image_size)\n",
    "    x = np.expand_dims(x, axis=0) \n",
    "    x = preprocess_input(x)\n",
    "    X_image.append(x)"
   ]
  },
  {
   "cell_type": "code",
   "execution_count": 6,
   "metadata": {
    "pycharm": {
     "name": "#%%\n"
    }
   },
   "outputs": [],
   "source": [
    "y_PM25 = []\n",
    "with open(\"./y_PM25_Beijing/y_PM25_Beijing.txt\", \"r\") as f:\n",
    "    for line in f:\n",
    "        y_PM25.append(np.float32(float(line.strip())))"
   ]
  },
  {
   "cell_type": "code",
   "execution_count": 7,
   "metadata": {
    "pycharm": {
     "name": "#%%\n"
    }
   },
   "outputs": [],
   "source": [
    "## Train-Test Split\n",
    "\n",
    "dataset = list(zip(X_image, y_PM25))\n",
    "\n",
    "###shuffle dataset to get train, test datasets\n",
    "random.Random(42).shuffle(dataset)\n",
    "#random.shuffle(dataset)\n",
    "batch_size = 100\n",
    "total_batches = len(dataset) // batch_size\n",
    "train_batches = int(np.ceil(8 * total_batches / 10))\n",
    "test_batches = total_batches - train_batches\n",
    "train, test = dataset[:train_batches*batch_size], dataset[train_batches*batch_size:]"
   ]
  },
  {
   "cell_type": "code",
   "execution_count": 8,
   "metadata": {
    "pycharm": {
     "name": "#%%\n"
    }
   },
   "outputs": [],
   "source": [
    "X_train = np.array([item[0] for item in train]).reshape(-1,image_size,image_size,3)\n",
    "X_test = np.array([item[0] for item in test]).reshape(-1,image_size,image_size,3)\n",
    "y_train = np.array([item[1] for item in train]).reshape(-1)\n",
    "y_test = np.array([item[1] for item in test]).reshape(-1)"
   ]
  },
  {
   "cell_type": "markdown",
   "metadata": {
    "pycharm": {
     "name": "#%% md\n"
    }
   },
   "source": [
    "# Iterative fine-tuning VGG16 for an exxample 670 m resolution model (the 500 m and 200 m models are pretty much the same)"
   ]
  },
  {
   "cell_type": "code",
   "execution_count": 9,
   "metadata": {
    "pycharm": {
     "name": "#%%\n"
    }
   },
   "outputs": [],
   "source": [
    "VGG_finetune = VGG16(include_top=False, weights='imagenet', \\\n",
    "                            input_tensor=None, input_shape=(image_size, image_size, 3), pooling='max', classes=1000)"
   ]
  },
  {
   "cell_type": "code",
   "execution_count": 10,
   "metadata": {
    "pycharm": {
     "name": "#%%\n"
    }
   },
   "outputs": [],
   "source": [
    "for layer in VGG_finetune.layers[:]:\n",
    "    layer.trainable = False"
   ]
  },
  {
   "cell_type": "code",
   "execution_count": 12,
   "metadata": {
    "pycharm": {
     "name": "#%%\n"
    }
   },
   "outputs": [
    {
     "name": "stdout",
     "output_type": "stream",
     "text": [
      "Model: \"model\"\n",
      "_________________________________________________________________\n",
      " Layer (type)                Output Shape              Param #   \n",
      "=================================================================\n",
      " input_1 (InputLayer)        [(None, 224, 224, 3)]     0         \n",
      "                                                                 \n",
      " block1_conv1 (Conv2D)       (None, 224, 224, 64)      1792      \n",
      "                                                                 \n",
      " block1_conv2 (Conv2D)       (None, 224, 224, 64)      36928     \n",
      "                                                                 \n",
      " block1_pool (MaxPooling2D)  (None, 112, 112, 64)      0         \n",
      "                                                                 \n",
      " block2_conv1 (Conv2D)       (None, 112, 112, 128)     73856     \n",
      "                                                                 \n",
      " block2_conv2 (Conv2D)       (None, 112, 112, 128)     147584    \n",
      "                                                                 \n",
      " block2_pool (MaxPooling2D)  (None, 56, 56, 128)       0         \n",
      "                                                                 \n",
      " block3_conv1 (Conv2D)       (None, 56, 56, 256)       295168    \n",
      "                                                                 \n",
      " block3_conv2 (Conv2D)       (None, 56, 56, 256)       590080    \n",
      "                                                                 \n",
      " block3_conv3 (Conv2D)       (None, 56, 56, 256)       590080    \n",
      "                                                                 \n",
      " block3_pool (MaxPooling2D)  (None, 28, 28, 256)       0         \n",
      "                                                                 \n",
      " block4_conv1 (Conv2D)       (None, 28, 28, 512)       1180160   \n",
      "                                                                 \n",
      " block4_conv2 (Conv2D)       (None, 28, 28, 512)       2359808   \n",
      "                                                                 \n",
      " block4_conv3 (Conv2D)       (None, 28, 28, 512)       2359808   \n",
      "                                                                 \n",
      " block4_pool (MaxPooling2D)  (None, 14, 14, 512)       0         \n",
      "                                                                 \n",
      " block5_conv1 (Conv2D)       (None, 14, 14, 512)       2359808   \n",
      "                                                                 \n",
      " block5_conv2 (Conv2D)       (None, 14, 14, 512)       2359808   \n",
      "                                                                 \n",
      " block5_conv3 (Conv2D)       (None, 14, 14, 512)       2359808   \n",
      "                                                                 \n",
      " block5_pool (MaxPooling2D)  (None, 7, 7, 512)         0         \n",
      "                                                                 \n",
      " global_max_pooling2d (Globa  (None, 512)              0         \n",
      " lMaxPooling2D)                                                  \n",
      "                                                                 \n",
      " dropout_2 (Dropout)         (None, 512)               0         \n",
      "                                                                 \n",
      " dense_2 (Dense)             (None, 128)               65664     \n",
      "                                                                 \n",
      " dropout_3 (Dropout)         (None, 128)               0         \n",
      "                                                                 \n",
      " dense_3 (Dense)             (None, 1)                 129       \n",
      "                                                                 \n",
      "=================================================================\n",
      "Total params: 14,780,481\n",
      "Trainable params: 65,793\n",
      "Non-trainable params: 14,714,688\n",
      "_________________________________________________________________\n"
     ]
    }
   ],
   "source": [
    "x = VGG_finetune.output\n",
    "x = Dropout(0.5)(x) # 500, 200m models = 0.1\n",
    "x = Dense(128, activation=\"relu\")(x) #500=100, 200 m =80 \n",
    "x = Dropout(0.5)(x)\n",
    "predictions = Dense(1, activation=None)(x)\n",
    "# creating the final model \n",
    "model_final = Model(inputs = VGG_finetune.input, outputs = predictions)\n",
    "model_final.compile(optimizer=optimizers.Adam(), loss='mean_squared_error', metrics=['mse'])\n",
    "\n",
    "model_final.summary()"
   ]
  },
  {
   "cell_type": "code",
   "execution_count": 13,
   "metadata": {
    "pycharm": {
     "name": "#%%\n"
    }
   },
   "outputs": [],
   "source": [
    "train_datagen = ImageDataGenerator(\n",
    "                rotation_range=30, width_shift_range=0.1, height_shift_range=0.1, zoom_range = 0.5,\\\n",
    "                            fill_mode = 'reflect', horizontal_flip = True,vertical_flip=True, channel_shift_range = 0)\n",
    "\n",
    "test_datagen = ImageDataGenerator()"
   ]
  },
  {
   "cell_type": "code",
   "execution_count": 14,
   "metadata": {
    "pycharm": {
     "name": "#%%\n"
    }
   },
   "outputs": [],
   "source": [
    "train_generator = train_datagen.flow(X_train, y_train, batch_size=batch_size)\n",
    "validation_generator = test_datagen.flow(X_test, y_test, batch_size=batch_size)"
   ]
  },
  {
   "cell_type": "code",
   "execution_count": 15,
   "metadata": {
    "pycharm": {
     "name": "#%%\n"
    }
   },
   "outputs": [
    {
     "name": "stdout",
     "output_type": "stream",
     "text": [
      "WARNING:tensorflow:`period` argument is deprecated. Please use `save_freq` to specify the frequency in number of batches seen.\n"
     ]
    }
   ],
   "source": [
    "checkpoint = ModelCheckpoint(filepath='./checkpoint_VGG16_finetune_670m/checkpoint-{epoch:02d}-{val_loss:.2f}.hdf5', monitor='val_loss', verbose=1, save_best_only=False, save_weights_only=False, mode='auto', period=1)\n",
    "#early = EarlyStopping(monitor='val_loss', min_delta=0, patience=10, verbose=1, mode='auto')\n",
    "class LossHistory(Callback):\n",
    "    def on_train_begin(self, logs={}):\n",
    "        self.losses = []\n",
    "\n",
    "    def on_batch_end(self, batch, logs={}):\n",
    "        self.losses.append(logs.get('loss'))\n",
    "history = LossHistory()"
   ]
  },
  {
   "cell_type": "code",
   "execution_count": 16,
   "metadata": {
    "scrolled": true,
    "pycharm": {
     "name": "#%%\n"
    }
   },
   "outputs": [
    {
     "name": "stderr",
     "output_type": "stream",
     "text": [
      "C:\\Users\\benny\\AppData\\Local\\Temp\\ipykernel_26464\\3539016524.py:1: UserWarning: `Model.fit_generator` is deprecated and will be removed in a future version. Please use `Model.fit`, which supports generators.\n",
      "  model_final.fit_generator(train_generator, steps_per_epoch=len(X_train)//batch_size, epochs=60, verbose=1, callbacks=[checkpoint,history], validation_data=validation_generator, validation_steps=len(y_train)//batch_size\n"
     ]
    },
    {
     "name": "stdout",
     "output_type": "stream",
     "text": [
      "Epoch 1/60\n",
      "1/1 [==============================] - ETA: 0s - loss: 12131.6875 - mse: 12131.6875\n",
      "Epoch 1: saving model to ./checkpoint_VGG16_finetune_670m\\checkpoint-01-1122.46.hdf5\n",
      "1/1 [==============================] - 14s 14s/step - loss: 12131.6875 - mse: 12131.6875 - val_loss: 1122.4645 - val_mse: 1122.4645\n",
      "Epoch 2/60\n",
      "1/1 [==============================] - ETA: 0s - loss: 5267.9062 - mse: 5267.9062\n",
      "Epoch 2: saving model to ./checkpoint_VGG16_finetune_670m\\checkpoint-02-1060.92.hdf5\n",
      "1/1 [==============================] - 1s 1s/step - loss: 5267.9062 - mse: 5267.9062 - val_loss: 1060.9202 - val_mse: 1060.9202\n",
      "Epoch 3/60\n",
      "1/1 [==============================] - ETA: 0s - loss: 2855.0186 - mse: 2855.0186\n",
      "Epoch 3: saving model to ./checkpoint_VGG16_finetune_670m\\checkpoint-03-3724.75.hdf5\n",
      "1/1 [==============================] - 1s 1s/step - loss: 2855.0186 - mse: 2855.0186 - val_loss: 3724.7500 - val_mse: 3724.7500\n",
      "Epoch 4/60\n",
      "1/1 [==============================] - ETA: 0s - loss: 5102.8936 - mse: 5102.8936\n",
      "Epoch 4: saving model to ./checkpoint_VGG16_finetune_670m\\checkpoint-04-4759.80.hdf5\n",
      "1/1 [==============================] - 1s 1s/step - loss: 5102.8936 - mse: 5102.8936 - val_loss: 4759.8042 - val_mse: 4759.8042\n",
      "Epoch 5/60\n",
      "1/1 [==============================] - ETA: 0s - loss: 4783.5376 - mse: 4783.5376\n",
      "Epoch 5: saving model to ./checkpoint_VGG16_finetune_670m\\checkpoint-05-4096.59.hdf5\n",
      "1/1 [==============================] - 1s 1s/step - loss: 4783.5376 - mse: 4783.5376 - val_loss: 4096.5908 - val_mse: 4096.5908\n",
      "Epoch 6/60\n",
      "1/1 [==============================] - ETA: 0s - loss: 4622.3535 - mse: 4622.3535\n",
      "Epoch 6: saving model to ./checkpoint_VGG16_finetune_670m\\checkpoint-06-2778.02.hdf5\n",
      "1/1 [==============================] - 1s 1s/step - loss: 4622.3535 - mse: 4622.3535 - val_loss: 2778.0164 - val_mse: 2778.0164\n",
      "Epoch 7/60\n",
      "1/1 [==============================] - ETA: 0s - loss: 3475.4617 - mse: 3475.4617\n",
      "Epoch 7: saving model to ./checkpoint_VGG16_finetune_670m\\checkpoint-07-1535.96.hdf5\n",
      "1/1 [==============================] - 1s 1s/step - loss: 3475.4617 - mse: 3475.4617 - val_loss: 1535.9641 - val_mse: 1535.9641\n",
      "Epoch 8/60\n",
      "1/1 [==============================] - ETA: 0s - loss: 3250.6846 - mse: 3250.6846\n",
      "Epoch 8: saving model to ./checkpoint_VGG16_finetune_670m\\checkpoint-08-694.24.hdf5\n",
      "1/1 [==============================] - 1s 1s/step - loss: 3250.6846 - mse: 3250.6846 - val_loss: 694.2365 - val_mse: 694.2365\n",
      "Epoch 9/60\n",
      "1/1 [==============================] - ETA: 0s - loss: 1503.8699 - mse: 1503.8699\n",
      "Epoch 9: saving model to ./checkpoint_VGG16_finetune_670m\\checkpoint-09-346.57.hdf5\n",
      "1/1 [==============================] - 1s 1s/step - loss: 1503.8699 - mse: 1503.8699 - val_loss: 346.5663 - val_mse: 346.5663\n",
      "Epoch 10/60\n",
      "1/1 [==============================] - ETA: 0s - loss: 2084.3972 - mse: 2084.3972\n",
      "Epoch 10: saving model to ./checkpoint_VGG16_finetune_670m\\checkpoint-10-309.32.hdf5\n",
      "1/1 [==============================] - 1s 1s/step - loss: 2084.3972 - mse: 2084.3972 - val_loss: 309.3214 - val_mse: 309.3214\n",
      "Epoch 11/60\n",
      "1/1 [==============================] - ETA: 0s - loss: 2040.6879 - mse: 2040.6879\n",
      "Epoch 11: saving model to ./checkpoint_VGG16_finetune_670m\\checkpoint-11-396.81.hdf5\n",
      "1/1 [==============================] - 1s 1s/step - loss: 2040.6879 - mse: 2040.6879 - val_loss: 396.8051 - val_mse: 396.8051\n",
      "Epoch 12/60\n",
      "1/1 [==============================] - ETA: 0s - loss: 1817.0574 - mse: 1817.0574\n",
      "Epoch 12: saving model to ./checkpoint_VGG16_finetune_670m\\checkpoint-12-490.65.hdf5\n",
      "1/1 [==============================] - 1s 1s/step - loss: 1817.0574 - mse: 1817.0574 - val_loss: 490.6503 - val_mse: 490.6503\n",
      "Epoch 13/60\n",
      "1/1 [==============================] - ETA: 0s - loss: 2273.0994 - mse: 2273.0994\n",
      "Epoch 13: saving model to ./checkpoint_VGG16_finetune_670m\\checkpoint-13-519.69.hdf5\n",
      "1/1 [==============================] - 1s 1s/step - loss: 2273.0994 - mse: 2273.0994 - val_loss: 519.6906 - val_mse: 519.6906\n",
      "Epoch 14/60\n",
      "1/1 [==============================] - ETA: 0s - loss: 2936.8232 - mse: 2936.8232\n",
      "Epoch 14: saving model to ./checkpoint_VGG16_finetune_670m\\checkpoint-14-487.01.hdf5\n",
      "1/1 [==============================] - 1s 1s/step - loss: 2936.8232 - mse: 2936.8232 - val_loss: 487.0080 - val_mse: 487.0080\n",
      "Epoch 15/60\n",
      "1/1 [==============================] - ETA: 0s - loss: 2175.0586 - mse: 2175.0586\n",
      "Epoch 15: saving model to ./checkpoint_VGG16_finetune_670m\\checkpoint-15-409.79.hdf5\n",
      "1/1 [==============================] - 2s 2s/step - loss: 2175.0586 - mse: 2175.0586 - val_loss: 409.7874 - val_mse: 409.7874\n",
      "Epoch 16/60\n",
      "1/1 [==============================] - ETA: 0s - loss: 2077.7021 - mse: 2077.7021\n",
      "Epoch 16: saving model to ./checkpoint_VGG16_finetune_670m\\checkpoint-16-332.95.hdf5\n",
      "1/1 [==============================] - 1s 1s/step - loss: 2077.7021 - mse: 2077.7021 - val_loss: 332.9476 - val_mse: 332.9476\n",
      "Epoch 17/60\n",
      "1/1 [==============================] - ETA: 0s - loss: 1548.5620 - mse: 1548.5620\n",
      "Epoch 17: saving model to ./checkpoint_VGG16_finetune_670m\\checkpoint-17-274.52.hdf5\n",
      "1/1 [==============================] - 1s 1s/step - loss: 1548.5620 - mse: 1548.5620 - val_loss: 274.5229 - val_mse: 274.5229\n",
      "Epoch 18/60\n",
      "1/1 [==============================] - ETA: 0s - loss: 1567.4937 - mse: 1567.4937\n",
      "Epoch 18: saving model to ./checkpoint_VGG16_finetune_670m\\checkpoint-18-238.15.hdf5\n",
      "1/1 [==============================] - 1s 1s/step - loss: 1567.4937 - mse: 1567.4937 - val_loss: 238.1463 - val_mse: 238.1463\n",
      "Epoch 19/60\n",
      "1/1 [==============================] - ETA: 0s - loss: 1292.8345 - mse: 1292.8345\n",
      "Epoch 19: saving model to ./checkpoint_VGG16_finetune_670m\\checkpoint-19-228.72.hdf5\n",
      "1/1 [==============================] - 1s 1s/step - loss: 1292.8345 - mse: 1292.8345 - val_loss: 228.7217 - val_mse: 228.7217\n",
      "Epoch 20/60\n",
      "1/1 [==============================] - ETA: 0s - loss: 1109.0110 - mse: 1109.0110\n",
      "Epoch 20: saving model to ./checkpoint_VGG16_finetune_670m\\checkpoint-20-238.61.hdf5\n",
      "1/1 [==============================] - 1s 1s/step - loss: 1109.0110 - mse: 1109.0110 - val_loss: 238.6124 - val_mse: 238.6124\n",
      "Epoch 21/60\n",
      "1/1 [==============================] - ETA: 0s - loss: 1353.8984 - mse: 1353.8984\n",
      "Epoch 21: saving model to ./checkpoint_VGG16_finetune_670m\\checkpoint-21-255.19.hdf5\n",
      "1/1 [==============================] - 1s 1s/step - loss: 1353.8984 - mse: 1353.8984 - val_loss: 255.1937 - val_mse: 255.1937\n",
      "Epoch 22/60\n",
      "1/1 [==============================] - ETA: 0s - loss: 941.1824 - mse: 941.1824\n",
      "Epoch 22: saving model to ./checkpoint_VGG16_finetune_670m\\checkpoint-22-265.71.hdf5\n",
      "1/1 [==============================] - 1s 1s/step - loss: 941.1824 - mse: 941.1824 - val_loss: 265.7096 - val_mse: 265.7096\n",
      "Epoch 23/60\n",
      "1/1 [==============================] - ETA: 0s - loss: 1064.7922 - mse: 1064.7922\n",
      "Epoch 23: saving model to ./checkpoint_VGG16_finetune_670m\\checkpoint-23-266.36.hdf5\n",
      "1/1 [==============================] - 1s 1s/step - loss: 1064.7922 - mse: 1064.7922 - val_loss: 266.3570 - val_mse: 266.3570\n",
      "Epoch 24/60\n",
      "1/1 [==============================] - ETA: 0s - loss: 966.7095 - mse: 966.7095\n",
      "Epoch 24: saving model to ./checkpoint_VGG16_finetune_670m\\checkpoint-24-258.08.hdf5\n",
      "1/1 [==============================] - 1s 1s/step - loss: 966.7095 - mse: 966.7095 - val_loss: 258.0753 - val_mse: 258.0753\n",
      "Epoch 25/60\n",
      "1/1 [==============================] - ETA: 0s - loss: 892.0698 - mse: 892.0698\n",
      "Epoch 25: saving model to ./checkpoint_VGG16_finetune_670m\\checkpoint-25-243.87.hdf5\n",
      "1/1 [==============================] - 1s 1s/step - loss: 892.0698 - mse: 892.0698 - val_loss: 243.8691 - val_mse: 243.8691\n",
      "Epoch 26/60\n",
      "1/1 [==============================] - ETA: 0s - loss: 641.9070 - mse: 641.9070\n",
      "Epoch 26: saving model to ./checkpoint_VGG16_finetune_670m\\checkpoint-26-225.97.hdf5\n",
      "1/1 [==============================] - 1s 1s/step - loss: 641.9070 - mse: 641.9070 - val_loss: 225.9656 - val_mse: 225.9656\n",
      "Epoch 27/60\n",
      "1/1 [==============================] - ETA: 0s - loss: 1216.0643 - mse: 1216.0643\n",
      "Epoch 27: saving model to ./checkpoint_VGG16_finetune_670m\\checkpoint-27-199.75.hdf5\n",
      "1/1 [==============================] - 1s 1s/step - loss: 1216.0643 - mse: 1216.0643 - val_loss: 199.7524 - val_mse: 199.7524\n",
      "Epoch 28/60\n",
      "1/1 [==============================] - ETA: 0s - loss: 731.1562 - mse: 731.1562\n",
      "Epoch 28: saving model to ./checkpoint_VGG16_finetune_670m\\checkpoint-28-175.69.hdf5\n",
      "1/1 [==============================] - 1s 1s/step - loss: 731.1562 - mse: 731.1562 - val_loss: 175.6880 - val_mse: 175.6880\n",
      "Epoch 29/60\n",
      "1/1 [==============================] - ETA: 0s - loss: 825.2074 - mse: 825.2074\n",
      "Epoch 29: saving model to ./checkpoint_VGG16_finetune_670m\\checkpoint-29-157.45.hdf5\n",
      "1/1 [==============================] - 1s 1s/step - loss: 825.2074 - mse: 825.2074 - val_loss: 157.4474 - val_mse: 157.4474\n",
      "Epoch 30/60\n",
      "1/1 [==============================] - ETA: 0s - loss: 709.2485 - mse: 709.2485\n",
      "Epoch 30: saving model to ./checkpoint_VGG16_finetune_670m\\checkpoint-30-146.09.hdf5\n",
      "1/1 [==============================] - 1s 1s/step - loss: 709.2485 - mse: 709.2485 - val_loss: 146.0944 - val_mse: 146.0944\n",
      "Epoch 31/60\n",
      "1/1 [==============================] - ETA: 0s - loss: 572.8242 - mse: 572.8242\n",
      "Epoch 31: saving model to ./checkpoint_VGG16_finetune_670m\\checkpoint-31-140.71.hdf5\n",
      "1/1 [==============================] - 1s 1s/step - loss: 572.8242 - mse: 572.8242 - val_loss: 140.7077 - val_mse: 140.7077\n",
      "Epoch 32/60\n",
      "1/1 [==============================] - ETA: 0s - loss: 750.2906 - mse: 750.2906\n",
      "Epoch 32: saving model to ./checkpoint_VGG16_finetune_670m\\checkpoint-32-139.81.hdf5\n",
      "1/1 [==============================] - 1s 1s/step - loss: 750.2906 - mse: 750.2906 - val_loss: 139.8054 - val_mse: 139.8054\n",
      "Epoch 33/60\n",
      "1/1 [==============================] - ETA: 0s - loss: 718.7076 - mse: 718.7076\n",
      "Epoch 33: saving model to ./checkpoint_VGG16_finetune_670m\\checkpoint-33-144.34.hdf5\n",
      "1/1 [==============================] - 1s 1s/step - loss: 718.7076 - mse: 718.7076 - val_loss: 144.3385 - val_mse: 144.3385\n",
      "Epoch 34/60\n",
      "1/1 [==============================] - ETA: 0s - loss: 791.5101 - mse: 791.5101\n",
      "Epoch 34: saving model to ./checkpoint_VGG16_finetune_670m\\checkpoint-34-154.63.hdf5\n",
      "1/1 [==============================] - 1s 1s/step - loss: 791.5101 - mse: 791.5101 - val_loss: 154.6294 - val_mse: 154.6294\n",
      "Epoch 35/60\n",
      "1/1 [==============================] - ETA: 0s - loss: 653.3277 - mse: 653.3277\n",
      "Epoch 35: saving model to ./checkpoint_VGG16_finetune_670m\\checkpoint-35-170.58.hdf5\n",
      "1/1 [==============================] - 1s 1s/step - loss: 653.3277 - mse: 653.3277 - val_loss: 170.5830 - val_mse: 170.5830\n",
      "Epoch 36/60\n",
      "1/1 [==============================] - ETA: 0s - loss: 743.4088 - mse: 743.4088\n",
      "Epoch 36: saving model to ./checkpoint_VGG16_finetune_670m\\checkpoint-36-190.87.hdf5\n",
      "1/1 [==============================] - 1s 1s/step - loss: 743.4088 - mse: 743.4088 - val_loss: 190.8722 - val_mse: 190.8722\n",
      "Epoch 37/60\n",
      "1/1 [==============================] - ETA: 0s - loss: 774.1467 - mse: 774.1467\n",
      "Epoch 37: saving model to ./checkpoint_VGG16_finetune_670m\\checkpoint-37-211.53.hdf5\n",
      "1/1 [==============================] - 1s 1s/step - loss: 774.1467 - mse: 774.1467 - val_loss: 211.5326 - val_mse: 211.5326\n",
      "Epoch 38/60\n",
      "1/1 [==============================] - ETA: 0s - loss: 623.8005 - mse: 623.8005\n",
      "Epoch 38: saving model to ./checkpoint_VGG16_finetune_670m\\checkpoint-38-233.42.hdf5\n",
      "1/1 [==============================] - 1s 1s/step - loss: 623.8005 - mse: 623.8005 - val_loss: 233.4221 - val_mse: 233.4221\n",
      "Epoch 39/60\n",
      "1/1 [==============================] - ETA: 0s - loss: 616.4370 - mse: 616.4370\n",
      "Epoch 39: saving model to ./checkpoint_VGG16_finetune_670m\\checkpoint-39-254.26.hdf5\n",
      "1/1 [==============================] - 1s 1s/step - loss: 616.4370 - mse: 616.4370 - val_loss: 254.2563 - val_mse: 254.2563\n",
      "Epoch 40/60\n",
      "1/1 [==============================] - ETA: 0s - loss: 780.5424 - mse: 780.5424\n",
      "Epoch 40: saving model to ./checkpoint_VGG16_finetune_670m\\checkpoint-40-275.40.hdf5\n",
      "1/1 [==============================] - 1s 1s/step - loss: 780.5424 - mse: 780.5424 - val_loss: 275.3970 - val_mse: 275.3970\n",
      "Epoch 41/60\n",
      "1/1 [==============================] - ETA: 0s - loss: 528.8859 - mse: 528.8859\n",
      "Epoch 41: saving model to ./checkpoint_VGG16_finetune_670m\\checkpoint-41-292.36.hdf5\n",
      "1/1 [==============================] - 1s 1s/step - loss: 528.8859 - mse: 528.8859 - val_loss: 292.3631 - val_mse: 292.3631\n",
      "Epoch 42/60\n",
      "1/1 [==============================] - ETA: 0s - loss: 679.8541 - mse: 679.8541\n",
      "Epoch 42: saving model to ./checkpoint_VGG16_finetune_670m\\checkpoint-42-300.47.hdf5\n",
      "1/1 [==============================] - 1s 1s/step - loss: 679.8541 - mse: 679.8541 - val_loss: 300.4683 - val_mse: 300.4683\n",
      "Epoch 43/60\n",
      "1/1 [==============================] - ETA: 0s - loss: 616.7943 - mse: 616.7943\n",
      "Epoch 43: saving model to ./checkpoint_VGG16_finetune_670m\\checkpoint-43-304.66.hdf5\n",
      "1/1 [==============================] - 1s 1s/step - loss: 616.7943 - mse: 616.7943 - val_loss: 304.6615 - val_mse: 304.6615\n",
      "Epoch 44/60\n",
      "1/1 [==============================] - ETA: 0s - loss: 526.5524 - mse: 526.5524\n",
      "Epoch 44: saving model to ./checkpoint_VGG16_finetune_670m\\checkpoint-44-306.73.hdf5\n",
      "1/1 [==============================] - 1s 1s/step - loss: 526.5524 - mse: 526.5524 - val_loss: 306.7253 - val_mse: 306.7253\n",
      "Epoch 45/60\n",
      "1/1 [==============================] - ETA: 0s - loss: 705.6526 - mse: 705.6526\n",
      "Epoch 45: saving model to ./checkpoint_VGG16_finetune_670m\\checkpoint-45-306.36.hdf5\n",
      "1/1 [==============================] - 1s 1s/step - loss: 705.6526 - mse: 705.6526 - val_loss: 306.3615 - val_mse: 306.3615\n",
      "Epoch 46/60\n",
      "1/1 [==============================] - ETA: 0s - loss: 645.2783 - mse: 645.2783\n",
      "Epoch 46: saving model to ./checkpoint_VGG16_finetune_670m\\checkpoint-46-297.91.hdf5\n",
      "1/1 [==============================] - 1s 1s/step - loss: 645.2783 - mse: 645.2783 - val_loss: 297.9140 - val_mse: 297.9140\n",
      "Epoch 47/60\n",
      "1/1 [==============================] - ETA: 0s - loss: 678.6692 - mse: 678.6692\n",
      "Epoch 47: saving model to ./checkpoint_VGG16_finetune_670m\\checkpoint-47-286.92.hdf5\n",
      "1/1 [==============================] - 1s 1s/step - loss: 678.6692 - mse: 678.6692 - val_loss: 286.9198 - val_mse: 286.9198\n",
      "Epoch 48/60\n",
      "1/1 [==============================] - ETA: 0s - loss: 558.1840 - mse: 558.1840\n",
      "Epoch 48: saving model to ./checkpoint_VGG16_finetune_670m\\checkpoint-48-273.31.hdf5\n",
      "1/1 [==============================] - 1s 1s/step - loss: 558.1840 - mse: 558.1840 - val_loss: 273.3122 - val_mse: 273.3122\n",
      "Epoch 49/60\n",
      "1/1 [==============================] - ETA: 0s - loss: 522.9939 - mse: 522.9939\n",
      "Epoch 49: saving model to ./checkpoint_VGG16_finetune_670m\\checkpoint-49-263.56.hdf5\n",
      "1/1 [==============================] - 1s 1s/step - loss: 522.9939 - mse: 522.9939 - val_loss: 263.5622 - val_mse: 263.5622\n",
      "Epoch 50/60\n",
      "1/1 [==============================] - ETA: 0s - loss: 511.5904 - mse: 511.5904\n",
      "Epoch 50: saving model to ./checkpoint_VGG16_finetune_670m\\checkpoint-50-254.27.hdf5\n",
      "1/1 [==============================] - 1s 1s/step - loss: 511.5904 - mse: 511.5904 - val_loss: 254.2654 - val_mse: 254.2654\n",
      "Epoch 51/60\n",
      "1/1 [==============================] - ETA: 0s - loss: 648.2350 - mse: 648.2350\n",
      "Epoch 51: saving model to ./checkpoint_VGG16_finetune_670m\\checkpoint-51-248.13.hdf5\n",
      "1/1 [==============================] - 1s 1s/step - loss: 648.2350 - mse: 648.2350 - val_loss: 248.1337 - val_mse: 248.1337\n",
      "Epoch 52/60\n",
      "1/1 [==============================] - ETA: 0s - loss: 522.7831 - mse: 522.7831\n",
      "Epoch 52: saving model to ./checkpoint_VGG16_finetune_670m\\checkpoint-52-246.40.hdf5\n",
      "1/1 [==============================] - 1s 1s/step - loss: 522.7831 - mse: 522.7831 - val_loss: 246.4027 - val_mse: 246.4027\n",
      "Epoch 53/60\n",
      "1/1 [==============================] - ETA: 0s - loss: 540.8730 - mse: 540.8730\n",
      "Epoch 53: saving model to ./checkpoint_VGG16_finetune_670m\\checkpoint-53-242.77.hdf5\n",
      "1/1 [==============================] - 1s 1s/step - loss: 540.8730 - mse: 540.8730 - val_loss: 242.7707 - val_mse: 242.7707\n",
      "Epoch 54/60\n",
      "1/1 [==============================] - ETA: 0s - loss: 726.4514 - mse: 726.4514\n",
      "Epoch 54: saving model to ./checkpoint_VGG16_finetune_670m\\checkpoint-54-240.62.hdf5\n",
      "1/1 [==============================] - 1s 1s/step - loss: 726.4514 - mse: 726.4514 - val_loss: 240.6224 - val_mse: 240.6224\n",
      "Epoch 55/60\n",
      "1/1 [==============================] - ETA: 0s - loss: 638.4031 - mse: 638.4031\n",
      "Epoch 55: saving model to ./checkpoint_VGG16_finetune_670m\\checkpoint-55-243.99.hdf5\n",
      "1/1 [==============================] - 1s 1s/step - loss: 638.4031 - mse: 638.4031 - val_loss: 243.9873 - val_mse: 243.9873\n",
      "Epoch 56/60\n",
      "1/1 [==============================] - ETA: 0s - loss: 528.8514 - mse: 528.8514\n",
      "Epoch 56: saving model to ./checkpoint_VGG16_finetune_670m\\checkpoint-56-248.94.hdf5\n",
      "1/1 [==============================] - 1s 1s/step - loss: 528.8514 - mse: 528.8514 - val_loss: 248.9430 - val_mse: 248.9430\n",
      "Epoch 57/60\n",
      "1/1 [==============================] - ETA: 0s - loss: 452.3047 - mse: 452.3047\n",
      "Epoch 57: saving model to ./checkpoint_VGG16_finetune_670m\\checkpoint-57-255.79.hdf5\n",
      "1/1 [==============================] - 1s 1s/step - loss: 452.3047 - mse: 452.3047 - val_loss: 255.7892 - val_mse: 255.7892\n",
      "Epoch 58/60\n",
      "1/1 [==============================] - ETA: 0s - loss: 465.3482 - mse: 465.3482\n",
      "Epoch 58: saving model to ./checkpoint_VGG16_finetune_670m\\checkpoint-58-260.82.hdf5\n",
      "1/1 [==============================] - 1s 1s/step - loss: 465.3482 - mse: 465.3482 - val_loss: 260.8207 - val_mse: 260.8207\n",
      "Epoch 59/60\n",
      "1/1 [==============================] - ETA: 0s - loss: 483.7096 - mse: 483.7096\n",
      "Epoch 59: saving model to ./checkpoint_VGG16_finetune_670m\\checkpoint-59-266.58.hdf5\n",
      "1/1 [==============================] - 1s 1s/step - loss: 483.7096 - mse: 483.7096 - val_loss: 266.5806 - val_mse: 266.5806\n",
      "Epoch 60/60\n",
      "1/1 [==============================] - ETA: 0s - loss: 535.6085 - mse: 535.6085\n",
      "Epoch 60: saving model to ./checkpoint_VGG16_finetune_670m\\checkpoint-60-273.07.hdf5\n",
      "1/1 [==============================] - 1s 1s/step - loss: 535.6085 - mse: 535.6085 - val_loss: 273.0686 - val_mse: 273.0686\n"
     ]
    },
    {
     "data": {
      "text/plain": "<keras.callbacks.History at 0x155416ce2b0>"
     },
     "execution_count": 16,
     "metadata": {},
     "output_type": "execute_result"
    }
   ],
   "source": [
    "model_final.fit_generator(train_generator, steps_per_epoch=len(X_train)//batch_size, epochs=60, verbose=1, callbacks=[checkpoint,history], validation_data=validation_generator, validation_steps=len(y_train)//batch_size\n",
    "              )"
   ]
  },
  {
   "cell_type": "markdown",
   "metadata": {
    "pycharm": {
     "name": "#%% md\n"
    }
   },
   "source": [
    "# What about retrain the last conv. layer"
   ]
  },
  {
   "cell_type": "code",
   "execution_count": 17,
   "metadata": {
    "pycharm": {
     "name": "#%%\n"
    }
   },
   "outputs": [],
   "source": [
    "VGG_finetune = VGG16(include_top=False, weights='imagenet', \\\n",
    "                            input_tensor=None, input_shape=(image_size, image_size, 3), pooling='max', classes=1000)"
   ]
  },
  {
   "cell_type": "code",
   "execution_count": 18,
   "metadata": {
    "pycharm": {
     "name": "#%%\n"
    }
   },
   "outputs": [],
   "source": [
    "for layer in VGG_finetune.layers[:-3]:\n",
    "    layer.trainable = False\n",
    "for layer in VGG_finetune.layers[-3:]:\n",
    "    layer.trainable = True"
   ]
  },
  {
   "cell_type": "code",
   "execution_count": 19,
   "metadata": {
    "pycharm": {
     "name": "#%%\n"
    }
   },
   "outputs": [
    {
     "name": "stdout",
     "output_type": "stream",
     "text": [
      "Model: \"vgg16\"\n",
      "_________________________________________________________________\n",
      " Layer (type)                Output Shape              Param #   \n",
      "=================================================================\n",
      " input_2 (InputLayer)        [(None, 224, 224, 3)]     0         \n",
      "                                                                 \n",
      " block1_conv1 (Conv2D)       (None, 224, 224, 64)      1792      \n",
      "                                                                 \n",
      " block1_conv2 (Conv2D)       (None, 224, 224, 64)      36928     \n",
      "                                                                 \n",
      " block1_pool (MaxPooling2D)  (None, 112, 112, 64)      0         \n",
      "                                                                 \n",
      " block2_conv1 (Conv2D)       (None, 112, 112, 128)     73856     \n",
      "                                                                 \n",
      " block2_conv2 (Conv2D)       (None, 112, 112, 128)     147584    \n",
      "                                                                 \n",
      " block2_pool (MaxPooling2D)  (None, 56, 56, 128)       0         \n",
      "                                                                 \n",
      " block3_conv1 (Conv2D)       (None, 56, 56, 256)       295168    \n",
      "                                                                 \n",
      " block3_conv2 (Conv2D)       (None, 56, 56, 256)       590080    \n",
      "                                                                 \n",
      " block3_conv3 (Conv2D)       (None, 56, 56, 256)       590080    \n",
      "                                                                 \n",
      " block3_pool (MaxPooling2D)  (None, 28, 28, 256)       0         \n",
      "                                                                 \n",
      " block4_conv1 (Conv2D)       (None, 28, 28, 512)       1180160   \n",
      "                                                                 \n",
      " block4_conv2 (Conv2D)       (None, 28, 28, 512)       2359808   \n",
      "                                                                 \n",
      " block4_conv3 (Conv2D)       (None, 28, 28, 512)       2359808   \n",
      "                                                                 \n",
      " block4_pool (MaxPooling2D)  (None, 14, 14, 512)       0         \n",
      "                                                                 \n",
      " block5_conv1 (Conv2D)       (None, 14, 14, 512)       2359808   \n",
      "                                                                 \n",
      " block5_conv2 (Conv2D)       (None, 14, 14, 512)       2359808   \n",
      "                                                                 \n",
      " block5_conv3 (Conv2D)       (None, 14, 14, 512)       2359808   \n",
      "                                                                 \n",
      " block5_pool (MaxPooling2D)  (None, 7, 7, 512)         0         \n",
      "                                                                 \n",
      " global_max_pooling2d_1 (Glo  (None, 512)              0         \n",
      " balMaxPooling2D)                                                \n",
      "                                                                 \n",
      "=================================================================\n",
      "Total params: 14,714,688\n",
      "Trainable params: 2,359,808\n",
      "Non-trainable params: 12,354,880\n",
      "_________________________________________________________________\n"
     ]
    }
   ],
   "source": [
    "VGG_finetune.summary()"
   ]
  },
  {
   "cell_type": "code",
   "execution_count": 21,
   "metadata": {
    "pycharm": {
     "name": "#%%\n"
    }
   },
   "outputs": [],
   "source": [
    "# load your best model from the last training here\n",
    "model = load_model('./checkpoint_VGG16_finetune_670m/checkpoint-31-140.71.hdf5') #670m"
   ]
  },
  {
   "cell_type": "code",
   "execution_count": 22,
   "metadata": {
    "pycharm": {
     "name": "#%%\n"
    }
   },
   "outputs": [],
   "source": [
    "weights_128 = model.layers[-3].get_weights()\n",
    "\n",
    "weights_1 = model.layers[-1].get_weights()"
   ]
  },
  {
   "cell_type": "code",
   "execution_count": 23,
   "metadata": {
    "pycharm": {
     "name": "#%%\n"
    }
   },
   "outputs": [
    {
     "name": "stdout",
     "output_type": "stream",
     "text": [
      "Model: \"model\"\n",
      "_________________________________________________________________\n",
      " Layer (type)                Output Shape              Param #   \n",
      "=================================================================\n",
      " input_1 (InputLayer)        [(None, 224, 224, 3)]     0         \n",
      "                                                                 \n",
      " block1_conv1 (Conv2D)       (None, 224, 224, 64)      1792      \n",
      "                                                                 \n",
      " block1_conv2 (Conv2D)       (None, 224, 224, 64)      36928     \n",
      "                                                                 \n",
      " block1_pool (MaxPooling2D)  (None, 112, 112, 64)      0         \n",
      "                                                                 \n",
      " block2_conv1 (Conv2D)       (None, 112, 112, 128)     73856     \n",
      "                                                                 \n",
      " block2_conv2 (Conv2D)       (None, 112, 112, 128)     147584    \n",
      "                                                                 \n",
      " block2_pool (MaxPooling2D)  (None, 56, 56, 128)       0         \n",
      "                                                                 \n",
      " block3_conv1 (Conv2D)       (None, 56, 56, 256)       295168    \n",
      "                                                                 \n",
      " block3_conv2 (Conv2D)       (None, 56, 56, 256)       590080    \n",
      "                                                                 \n",
      " block3_conv3 (Conv2D)       (None, 56, 56, 256)       590080    \n",
      "                                                                 \n",
      " block3_pool (MaxPooling2D)  (None, 28, 28, 256)       0         \n",
      "                                                                 \n",
      " block4_conv1 (Conv2D)       (None, 28, 28, 512)       1180160   \n",
      "                                                                 \n",
      " block4_conv2 (Conv2D)       (None, 28, 28, 512)       2359808   \n",
      "                                                                 \n",
      " block4_conv3 (Conv2D)       (None, 28, 28, 512)       2359808   \n",
      "                                                                 \n",
      " block4_pool (MaxPooling2D)  (None, 14, 14, 512)       0         \n",
      "                                                                 \n",
      " block5_conv1 (Conv2D)       (None, 14, 14, 512)       2359808   \n",
      "                                                                 \n",
      " block5_conv2 (Conv2D)       (None, 14, 14, 512)       2359808   \n",
      "                                                                 \n",
      " block5_conv3 (Conv2D)       (None, 14, 14, 512)       2359808   \n",
      "                                                                 \n",
      " block5_pool (MaxPooling2D)  (None, 7, 7, 512)         0         \n",
      "                                                                 \n",
      " global_max_pooling2d (Globa  (None, 512)              0         \n",
      " lMaxPooling2D)                                                  \n",
      "                                                                 \n",
      " dropout_2 (Dropout)         (None, 512)               0         \n",
      "                                                                 \n",
      " dense_2 (Dense)             (None, 128)               65664     \n",
      "                                                                 \n",
      " dropout_3 (Dropout)         (None, 128)               0         \n",
      "                                                                 \n",
      " dense_3 (Dense)             (None, 1)                 129       \n",
      "                                                                 \n",
      "=================================================================\n",
      "Total params: 14,780,481\n",
      "Trainable params: 65,793\n",
      "Non-trainable params: 14,714,688\n",
      "_________________________________________________________________\n"
     ]
    }
   ],
   "source": [
    "model.summary()"
   ]
  },
  {
   "cell_type": "markdown",
   "metadata": {
    "pycharm": {
     "name": "#%% md\n"
    }
   },
   "source": [
    "# then"
   ]
  },
  {
   "cell_type": "code",
   "execution_count": 25,
   "metadata": {
    "pycharm": {
     "name": "#%%\n"
    }
   },
   "outputs": [
    {
     "name": "stdout",
     "output_type": "stream",
     "text": [
      "Model: \"model_1\"\n",
      "_________________________________________________________________\n",
      " Layer (type)                Output Shape              Param #   \n",
      "=================================================================\n",
      " input_2 (InputLayer)        [(None, 224, 224, 3)]     0         \n",
      "                                                                 \n",
      " block1_conv1 (Conv2D)       (None, 224, 224, 64)      1792      \n",
      "                                                                 \n",
      " block1_conv2 (Conv2D)       (None, 224, 224, 64)      36928     \n",
      "                                                                 \n",
      " block1_pool (MaxPooling2D)  (None, 112, 112, 64)      0         \n",
      "                                                                 \n",
      " block2_conv1 (Conv2D)       (None, 112, 112, 128)     73856     \n",
      "                                                                 \n",
      " block2_conv2 (Conv2D)       (None, 112, 112, 128)     147584    \n",
      "                                                                 \n",
      " block2_pool (MaxPooling2D)  (None, 56, 56, 128)       0         \n",
      "                                                                 \n",
      " block3_conv1 (Conv2D)       (None, 56, 56, 256)       295168    \n",
      "                                                                 \n",
      " block3_conv2 (Conv2D)       (None, 56, 56, 256)       590080    \n",
      "                                                                 \n",
      " block3_conv3 (Conv2D)       (None, 56, 56, 256)       590080    \n",
      "                                                                 \n",
      " block3_pool (MaxPooling2D)  (None, 28, 28, 256)       0         \n",
      "                                                                 \n",
      " block4_conv1 (Conv2D)       (None, 28, 28, 512)       1180160   \n",
      "                                                                 \n",
      " block4_conv2 (Conv2D)       (None, 28, 28, 512)       2359808   \n",
      "                                                                 \n",
      " block4_conv3 (Conv2D)       (None, 28, 28, 512)       2359808   \n",
      "                                                                 \n",
      " block4_pool (MaxPooling2D)  (None, 14, 14, 512)       0         \n",
      "                                                                 \n",
      " block5_conv1 (Conv2D)       (None, 14, 14, 512)       2359808   \n",
      "                                                                 \n",
      " block5_conv2 (Conv2D)       (None, 14, 14, 512)       2359808   \n",
      "                                                                 \n",
      " block5_conv3 (Conv2D)       (None, 14, 14, 512)       2359808   \n",
      "                                                                 \n",
      " block5_pool (MaxPooling2D)  (None, 7, 7, 512)         0         \n",
      "                                                                 \n",
      " global_max_pooling2d_1 (Glo  (None, 512)              0         \n",
      " balMaxPooling2D)                                                \n",
      "                                                                 \n",
      " dropout_6 (Dropout)         (None, 512)               0         \n",
      "                                                                 \n",
      " dense_6 (Dense)             (None, 128)               65664     \n",
      "                                                                 \n",
      " dropout_7 (Dropout)         (None, 128)               0         \n",
      "                                                                 \n",
      " dense_7 (Dense)             (None, 1)                 129       \n",
      "                                                                 \n",
      "=================================================================\n",
      "Total params: 14,780,481\n",
      "Trainable params: 2,425,601\n",
      "Non-trainable params: 12,354,880\n",
      "_________________________________________________________________\n"
     ]
    }
   ],
   "source": [
    "x = VGG_finetune.output\n",
    "x = Dropout(0.5)(x)\n",
    "x = Dense(128, activation=\"relu\",weights = weights_128)(x) \n",
    "x = Dropout(0.5)(x)\n",
    "predictions = Dense(1, activation=None, weights = weights_1)(x)\n",
    "# creating the final model \n",
    "model_final = Model(inputs = VGG_finetune.input, outputs = predictions)\n",
    "model_final.compile(optimizer=optimizers.Adam(), loss='mean_squared_error', metrics=['mse'])\n",
    "\n",
    "model_final.summary()"
   ]
  },
  {
   "cell_type": "code",
   "execution_count": 26,
   "metadata": {
    "pycharm": {
     "name": "#%%\n"
    }
   },
   "outputs": [],
   "source": [
    "for layer in model_final.layers[-3:]:\n",
    "    layer.trainable = False"
   ]
  },
  {
   "cell_type": "code",
   "execution_count": 27,
   "metadata": {
    "pycharm": {
     "name": "#%%\n"
    }
   },
   "outputs": [
    {
     "name": "stdout",
     "output_type": "stream",
     "text": [
      "Model: \"model_1\"\n",
      "_________________________________________________________________\n",
      " Layer (type)                Output Shape              Param #   \n",
      "=================================================================\n",
      " input_2 (InputLayer)        [(None, 224, 224, 3)]     0         \n",
      "                                                                 \n",
      " block1_conv1 (Conv2D)       (None, 224, 224, 64)      1792      \n",
      "                                                                 \n",
      " block1_conv2 (Conv2D)       (None, 224, 224, 64)      36928     \n",
      "                                                                 \n",
      " block1_pool (MaxPooling2D)  (None, 112, 112, 64)      0         \n",
      "                                                                 \n",
      " block2_conv1 (Conv2D)       (None, 112, 112, 128)     73856     \n",
      "                                                                 \n",
      " block2_conv2 (Conv2D)       (None, 112, 112, 128)     147584    \n",
      "                                                                 \n",
      " block2_pool (MaxPooling2D)  (None, 56, 56, 128)       0         \n",
      "                                                                 \n",
      " block3_conv1 (Conv2D)       (None, 56, 56, 256)       295168    \n",
      "                                                                 \n",
      " block3_conv2 (Conv2D)       (None, 56, 56, 256)       590080    \n",
      "                                                                 \n",
      " block3_conv3 (Conv2D)       (None, 56, 56, 256)       590080    \n",
      "                                                                 \n",
      " block3_pool (MaxPooling2D)  (None, 28, 28, 256)       0         \n",
      "                                                                 \n",
      " block4_conv1 (Conv2D)       (None, 28, 28, 512)       1180160   \n",
      "                                                                 \n",
      " block4_conv2 (Conv2D)       (None, 28, 28, 512)       2359808   \n",
      "                                                                 \n",
      " block4_conv3 (Conv2D)       (None, 28, 28, 512)       2359808   \n",
      "                                                                 \n",
      " block4_pool (MaxPooling2D)  (None, 14, 14, 512)       0         \n",
      "                                                                 \n",
      " block5_conv1 (Conv2D)       (None, 14, 14, 512)       2359808   \n",
      "                                                                 \n",
      " block5_conv2 (Conv2D)       (None, 14, 14, 512)       2359808   \n",
      "                                                                 \n",
      " block5_conv3 (Conv2D)       (None, 14, 14, 512)       2359808   \n",
      "                                                                 \n",
      " block5_pool (MaxPooling2D)  (None, 7, 7, 512)         0         \n",
      "                                                                 \n",
      " global_max_pooling2d_1 (Glo  (None, 512)              0         \n",
      " balMaxPooling2D)                                                \n",
      "                                                                 \n",
      " dropout_6 (Dropout)         (None, 512)               0         \n",
      "                                                                 \n",
      " dense_6 (Dense)             (None, 128)               65664     \n",
      "                                                                 \n",
      " dropout_7 (Dropout)         (None, 128)               0         \n",
      "                                                                 \n",
      " dense_7 (Dense)             (None, 1)                 129       \n",
      "                                                                 \n",
      "=================================================================\n",
      "Total params: 14,780,481\n",
      "Trainable params: 2,359,808\n",
      "Non-trainable params: 12,420,673\n",
      "_________________________________________________________________\n"
     ]
    }
   ],
   "source": [
    "model_final.compile(optimizer=optimizers.Adam(), loss='mean_squared_error', metrics=['mse'])\n",
    "\n",
    "model_final.summary()"
   ]
  },
  {
   "cell_type": "code",
   "execution_count": 28,
   "metadata": {
    "pycharm": {
     "name": "#%%\n"
    }
   },
   "outputs": [],
   "source": [
    "train_datagen = ImageDataGenerator(\n",
    "                rotation_range=30, width_shift_range=0.1, height_shift_range=0.1, zoom_range = 0.5,\\\n",
    "                            fill_mode = 'reflect', horizontal_flip = True,vertical_flip=True, channel_shift_range = 0)\n",
    "\n",
    "test_datagen = ImageDataGenerator()"
   ]
  },
  {
   "cell_type": "code",
   "execution_count": 29,
   "metadata": {
    "pycharm": {
     "name": "#%%\n"
    }
   },
   "outputs": [],
   "source": [
    "train_generator = train_datagen.flow(X_train, y_train, batch_size=batch_size)\n",
    "validation_generator = test_datagen.flow(X_test, y_test, batch_size=batch_size)"
   ]
  },
  {
   "cell_type": "code",
   "execution_count": 30,
   "metadata": {
    "pycharm": {
     "name": "#%%\n"
    }
   },
   "outputs": [
    {
     "name": "stdout",
     "output_type": "stream",
     "text": [
      "WARNING:tensorflow:`period` argument is deprecated. Please use `save_freq` to specify the frequency in number of batches seen.\n"
     ]
    }
   ],
   "source": [
    "checkpoint = ModelCheckpoint(filepath='./checkpoint_VGG16_finetune_670m_last_conv/checkpoint-{epoch:02d}-{val_loss:.2f}.hdf5', monitor='val_loss', verbose=1, save_best_only=False, save_weights_only=False, mode='auto', period=1)\n",
    "#early = EarlyStopping(monitor='val_loss', min_delta=0, patience=10, verbose=1, mode='auto')\n",
    "class LossHistory(Callback):\n",
    "    def on_train_begin(self, logs={}):\n",
    "        self.losses = []\n",
    "\n",
    "    def on_batch_end(self, batch, logs={}):\n",
    "        self.losses.append(logs.get('loss'))\n",
    "history = LossHistory()"
   ]
  },
  {
   "cell_type": "code",
   "execution_count": 31,
   "metadata": {
    "scrolled": false,
    "pycharm": {
     "name": "#%%\n"
    }
   },
   "outputs": [
    {
     "name": "stderr",
     "output_type": "stream",
     "text": [
      "C:\\Users\\benny\\AppData\\Local\\Temp\\ipykernel_26464\\3539016524.py:1: UserWarning: `Model.fit_generator` is deprecated and will be removed in a future version. Please use `Model.fit`, which supports generators.\n",
      "  model_final.fit_generator(train_generator, steps_per_epoch=len(X_train)//batch_size, epochs=60, verbose=1, callbacks=[checkpoint,history], validation_data=validation_generator, validation_steps=len(y_train)//batch_size\n"
     ]
    },
    {
     "name": "stdout",
     "output_type": "stream",
     "text": [
      "Epoch 1/60\n",
      "1/1 [==============================] - ETA: 0s - loss: 686.4801 - mse: 686.4801\n",
      "Epoch 1: saving model to ./checkpoint_VGG16_finetune_670m_last_conv\\checkpoint-01-441.19.hdf5\n",
      "1/1 [==============================] - 3s 3s/step - loss: 686.4801 - mse: 686.4801 - val_loss: 441.1886 - val_mse: 441.1886\n",
      "Epoch 2/60\n",
      "1/1 [==============================] - ETA: 0s - loss: 894.2124 - mse: 894.2124\n",
      "Epoch 2: saving model to ./checkpoint_VGG16_finetune_670m_last_conv\\checkpoint-02-384.73.hdf5\n",
      "1/1 [==============================] - 1s 1s/step - loss: 894.2124 - mse: 894.2124 - val_loss: 384.7342 - val_mse: 384.7342\n",
      "Epoch 3/60\n",
      "1/1 [==============================] - ETA: 0s - loss: 1313.8417 - mse: 1313.8417\n",
      "Epoch 3: saving model to ./checkpoint_VGG16_finetune_670m_last_conv\\checkpoint-03-126.16.hdf5\n",
      "1/1 [==============================] - 1s 1s/step - loss: 1313.8417 - mse: 1313.8417 - val_loss: 126.1572 - val_mse: 126.1572\n",
      "Epoch 4/60\n",
      "1/1 [==============================] - ETA: 0s - loss: 727.1697 - mse: 727.1697\n",
      "Epoch 4: saving model to ./checkpoint_VGG16_finetune_670m_last_conv\\checkpoint-04-288.91.hdf5\n",
      "1/1 [==============================] - 1s 1s/step - loss: 727.1697 - mse: 727.1697 - val_loss: 288.9094 - val_mse: 288.9094\n",
      "Epoch 5/60\n",
      "1/1 [==============================] - ETA: 0s - loss: 1064.0500 - mse: 1064.0500\n",
      "Epoch 5: saving model to ./checkpoint_VGG16_finetune_670m_last_conv\\checkpoint-05-440.63.hdf5\n",
      "1/1 [==============================] - 1s 1s/step - loss: 1064.0500 - mse: 1064.0500 - val_loss: 440.6300 - val_mse: 440.6300\n",
      "Epoch 6/60\n",
      "1/1 [==============================] - ETA: 0s - loss: 770.1537 - mse: 770.1537\n",
      "Epoch 6: saving model to ./checkpoint_VGG16_finetune_670m_last_conv\\checkpoint-06-393.98.hdf5\n",
      "1/1 [==============================] - 1s 1s/step - loss: 770.1537 - mse: 770.1537 - val_loss: 393.9767 - val_mse: 393.9767\n",
      "Epoch 7/60\n",
      "1/1 [==============================] - ETA: 0s - loss: 614.2737 - mse: 614.2737\n",
      "Epoch 7: saving model to ./checkpoint_VGG16_finetune_670m_last_conv\\checkpoint-07-220.80.hdf5\n",
      "1/1 [==============================] - 1s 1s/step - loss: 614.2737 - mse: 614.2737 - val_loss: 220.7997 - val_mse: 220.7997\n",
      "Epoch 8/60\n",
      "1/1 [==============================] - ETA: 0s - loss: 685.0641 - mse: 685.0641\n",
      "Epoch 8: saving model to ./checkpoint_VGG16_finetune_670m_last_conv\\checkpoint-08-139.46.hdf5\n",
      "1/1 [==============================] - 1s 1s/step - loss: 685.0641 - mse: 685.0641 - val_loss: 139.4556 - val_mse: 139.4556\n",
      "Epoch 9/60\n",
      "1/1 [==============================] - ETA: 0s - loss: 987.6339 - mse: 987.6339\n",
      "Epoch 9: saving model to ./checkpoint_VGG16_finetune_670m_last_conv\\checkpoint-09-174.53.hdf5\n",
      "1/1 [==============================] - 1s 1s/step - loss: 987.6339 - mse: 987.6339 - val_loss: 174.5325 - val_mse: 174.5325\n",
      "Epoch 10/60\n",
      "1/1 [==============================] - ETA: 0s - loss: 723.1063 - mse: 723.1063\n",
      "Epoch 10: saving model to ./checkpoint_VGG16_finetune_670m_last_conv\\checkpoint-10-220.48.hdf5\n",
      "1/1 [==============================] - 1s 1s/step - loss: 723.1063 - mse: 723.1063 - val_loss: 220.4780 - val_mse: 220.4780\n",
      "Epoch 11/60\n",
      "1/1 [==============================] - ETA: 0s - loss: 631.1086 - mse: 631.1086\n",
      "Epoch 11: saving model to ./checkpoint_VGG16_finetune_670m_last_conv\\checkpoint-11-277.44.hdf5\n",
      "1/1 [==============================] - 1s 1s/step - loss: 631.1086 - mse: 631.1086 - val_loss: 277.4448 - val_mse: 277.4448\n",
      "Epoch 12/60\n",
      "1/1 [==============================] - ETA: 0s - loss: 765.0344 - mse: 765.0344\n",
      "Epoch 12: saving model to ./checkpoint_VGG16_finetune_670m_last_conv\\checkpoint-12-299.75.hdf5\n",
      "1/1 [==============================] - 1s 1s/step - loss: 765.0344 - mse: 765.0344 - val_loss: 299.7547 - val_mse: 299.7547\n",
      "Epoch 13/60\n",
      "1/1 [==============================] - ETA: 0s - loss: 594.5941 - mse: 594.5941\n",
      "Epoch 13: saving model to ./checkpoint_VGG16_finetune_670m_last_conv\\checkpoint-13-277.35.hdf5\n",
      "1/1 [==============================] - 1s 1s/step - loss: 594.5941 - mse: 594.5941 - val_loss: 277.3491 - val_mse: 277.3491\n",
      "Epoch 14/60\n",
      "1/1 [==============================] - ETA: 0s - loss: 785.8201 - mse: 785.8201\n",
      "Epoch 14: saving model to ./checkpoint_VGG16_finetune_670m_last_conv\\checkpoint-14-224.24.hdf5\n",
      "1/1 [==============================] - 1s 1s/step - loss: 785.8201 - mse: 785.8201 - val_loss: 224.2389 - val_mse: 224.2389\n",
      "Epoch 15/60\n",
      "1/1 [==============================] - ETA: 0s - loss: 977.5126 - mse: 977.5126\n",
      "Epoch 15: saving model to ./checkpoint_VGG16_finetune_670m_last_conv\\checkpoint-15-189.54.hdf5\n",
      "1/1 [==============================] - 1s 1s/step - loss: 977.5126 - mse: 977.5126 - val_loss: 189.5362 - val_mse: 189.5362\n",
      "Epoch 16/60\n",
      "1/1 [==============================] - ETA: 0s - loss: 619.6991 - mse: 619.6991\n",
      "Epoch 16: saving model to ./checkpoint_VGG16_finetune_670m_last_conv\\checkpoint-16-189.70.hdf5\n",
      "1/1 [==============================] - 1s 1s/step - loss: 619.6991 - mse: 619.6991 - val_loss: 189.7003 - val_mse: 189.7003\n",
      "Epoch 17/60\n",
      "1/1 [==============================] - ETA: 0s - loss: 767.4032 - mse: 767.4032\n",
      "Epoch 17: saving model to ./checkpoint_VGG16_finetune_670m_last_conv\\checkpoint-17-218.70.hdf5\n",
      "1/1 [==============================] - 1s 1s/step - loss: 767.4032 - mse: 767.4032 - val_loss: 218.7021 - val_mse: 218.7021\n",
      "Epoch 18/60\n",
      "1/1 [==============================] - ETA: 0s - loss: 689.2085 - mse: 689.2085\n",
      "Epoch 18: saving model to ./checkpoint_VGG16_finetune_670m_last_conv\\checkpoint-18-236.61.hdf5\n",
      "1/1 [==============================] - 1s 1s/step - loss: 689.2085 - mse: 689.2085 - val_loss: 236.6095 - val_mse: 236.6095\n",
      "Epoch 19/60\n",
      "1/1 [==============================] - ETA: 0s - loss: 530.5565 - mse: 530.5565\n",
      "Epoch 19: saving model to ./checkpoint_VGG16_finetune_670m_last_conv\\checkpoint-19-274.01.hdf5\n",
      "1/1 [==============================] - 1s 1s/step - loss: 530.5565 - mse: 530.5565 - val_loss: 274.0087 - val_mse: 274.0087\n",
      "Epoch 20/60\n",
      "1/1 [==============================] - ETA: 0s - loss: 585.3990 - mse: 585.3990\n",
      "Epoch 20: saving model to ./checkpoint_VGG16_finetune_670m_last_conv\\checkpoint-20-360.57.hdf5\n",
      "1/1 [==============================] - 1s 1s/step - loss: 585.3990 - mse: 585.3990 - val_loss: 360.5655 - val_mse: 360.5655\n",
      "Epoch 21/60\n",
      "1/1 [==============================] - ETA: 0s - loss: 710.5413 - mse: 710.5413\n",
      "Epoch 21: saving model to ./checkpoint_VGG16_finetune_670m_last_conv\\checkpoint-21-424.56.hdf5\n",
      "1/1 [==============================] - 1s 1s/step - loss: 710.5413 - mse: 710.5413 - val_loss: 424.5558 - val_mse: 424.5558\n",
      "Epoch 22/60\n",
      "1/1 [==============================] - ETA: 0s - loss: 650.1110 - mse: 650.1110\n",
      "Epoch 22: saving model to ./checkpoint_VGG16_finetune_670m_last_conv\\checkpoint-22-475.95.hdf5\n",
      "1/1 [==============================] - 1s 1s/step - loss: 650.1110 - mse: 650.1110 - val_loss: 475.9450 - val_mse: 475.9450\n",
      "Epoch 23/60\n",
      "1/1 [==============================] - ETA: 0s - loss: 855.2011 - mse: 855.2011\n",
      "Epoch 23: saving model to ./checkpoint_VGG16_finetune_670m_last_conv\\checkpoint-23-540.56.hdf5\n",
      "1/1 [==============================] - 1s 1s/step - loss: 855.2011 - mse: 855.2011 - val_loss: 540.5557 - val_mse: 540.5557\n",
      "Epoch 24/60\n",
      "1/1 [==============================] - ETA: 0s - loss: 674.8201 - mse: 674.8201\n",
      "Epoch 24: saving model to ./checkpoint_VGG16_finetune_670m_last_conv\\checkpoint-24-576.41.hdf5\n",
      "1/1 [==============================] - 1s 1s/step - loss: 674.8201 - mse: 674.8201 - val_loss: 576.4090 - val_mse: 576.4090\n",
      "Epoch 25/60\n",
      "1/1 [==============================] - ETA: 0s - loss: 665.4821 - mse: 665.4821\n",
      "Epoch 25: saving model to ./checkpoint_VGG16_finetune_670m_last_conv\\checkpoint-25-572.73.hdf5\n",
      "1/1 [==============================] - 1s 1s/step - loss: 665.4821 - mse: 665.4821 - val_loss: 572.7303 - val_mse: 572.7303\n",
      "Epoch 26/60\n",
      "1/1 [==============================] - ETA: 0s - loss: 726.2466 - mse: 726.2466\n",
      "Epoch 26: saving model to ./checkpoint_VGG16_finetune_670m_last_conv\\checkpoint-26-546.25.hdf5\n",
      "1/1 [==============================] - 1s 1s/step - loss: 726.2466 - mse: 726.2466 - val_loss: 546.2518 - val_mse: 546.2518\n",
      "Epoch 27/60\n",
      "1/1 [==============================] - ETA: 0s - loss: 674.1965 - mse: 674.1965\n",
      "Epoch 27: saving model to ./checkpoint_VGG16_finetune_670m_last_conv\\checkpoint-27-495.72.hdf5\n",
      "1/1 [==============================] - 1s 1s/step - loss: 674.1965 - mse: 674.1965 - val_loss: 495.7227 - val_mse: 495.7227\n",
      "Epoch 28/60\n",
      "1/1 [==============================] - ETA: 0s - loss: 518.7803 - mse: 518.7803\n",
      "Epoch 28: saving model to ./checkpoint_VGG16_finetune_670m_last_conv\\checkpoint-28-413.48.hdf5\n",
      "1/1 [==============================] - 1s 1s/step - loss: 518.7803 - mse: 518.7803 - val_loss: 413.4819 - val_mse: 413.4819\n",
      "Epoch 29/60\n",
      "1/1 [==============================] - ETA: 0s - loss: 553.6856 - mse: 553.6856\n",
      "Epoch 29: saving model to ./checkpoint_VGG16_finetune_670m_last_conv\\checkpoint-29-329.61.hdf5\n",
      "1/1 [==============================] - 1s 1s/step - loss: 553.6856 - mse: 553.6856 - val_loss: 329.6102 - val_mse: 329.6102\n",
      "Epoch 30/60\n",
      "1/1 [==============================] - ETA: 0s - loss: 519.7327 - mse: 519.7327\n",
      "Epoch 30: saving model to ./checkpoint_VGG16_finetune_670m_last_conv\\checkpoint-30-272.16.hdf5\n",
      "1/1 [==============================] - 1s 1s/step - loss: 519.7327 - mse: 519.7327 - val_loss: 272.1615 - val_mse: 272.1615\n",
      "Epoch 31/60\n",
      "1/1 [==============================] - ETA: 0s - loss: 638.2654 - mse: 638.2654\n",
      "Epoch 31: saving model to ./checkpoint_VGG16_finetune_670m_last_conv\\checkpoint-31-252.02.hdf5\n",
      "1/1 [==============================] - 1s 1s/step - loss: 638.2654 - mse: 638.2654 - val_loss: 252.0202 - val_mse: 252.0202\n",
      "Epoch 32/60\n",
      "1/1 [==============================] - ETA: 0s - loss: 700.3083 - mse: 700.3083\n",
      "Epoch 32: saving model to ./checkpoint_VGG16_finetune_670m_last_conv\\checkpoint-32-269.51.hdf5\n",
      "1/1 [==============================] - 1s 1s/step - loss: 700.3083 - mse: 700.3083 - val_loss: 269.5092 - val_mse: 269.5092\n",
      "Epoch 33/60\n",
      "1/1 [==============================] - ETA: 0s - loss: 398.1829 - mse: 398.1829\n",
      "Epoch 33: saving model to ./checkpoint_VGG16_finetune_670m_last_conv\\checkpoint-33-296.42.hdf5\n",
      "1/1 [==============================] - 1s 1s/step - loss: 398.1829 - mse: 398.1829 - val_loss: 296.4233 - val_mse: 296.4233\n",
      "Epoch 34/60\n",
      "1/1 [==============================] - ETA: 0s - loss: 570.5933 - mse: 570.5933\n",
      "Epoch 34: saving model to ./checkpoint_VGG16_finetune_670m_last_conv\\checkpoint-34-323.62.hdf5\n",
      "1/1 [==============================] - 1s 1s/step - loss: 570.5933 - mse: 570.5933 - val_loss: 323.6190 - val_mse: 323.6190\n",
      "Epoch 35/60\n",
      "1/1 [==============================] - ETA: 0s - loss: 688.2288 - mse: 688.2288\n",
      "Epoch 35: saving model to ./checkpoint_VGG16_finetune_670m_last_conv\\checkpoint-35-346.88.hdf5\n",
      "1/1 [==============================] - 1s 1s/step - loss: 688.2288 - mse: 688.2288 - val_loss: 346.8759 - val_mse: 346.8759\n",
      "Epoch 36/60\n",
      "1/1 [==============================] - ETA: 0s - loss: 655.6736 - mse: 655.6736\n",
      "Epoch 36: saving model to ./checkpoint_VGG16_finetune_670m_last_conv\\checkpoint-36-372.47.hdf5\n",
      "1/1 [==============================] - 1s 1s/step - loss: 655.6736 - mse: 655.6736 - val_loss: 372.4706 - val_mse: 372.4706\n",
      "Epoch 37/60\n",
      "1/1 [==============================] - ETA: 0s - loss: 586.9649 - mse: 586.9649\n",
      "Epoch 37: saving model to ./checkpoint_VGG16_finetune_670m_last_conv\\checkpoint-37-409.27.hdf5\n",
      "1/1 [==============================] - 1s 1s/step - loss: 586.9649 - mse: 586.9649 - val_loss: 409.2707 - val_mse: 409.2707\n",
      "Epoch 38/60\n",
      "1/1 [==============================] - ETA: 0s - loss: 551.7068 - mse: 551.7068\n",
      "Epoch 38: saving model to ./checkpoint_VGG16_finetune_670m_last_conv\\checkpoint-38-453.95.hdf5\n",
      "1/1 [==============================] - 1s 1s/step - loss: 551.7068 - mse: 551.7068 - val_loss: 453.9542 - val_mse: 453.9542\n",
      "Epoch 39/60\n",
      "1/1 [==============================] - ETA: 0s - loss: 512.2025 - mse: 512.2025\n",
      "Epoch 39: saving model to ./checkpoint_VGG16_finetune_670m_last_conv\\checkpoint-39-455.30.hdf5\n",
      "1/1 [==============================] - 1s 1s/step - loss: 512.2025 - mse: 512.2025 - val_loss: 455.3022 - val_mse: 455.3022\n",
      "Epoch 40/60\n",
      "1/1 [==============================] - ETA: 0s - loss: 475.1441 - mse: 475.1441\n",
      "Epoch 40: saving model to ./checkpoint_VGG16_finetune_670m_last_conv\\checkpoint-40-428.74.hdf5\n",
      "1/1 [==============================] - 1s 1s/step - loss: 475.1441 - mse: 475.1441 - val_loss: 428.7448 - val_mse: 428.7448\n",
      "Epoch 41/60\n",
      "1/1 [==============================] - ETA: 0s - loss: 638.8847 - mse: 638.8847\n",
      "Epoch 41: saving model to ./checkpoint_VGG16_finetune_670m_last_conv\\checkpoint-41-413.39.hdf5\n",
      "1/1 [==============================] - 1s 1s/step - loss: 638.8847 - mse: 638.8847 - val_loss: 413.3917 - val_mse: 413.3917\n",
      "Epoch 42/60\n",
      "1/1 [==============================] - ETA: 0s - loss: 687.2870 - mse: 687.2870\n",
      "Epoch 42: saving model to ./checkpoint_VGG16_finetune_670m_last_conv\\checkpoint-42-437.56.hdf5\n",
      "1/1 [==============================] - 1s 1s/step - loss: 687.2870 - mse: 687.2870 - val_loss: 437.5589 - val_mse: 437.5589\n",
      "Epoch 43/60\n",
      "1/1 [==============================] - ETA: 0s - loss: 590.2499 - mse: 590.2499\n",
      "Epoch 43: saving model to ./checkpoint_VGG16_finetune_670m_last_conv\\checkpoint-43-465.79.hdf5\n",
      "1/1 [==============================] - 1s 1s/step - loss: 590.2499 - mse: 590.2499 - val_loss: 465.7944 - val_mse: 465.7944\n",
      "Epoch 44/60\n",
      "1/1 [==============================] - ETA: 0s - loss: 580.6010 - mse: 580.6010\n",
      "Epoch 44: saving model to ./checkpoint_VGG16_finetune_670m_last_conv\\checkpoint-44-479.16.hdf5\n",
      "1/1 [==============================] - 1s 1s/step - loss: 580.6010 - mse: 580.6010 - val_loss: 479.1636 - val_mse: 479.1636\n",
      "Epoch 45/60\n",
      "1/1 [==============================] - ETA: 0s - loss: 538.3743 - mse: 538.3743\n",
      "Epoch 45: saving model to ./checkpoint_VGG16_finetune_670m_last_conv\\checkpoint-45-495.23.hdf5\n",
      "1/1 [==============================] - 1s 1s/step - loss: 538.3743 - mse: 538.3743 - val_loss: 495.2267 - val_mse: 495.2267\n",
      "Epoch 46/60\n",
      "1/1 [==============================] - ETA: 0s - loss: 525.5563 - mse: 525.5563\n",
      "Epoch 46: saving model to ./checkpoint_VGG16_finetune_670m_last_conv\\checkpoint-46-519.23.hdf5\n",
      "1/1 [==============================] - 1s 1s/step - loss: 525.5563 - mse: 525.5563 - val_loss: 519.2258 - val_mse: 519.2258\n",
      "Epoch 47/60\n",
      "1/1 [==============================] - ETA: 0s - loss: 549.3890 - mse: 549.3890\n",
      "Epoch 47: saving model to ./checkpoint_VGG16_finetune_670m_last_conv\\checkpoint-47-509.43.hdf5\n",
      "1/1 [==============================] - 1s 1s/step - loss: 549.3890 - mse: 549.3890 - val_loss: 509.4263 - val_mse: 509.4263\n",
      "Epoch 48/60\n",
      "1/1 [==============================] - ETA: 0s - loss: 606.6865 - mse: 606.6865\n",
      "Epoch 48: saving model to ./checkpoint_VGG16_finetune_670m_last_conv\\checkpoint-48-508.71.hdf5\n",
      "1/1 [==============================] - 1s 1s/step - loss: 606.6865 - mse: 606.6865 - val_loss: 508.7103 - val_mse: 508.7103\n",
      "Epoch 49/60\n",
      "1/1 [==============================] - ETA: 0s - loss: 506.2563 - mse: 506.2563\n",
      "Epoch 49: saving model to ./checkpoint_VGG16_finetune_670m_last_conv\\checkpoint-49-503.36.hdf5\n",
      "1/1 [==============================] - 1s 1s/step - loss: 506.2563 - mse: 506.2563 - val_loss: 503.3612 - val_mse: 503.3612\n",
      "Epoch 50/60\n",
      "1/1 [==============================] - ETA: 0s - loss: 676.2169 - mse: 676.2169\n",
      "Epoch 50: saving model to ./checkpoint_VGG16_finetune_670m_last_conv\\checkpoint-50-483.78.hdf5\n",
      "1/1 [==============================] - 1s 1s/step - loss: 676.2169 - mse: 676.2169 - val_loss: 483.7835 - val_mse: 483.7835\n",
      "Epoch 51/60\n",
      "1/1 [==============================] - ETA: 0s - loss: 578.9217 - mse: 578.9217\n",
      "Epoch 51: saving model to ./checkpoint_VGG16_finetune_670m_last_conv\\checkpoint-51-406.84.hdf5\n",
      "1/1 [==============================] - 1s 1s/step - loss: 578.9217 - mse: 578.9217 - val_loss: 406.8380 - val_mse: 406.8380\n",
      "Epoch 52/60\n",
      "1/1 [==============================] - ETA: 0s - loss: 586.0623 - mse: 586.0623\n",
      "Epoch 52: saving model to ./checkpoint_VGG16_finetune_670m_last_conv\\checkpoint-52-362.24.hdf5\n",
      "1/1 [==============================] - 1s 1s/step - loss: 586.0623 - mse: 586.0623 - val_loss: 362.2398 - val_mse: 362.2398\n",
      "Epoch 53/60\n",
      "1/1 [==============================] - ETA: 0s - loss: 602.2068 - mse: 602.2068\n",
      "Epoch 53: saving model to ./checkpoint_VGG16_finetune_670m_last_conv\\checkpoint-53-346.80.hdf5\n",
      "1/1 [==============================] - 1s 1s/step - loss: 602.2068 - mse: 602.2068 - val_loss: 346.8044 - val_mse: 346.8044\n",
      "Epoch 54/60\n",
      "1/1 [==============================] - ETA: 0s - loss: 598.5864 - mse: 598.5864\n",
      "Epoch 54: saving model to ./checkpoint_VGG16_finetune_670m_last_conv\\checkpoint-54-353.73.hdf5\n",
      "1/1 [==============================] - 1s 1s/step - loss: 598.5864 - mse: 598.5864 - val_loss: 353.7331 - val_mse: 353.7331\n",
      "Epoch 55/60\n",
      "1/1 [==============================] - ETA: 0s - loss: 558.0007 - mse: 558.0007\n",
      "Epoch 55: saving model to ./checkpoint_VGG16_finetune_670m_last_conv\\checkpoint-55-388.34.hdf5\n",
      "1/1 [==============================] - 1s 1s/step - loss: 558.0007 - mse: 558.0007 - val_loss: 388.3357 - val_mse: 388.3357\n",
      "Epoch 56/60\n",
      "1/1 [==============================] - ETA: 0s - loss: 406.3151 - mse: 406.3151\n",
      "Epoch 56: saving model to ./checkpoint_VGG16_finetune_670m_last_conv\\checkpoint-56-416.53.hdf5\n",
      "1/1 [==============================] - 1s 1s/step - loss: 406.3151 - mse: 406.3151 - val_loss: 416.5334 - val_mse: 416.5334\n",
      "Epoch 57/60\n",
      "1/1 [==============================] - ETA: 0s - loss: 503.7511 - mse: 503.7511\n",
      "Epoch 57: saving model to ./checkpoint_VGG16_finetune_670m_last_conv\\checkpoint-57-422.32.hdf5\n",
      "1/1 [==============================] - 1s 1s/step - loss: 503.7511 - mse: 503.7511 - val_loss: 422.3241 - val_mse: 422.3241\n",
      "Epoch 58/60\n",
      "1/1 [==============================] - ETA: 0s - loss: 741.9146 - mse: 741.9146\n",
      "Epoch 58: saving model to ./checkpoint_VGG16_finetune_670m_last_conv\\checkpoint-58-451.30.hdf5\n",
      "1/1 [==============================] - 1s 1s/step - loss: 741.9146 - mse: 741.9146 - val_loss: 451.2962 - val_mse: 451.2962\n",
      "Epoch 59/60\n",
      "1/1 [==============================] - ETA: 0s - loss: 456.4647 - mse: 456.4647\n",
      "Epoch 59: saving model to ./checkpoint_VGG16_finetune_670m_last_conv\\checkpoint-59-457.61.hdf5\n",
      "1/1 [==============================] - 1s 1s/step - loss: 456.4647 - mse: 456.4647 - val_loss: 457.6124 - val_mse: 457.6124\n",
      "Epoch 60/60\n",
      "1/1 [==============================] - ETA: 0s - loss: 500.7862 - mse: 500.7862\n",
      "Epoch 60: saving model to ./checkpoint_VGG16_finetune_670m_last_conv\\checkpoint-60-420.86.hdf5\n",
      "1/1 [==============================] - 1s 1s/step - loss: 500.7862 - mse: 500.7862 - val_loss: 420.8594 - val_mse: 420.8594\n"
     ]
    },
    {
     "data": {
      "text/plain": "<keras.callbacks.History at 0x158d09646a0>"
     },
     "execution_count": 31,
     "metadata": {},
     "output_type": "execute_result"
    }
   ],
   "source": [
    "model_final.fit_generator(train_generator, steps_per_epoch=len(X_train)//batch_size, epochs=60, verbose=1, callbacks=[checkpoint,history], validation_data=validation_generator, validation_steps=len(y_train)//batch_size\n",
    "              )"
   ]
  },
  {
   "cell_type": "markdown",
   "metadata": {
    "pycharm": {
     "name": "#%% md\n"
    }
   },
   "source": [
    "# What about further retraining the second to last conv. layer?"
   ]
  },
  {
   "cell_type": "code",
   "execution_count": 32,
   "metadata": {
    "pycharm": {
     "name": "#%%\n"
    }
   },
   "outputs": [],
   "source": [
    "# again load your best model from the last training here\n",
    "model = load_model('./checkpoint_VGG16_finetune_670m_last_conv/checkpoint-03-126.16.hdf5') #670m"
   ]
  },
  {
   "cell_type": "code",
   "execution_count": 33,
   "metadata": {
    "scrolled": true,
    "pycharm": {
     "name": "#%%\n"
    }
   },
   "outputs": [
    {
     "name": "stdout",
     "output_type": "stream",
     "text": [
      "Model: \"model_1\"\n",
      "_________________________________________________________________\n",
      " Layer (type)                Output Shape              Param #   \n",
      "=================================================================\n",
      " input_2 (InputLayer)        [(None, 224, 224, 3)]     0         \n",
      "                                                                 \n",
      " block1_conv1 (Conv2D)       (None, 224, 224, 64)      1792      \n",
      "                                                                 \n",
      " block1_conv2 (Conv2D)       (None, 224, 224, 64)      36928     \n",
      "                                                                 \n",
      " block1_pool (MaxPooling2D)  (None, 112, 112, 64)      0         \n",
      "                                                                 \n",
      " block2_conv1 (Conv2D)       (None, 112, 112, 128)     73856     \n",
      "                                                                 \n",
      " block2_conv2 (Conv2D)       (None, 112, 112, 128)     147584    \n",
      "                                                                 \n",
      " block2_pool (MaxPooling2D)  (None, 56, 56, 128)       0         \n",
      "                                                                 \n",
      " block3_conv1 (Conv2D)       (None, 56, 56, 256)       295168    \n",
      "                                                                 \n",
      " block3_conv2 (Conv2D)       (None, 56, 56, 256)       590080    \n",
      "                                                                 \n",
      " block3_conv3 (Conv2D)       (None, 56, 56, 256)       590080    \n",
      "                                                                 \n",
      " block3_pool (MaxPooling2D)  (None, 28, 28, 256)       0         \n",
      "                                                                 \n",
      " block4_conv1 (Conv2D)       (None, 28, 28, 512)       1180160   \n",
      "                                                                 \n",
      " block4_conv2 (Conv2D)       (None, 28, 28, 512)       2359808   \n",
      "                                                                 \n",
      " block4_conv3 (Conv2D)       (None, 28, 28, 512)       2359808   \n",
      "                                                                 \n",
      " block4_pool (MaxPooling2D)  (None, 14, 14, 512)       0         \n",
      "                                                                 \n",
      " block5_conv1 (Conv2D)       (None, 14, 14, 512)       2359808   \n",
      "                                                                 \n",
      " block5_conv2 (Conv2D)       (None, 14, 14, 512)       2359808   \n",
      "                                                                 \n",
      " block5_conv3 (Conv2D)       (None, 14, 14, 512)       2359808   \n",
      "                                                                 \n",
      " block5_pool (MaxPooling2D)  (None, 7, 7, 512)         0         \n",
      "                                                                 \n",
      " global_max_pooling2d_1 (Glo  (None, 512)              0         \n",
      " balMaxPooling2D)                                                \n",
      "                                                                 \n",
      " dropout_6 (Dropout)         (None, 512)               0         \n",
      "                                                                 \n",
      " dense_6 (Dense)             (None, 128)               65664     \n",
      "                                                                 \n",
      " dropout_7 (Dropout)         (None, 128)               0         \n",
      "                                                                 \n",
      " dense_7 (Dense)             (None, 1)                 129       \n",
      "                                                                 \n",
      "=================================================================\n",
      "Total params: 14,780,481\n",
      "Trainable params: 2,359,808\n",
      "Non-trainable params: 12,420,673\n",
      "_________________________________________________________________\n"
     ]
    }
   ],
   "source": [
    "model.summary()"
   ]
  },
  {
   "cell_type": "code",
   "execution_count": 34,
   "metadata": {
    "pycharm": {
     "name": "#%%\n"
    }
   },
   "outputs": [],
   "source": [
    "weights_lastconv = model.layers[-7].get_weights()"
   ]
  },
  {
   "cell_type": "code",
   "execution_count": 35,
   "metadata": {
    "pycharm": {
     "name": "#%%\n"
    }
   },
   "outputs": [],
   "source": [
    "VGG_finetune = VGG16(include_top=False, weights='imagenet', \\\n",
    "                            input_tensor=None, input_shape=(image_size, image_size, 3), pooling='max', classes=1000)"
   ]
  },
  {
   "cell_type": "code",
   "execution_count": 36,
   "metadata": {
    "pycharm": {
     "name": "#%%\n"
    }
   },
   "outputs": [],
   "source": [
    "for layer in VGG_finetune.layers[:-4]:\n",
    "    layer.trainable = False\n",
    "for layer in VGG_finetune.layers[-3:]:\n",
    "    layer.trainable = False"
   ]
  },
  {
   "cell_type": "code",
   "execution_count": 37,
   "metadata": {
    "pycharm": {
     "name": "#%%\n"
    }
   },
   "outputs": [],
   "source": [
    "VGG_finetune.layers[-3].set_weights(weights_lastconv)"
   ]
  },
  {
   "cell_type": "code",
   "execution_count": 38,
   "metadata": {
    "scrolled": true,
    "pycharm": {
     "name": "#%%\n"
    }
   },
   "outputs": [
    {
     "name": "stdout",
     "output_type": "stream",
     "text": [
      "Model: \"vgg16\"\n",
      "_________________________________________________________________\n",
      " Layer (type)                Output Shape              Param #   \n",
      "=================================================================\n",
      " input_3 (InputLayer)        [(None, 224, 224, 3)]     0         \n",
      "                                                                 \n",
      " block1_conv1 (Conv2D)       (None, 224, 224, 64)      1792      \n",
      "                                                                 \n",
      " block1_conv2 (Conv2D)       (None, 224, 224, 64)      36928     \n",
      "                                                                 \n",
      " block1_pool (MaxPooling2D)  (None, 112, 112, 64)      0         \n",
      "                                                                 \n",
      " block2_conv1 (Conv2D)       (None, 112, 112, 128)     73856     \n",
      "                                                                 \n",
      " block2_conv2 (Conv2D)       (None, 112, 112, 128)     147584    \n",
      "                                                                 \n",
      " block2_pool (MaxPooling2D)  (None, 56, 56, 128)       0         \n",
      "                                                                 \n",
      " block3_conv1 (Conv2D)       (None, 56, 56, 256)       295168    \n",
      "                                                                 \n",
      " block3_conv2 (Conv2D)       (None, 56, 56, 256)       590080    \n",
      "                                                                 \n",
      " block3_conv3 (Conv2D)       (None, 56, 56, 256)       590080    \n",
      "                                                                 \n",
      " block3_pool (MaxPooling2D)  (None, 28, 28, 256)       0         \n",
      "                                                                 \n",
      " block4_conv1 (Conv2D)       (None, 28, 28, 512)       1180160   \n",
      "                                                                 \n",
      " block4_conv2 (Conv2D)       (None, 28, 28, 512)       2359808   \n",
      "                                                                 \n",
      " block4_conv3 (Conv2D)       (None, 28, 28, 512)       2359808   \n",
      "                                                                 \n",
      " block4_pool (MaxPooling2D)  (None, 14, 14, 512)       0         \n",
      "                                                                 \n",
      " block5_conv1 (Conv2D)       (None, 14, 14, 512)       2359808   \n",
      "                                                                 \n",
      " block5_conv2 (Conv2D)       (None, 14, 14, 512)       2359808   \n",
      "                                                                 \n",
      " block5_conv3 (Conv2D)       (None, 14, 14, 512)       2359808   \n",
      "                                                                 \n",
      " block5_pool (MaxPooling2D)  (None, 7, 7, 512)         0         \n",
      "                                                                 \n",
      " global_max_pooling2d_2 (Glo  (None, 512)              0         \n",
      " balMaxPooling2D)                                                \n",
      "                                                                 \n",
      "=================================================================\n",
      "Total params: 14,714,688\n",
      "Trainable params: 2,359,808\n",
      "Non-trainable params: 12,354,880\n",
      "_________________________________________________________________\n"
     ]
    }
   ],
   "source": [
    "VGG_finetune.summary()"
   ]
  },
  {
   "cell_type": "code",
   "execution_count": 39,
   "metadata": {
    "pycharm": {
     "name": "#%%\n"
    }
   },
   "outputs": [],
   "source": [
    "weights_128 = model.layers[-3].get_weights()\n",
    "weights_1 = model.layers[-1].get_weights()"
   ]
  },
  {
   "cell_type": "markdown",
   "metadata": {
    "pycharm": {
     "name": "#%% md\n"
    }
   },
   "source": [
    "# then"
   ]
  },
  {
   "cell_type": "code",
   "execution_count": 40,
   "metadata": {
    "pycharm": {
     "name": "#%%\n"
    }
   },
   "outputs": [
    {
     "name": "stdout",
     "output_type": "stream",
     "text": [
      "Model: \"model_2\"\n",
      "_________________________________________________________________\n",
      " Layer (type)                Output Shape              Param #   \n",
      "=================================================================\n",
      " input_3 (InputLayer)        [(None, 224, 224, 3)]     0         \n",
      "                                                                 \n",
      " block1_conv1 (Conv2D)       (None, 224, 224, 64)      1792      \n",
      "                                                                 \n",
      " block1_conv2 (Conv2D)       (None, 224, 224, 64)      36928     \n",
      "                                                                 \n",
      " block1_pool (MaxPooling2D)  (None, 112, 112, 64)      0         \n",
      "                                                                 \n",
      " block2_conv1 (Conv2D)       (None, 112, 112, 128)     73856     \n",
      "                                                                 \n",
      " block2_conv2 (Conv2D)       (None, 112, 112, 128)     147584    \n",
      "                                                                 \n",
      " block2_pool (MaxPooling2D)  (None, 56, 56, 128)       0         \n",
      "                                                                 \n",
      " block3_conv1 (Conv2D)       (None, 56, 56, 256)       295168    \n",
      "                                                                 \n",
      " block3_conv2 (Conv2D)       (None, 56, 56, 256)       590080    \n",
      "                                                                 \n",
      " block3_conv3 (Conv2D)       (None, 56, 56, 256)       590080    \n",
      "                                                                 \n",
      " block3_pool (MaxPooling2D)  (None, 28, 28, 256)       0         \n",
      "                                                                 \n",
      " block4_conv1 (Conv2D)       (None, 28, 28, 512)       1180160   \n",
      "                                                                 \n",
      " block4_conv2 (Conv2D)       (None, 28, 28, 512)       2359808   \n",
      "                                                                 \n",
      " block4_conv3 (Conv2D)       (None, 28, 28, 512)       2359808   \n",
      "                                                                 \n",
      " block4_pool (MaxPooling2D)  (None, 14, 14, 512)       0         \n",
      "                                                                 \n",
      " block5_conv1 (Conv2D)       (None, 14, 14, 512)       2359808   \n",
      "                                                                 \n",
      " block5_conv2 (Conv2D)       (None, 14, 14, 512)       2359808   \n",
      "                                                                 \n",
      " block5_conv3 (Conv2D)       (None, 14, 14, 512)       2359808   \n",
      "                                                                 \n",
      " block5_pool (MaxPooling2D)  (None, 7, 7, 512)         0         \n",
      "                                                                 \n",
      " global_max_pooling2d_2 (Glo  (None, 512)              0         \n",
      " balMaxPooling2D)                                                \n",
      "                                                                 \n",
      " dropout_8 (Dropout)         (None, 512)               0         \n",
      "                                                                 \n",
      " dense_8 (Dense)             (None, 128)               65664     \n",
      "                                                                 \n",
      " dropout_9 (Dropout)         (None, 128)               0         \n",
      "                                                                 \n",
      " dense_9 (Dense)             (None, 1)                 129       \n",
      "                                                                 \n",
      "=================================================================\n",
      "Total params: 14,780,481\n",
      "Trainable params: 2,425,601\n",
      "Non-trainable params: 12,354,880\n",
      "_________________________________________________________________\n"
     ]
    }
   ],
   "source": [
    "x = VGG_finetune.output\n",
    "x = Dropout(0.5)(x)\n",
    "x = Dense(128, activation=\"relu\",  weights = weights_128)(x) #500m = 100\n",
    "x = Dropout(0.5)(x)\n",
    "predictions = Dense(1, activation=None, weights = weights_1)(x)\n",
    "# creating the final model \n",
    "model_final = Model(inputs = VGG_finetune.input, outputs = predictions)\n",
    "model_final.compile(optimizer=optimizers.Adam(), loss='mean_squared_error', metrics=['mse'])\n",
    "\n",
    "model_final.summary()"
   ]
  },
  {
   "cell_type": "code",
   "execution_count": 41,
   "metadata": {
    "pycharm": {
     "name": "#%%\n"
    }
   },
   "outputs": [],
   "source": [
    "for layer in model_final.layers[-3:]:\n",
    "    layer.trainable = False"
   ]
  },
  {
   "cell_type": "code",
   "execution_count": 42,
   "metadata": {
    "scrolled": true,
    "pycharm": {
     "name": "#%%\n"
    }
   },
   "outputs": [
    {
     "name": "stdout",
     "output_type": "stream",
     "text": [
      "Model: \"model_2\"\n",
      "_________________________________________________________________\n",
      " Layer (type)                Output Shape              Param #   \n",
      "=================================================================\n",
      " input_3 (InputLayer)        [(None, 224, 224, 3)]     0         \n",
      "                                                                 \n",
      " block1_conv1 (Conv2D)       (None, 224, 224, 64)      1792      \n",
      "                                                                 \n",
      " block1_conv2 (Conv2D)       (None, 224, 224, 64)      36928     \n",
      "                                                                 \n",
      " block1_pool (MaxPooling2D)  (None, 112, 112, 64)      0         \n",
      "                                                                 \n",
      " block2_conv1 (Conv2D)       (None, 112, 112, 128)     73856     \n",
      "                                                                 \n",
      " block2_conv2 (Conv2D)       (None, 112, 112, 128)     147584    \n",
      "                                                                 \n",
      " block2_pool (MaxPooling2D)  (None, 56, 56, 128)       0         \n",
      "                                                                 \n",
      " block3_conv1 (Conv2D)       (None, 56, 56, 256)       295168    \n",
      "                                                                 \n",
      " block3_conv2 (Conv2D)       (None, 56, 56, 256)       590080    \n",
      "                                                                 \n",
      " block3_conv3 (Conv2D)       (None, 56, 56, 256)       590080    \n",
      "                                                                 \n",
      " block3_pool (MaxPooling2D)  (None, 28, 28, 256)       0         \n",
      "                                                                 \n",
      " block4_conv1 (Conv2D)       (None, 28, 28, 512)       1180160   \n",
      "                                                                 \n",
      " block4_conv2 (Conv2D)       (None, 28, 28, 512)       2359808   \n",
      "                                                                 \n",
      " block4_conv3 (Conv2D)       (None, 28, 28, 512)       2359808   \n",
      "                                                                 \n",
      " block4_pool (MaxPooling2D)  (None, 14, 14, 512)       0         \n",
      "                                                                 \n",
      " block5_conv1 (Conv2D)       (None, 14, 14, 512)       2359808   \n",
      "                                                                 \n",
      " block5_conv2 (Conv2D)       (None, 14, 14, 512)       2359808   \n",
      "                                                                 \n",
      " block5_conv3 (Conv2D)       (None, 14, 14, 512)       2359808   \n",
      "                                                                 \n",
      " block5_pool (MaxPooling2D)  (None, 7, 7, 512)         0         \n",
      "                                                                 \n",
      " global_max_pooling2d_2 (Glo  (None, 512)              0         \n",
      " balMaxPooling2D)                                                \n",
      "                                                                 \n",
      " dropout_8 (Dropout)         (None, 512)               0         \n",
      "                                                                 \n",
      " dense_8 (Dense)             (None, 128)               65664     \n",
      "                                                                 \n",
      " dropout_9 (Dropout)         (None, 128)               0         \n",
      "                                                                 \n",
      " dense_9 (Dense)             (None, 1)                 129       \n",
      "                                                                 \n",
      "=================================================================\n",
      "Total params: 14,780,481\n",
      "Trainable params: 2,359,808\n",
      "Non-trainable params: 12,420,673\n",
      "_________________________________________________________________\n"
     ]
    }
   ],
   "source": [
    "model_final.compile(optimizer=optimizers.Adam(), loss='mean_squared_error', metrics=['mse'])\n",
    "\n",
    "model_final.summary()"
   ]
  },
  {
   "cell_type": "code",
   "execution_count": 43,
   "metadata": {
    "pycharm": {
     "name": "#%%\n"
    }
   },
   "outputs": [],
   "source": [
    "train_datagen = ImageDataGenerator(\n",
    "                rotation_range=30, width_shift_range=0.1, height_shift_range=0.1, zoom_range = 0.5,\\\n",
    "                            fill_mode = 'reflect', horizontal_flip = True,vertical_flip=True, channel_shift_range = 0)\n",
    "\n",
    "test_datagen = ImageDataGenerator()"
   ]
  },
  {
   "cell_type": "code",
   "execution_count": 44,
   "metadata": {
    "pycharm": {
     "name": "#%%\n"
    }
   },
   "outputs": [],
   "source": [
    "train_generator = train_datagen.flow(X_train, y_train, batch_size=batch_size)\n",
    "validation_generator = test_datagen.flow(X_test, y_test, batch_size=batch_size)"
   ]
  },
  {
   "cell_type": "code",
   "execution_count": 45,
   "metadata": {
    "pycharm": {
     "name": "#%%\n"
    }
   },
   "outputs": [
    {
     "name": "stdout",
     "output_type": "stream",
     "text": [
      "WARNING:tensorflow:`period` argument is deprecated. Please use `save_freq` to specify the frequency in number of batches seen.\n"
     ]
    }
   ],
   "source": [
    "checkpoint = ModelCheckpoint(filepath='./checkpoint_VGG16_finetune_670m_seclast_conv/checkpoint-{epoch:02d}-{val_loss:.2f}.hdf5', monitor='val_loss', verbose=1, save_best_only=False, save_weights_only=False, mode='auto', period=1)\n",
    "#early = EarlyStopping(monitor='val_loss', min_delta=0, patience=10, verbose=1, mode='auto')\n",
    "class LossHistory(Callback):\n",
    "    def on_train_begin(self, logs={}):\n",
    "        self.losses = []\n",
    "\n",
    "    def on_batch_end(self, batch, logs={}):\n",
    "        self.losses.append(logs.get('loss'))\n",
    "history = LossHistory()"
   ]
  },
  {
   "cell_type": "code",
   "execution_count": 46,
   "metadata": {
    "scrolled": false,
    "pycharm": {
     "name": "#%%\n"
    }
   },
   "outputs": [
    {
     "name": "stderr",
     "output_type": "stream",
     "text": [
      "C:\\Users\\benny\\AppData\\Local\\Temp\\ipykernel_26464\\3539016524.py:1: UserWarning: `Model.fit_generator` is deprecated and will be removed in a future version. Please use `Model.fit`, which supports generators.\n",
      "  model_final.fit_generator(train_generator, steps_per_epoch=len(X_train)//batch_size, epochs=60, verbose=1, callbacks=[checkpoint,history], validation_data=validation_generator, validation_steps=len(y_train)//batch_size\n"
     ]
    },
    {
     "name": "stdout",
     "output_type": "stream",
     "text": [
      "Epoch 1/60\n",
      "1/1 [==============================] - ETA: 0s - loss: 739.4685 - mse: 739.4685\n",
      "Epoch 1: saving model to ./checkpoint_VGG16_finetune_670m_seclast_conv\\checkpoint-01-829.40.hdf5\n",
      "1/1 [==============================] - 2s 2s/step - loss: 739.4685 - mse: 739.4685 - val_loss: 829.3963 - val_mse: 829.3963\n",
      "Epoch 2/60\n",
      "1/1 [==============================] - ETA: 0s - loss: 1321.1569 - mse: 1321.1569\n",
      "Epoch 2: saving model to ./checkpoint_VGG16_finetune_670m_seclast_conv\\checkpoint-02-124.52.hdf5\n",
      "1/1 [==============================] - 1s 1s/step - loss: 1321.1569 - mse: 1321.1569 - val_loss: 124.5188 - val_mse: 124.5188\n",
      "Epoch 3/60\n",
      "1/1 [==============================] - ETA: 0s - loss: 763.3203 - mse: 763.3203\n",
      "Epoch 3: saving model to ./checkpoint_VGG16_finetune_670m_seclast_conv\\checkpoint-03-332.19.hdf5\n",
      "1/1 [==============================] - 1s 1s/step - loss: 763.3203 - mse: 763.3203 - val_loss: 332.1920 - val_mse: 332.1920\n",
      "Epoch 4/60\n",
      "1/1 [==============================] - ETA: 0s - loss: 903.8179 - mse: 903.8179\n",
      "Epoch 4: saving model to ./checkpoint_VGG16_finetune_670m_seclast_conv\\checkpoint-04-103.51.hdf5\n",
      "1/1 [==============================] - 1s 1s/step - loss: 903.8179 - mse: 903.8179 - val_loss: 103.5073 - val_mse: 103.5073\n",
      "Epoch 5/60\n",
      "1/1 [==============================] - ETA: 0s - loss: 576.7930 - mse: 576.7930\n",
      "Epoch 5: saving model to ./checkpoint_VGG16_finetune_670m_seclast_conv\\checkpoint-05-174.57.hdf5\n",
      "1/1 [==============================] - 1s 1s/step - loss: 576.7930 - mse: 576.7930 - val_loss: 174.5691 - val_mse: 174.5691\n",
      "Epoch 6/60\n",
      "1/1 [==============================] - ETA: 0s - loss: 656.4855 - mse: 656.4855\n",
      "Epoch 6: saving model to ./checkpoint_VGG16_finetune_670m_seclast_conv\\checkpoint-06-217.04.hdf5\n",
      "1/1 [==============================] - 1s 1s/step - loss: 656.4855 - mse: 656.4855 - val_loss: 217.0357 - val_mse: 217.0357\n",
      "Epoch 7/60\n",
      "1/1 [==============================] - ETA: 0s - loss: 737.7274 - mse: 737.7274\n",
      "Epoch 7: saving model to ./checkpoint_VGG16_finetune_670m_seclast_conv\\checkpoint-07-146.97.hdf5\n",
      "1/1 [==============================] - 1s 1s/step - loss: 737.7274 - mse: 737.7274 - val_loss: 146.9662 - val_mse: 146.9662\n",
      "Epoch 8/60\n",
      "1/1 [==============================] - ETA: 0s - loss: 531.9872 - mse: 531.9872\n",
      "Epoch 8: saving model to ./checkpoint_VGG16_finetune_670m_seclast_conv\\checkpoint-08-86.20.hdf5\n",
      "1/1 [==============================] - 1s 1s/step - loss: 531.9872 - mse: 531.9872 - val_loss: 86.1996 - val_mse: 86.1996\n",
      "Epoch 9/60\n",
      "1/1 [==============================] - ETA: 0s - loss: 569.0694 - mse: 569.0694\n",
      "Epoch 9: saving model to ./checkpoint_VGG16_finetune_670m_seclast_conv\\checkpoint-09-76.97.hdf5\n",
      "1/1 [==============================] - 1s 1s/step - loss: 569.0694 - mse: 569.0694 - val_loss: 76.9693 - val_mse: 76.9693\n",
      "Epoch 10/60\n",
      "1/1 [==============================] - ETA: 0s - loss: 575.8972 - mse: 575.8972\n",
      "Epoch 10: saving model to ./checkpoint_VGG16_finetune_670m_seclast_conv\\checkpoint-10-98.14.hdf5\n",
      "1/1 [==============================] - 1s 1s/step - loss: 575.8972 - mse: 575.8972 - val_loss: 98.1428 - val_mse: 98.1428\n",
      "Epoch 11/60\n",
      "1/1 [==============================] - ETA: 0s - loss: 394.8128 - mse: 394.8128\n",
      "Epoch 11: saving model to ./checkpoint_VGG16_finetune_670m_seclast_conv\\checkpoint-11-210.18.hdf5\n",
      "1/1 [==============================] - 1s 1s/step - loss: 394.8128 - mse: 394.8128 - val_loss: 210.1775 - val_mse: 210.1775\n",
      "Epoch 12/60\n",
      "1/1 [==============================] - ETA: 0s - loss: 557.0764 - mse: 557.0764\n",
      "Epoch 12: saving model to ./checkpoint_VGG16_finetune_670m_seclast_conv\\checkpoint-12-222.73.hdf5\n",
      "1/1 [==============================] - 1s 1s/step - loss: 557.0764 - mse: 557.0764 - val_loss: 222.7320 - val_mse: 222.7320\n",
      "Epoch 13/60\n",
      "1/1 [==============================] - ETA: 0s - loss: 509.6403 - mse: 509.6403\n",
      "Epoch 13: saving model to ./checkpoint_VGG16_finetune_670m_seclast_conv\\checkpoint-13-232.03.hdf5\n",
      "1/1 [==============================] - 1s 1s/step - loss: 509.6403 - mse: 509.6403 - val_loss: 232.0272 - val_mse: 232.0272\n",
      "Epoch 14/60\n",
      "1/1 [==============================] - ETA: 0s - loss: 537.9256 - mse: 537.9256\n",
      "Epoch 14: saving model to ./checkpoint_VGG16_finetune_670m_seclast_conv\\checkpoint-14-192.78.hdf5\n",
      "1/1 [==============================] - 1s 1s/step - loss: 537.9256 - mse: 537.9256 - val_loss: 192.7816 - val_mse: 192.7816\n",
      "Epoch 15/60\n",
      "1/1 [==============================] - ETA: 0s - loss: 546.1942 - mse: 546.1942\n",
      "Epoch 15: saving model to ./checkpoint_VGG16_finetune_670m_seclast_conv\\checkpoint-15-104.08.hdf5\n",
      "1/1 [==============================] - 1s 1s/step - loss: 546.1942 - mse: 546.1942 - val_loss: 104.0823 - val_mse: 104.0823\n",
      "Epoch 16/60\n",
      "1/1 [==============================] - ETA: 0s - loss: 487.9203 - mse: 487.9203\n",
      "Epoch 16: saving model to ./checkpoint_VGG16_finetune_670m_seclast_conv\\checkpoint-16-72.10.hdf5\n",
      "1/1 [==============================] - 1s 1s/step - loss: 487.9203 - mse: 487.9203 - val_loss: 72.0986 - val_mse: 72.0986\n",
      "Epoch 17/60\n",
      "1/1 [==============================] - ETA: 0s - loss: 607.9774 - mse: 607.9774\n",
      "Epoch 17: saving model to ./checkpoint_VGG16_finetune_670m_seclast_conv\\checkpoint-17-83.69.hdf5\n",
      "1/1 [==============================] - 1s 1s/step - loss: 607.9774 - mse: 607.9774 - val_loss: 83.6919 - val_mse: 83.6919\n",
      "Epoch 18/60\n",
      "1/1 [==============================] - ETA: 0s - loss: 444.7046 - mse: 444.7046\n",
      "Epoch 18: saving model to ./checkpoint_VGG16_finetune_670m_seclast_conv\\checkpoint-18-90.46.hdf5\n",
      "1/1 [==============================] - 1s 1s/step - loss: 444.7046 - mse: 444.7046 - val_loss: 90.4594 - val_mse: 90.4594\n",
      "Epoch 19/60\n",
      "1/1 [==============================] - ETA: 0s - loss: 355.4661 - mse: 355.4661\n",
      "Epoch 19: saving model to ./checkpoint_VGG16_finetune_670m_seclast_conv\\checkpoint-19-132.73.hdf5\n",
      "1/1 [==============================] - 1s 1s/step - loss: 355.4661 - mse: 355.4661 - val_loss: 132.7326 - val_mse: 132.7326\n",
      "Epoch 20/60\n",
      "1/1 [==============================] - ETA: 0s - loss: 420.1983 - mse: 420.1983\n",
      "Epoch 20: saving model to ./checkpoint_VGG16_finetune_670m_seclast_conv\\checkpoint-20-118.66.hdf5\n",
      "1/1 [==============================] - 1s 1s/step - loss: 420.1983 - mse: 420.1983 - val_loss: 118.6622 - val_mse: 118.6622\n",
      "Epoch 21/60\n",
      "1/1 [==============================] - ETA: 0s - loss: 575.3790 - mse: 575.3790\n",
      "Epoch 21: saving model to ./checkpoint_VGG16_finetune_670m_seclast_conv\\checkpoint-21-75.26.hdf5\n",
      "1/1 [==============================] - 1s 1s/step - loss: 575.3790 - mse: 575.3790 - val_loss: 75.2647 - val_mse: 75.2647\n",
      "Epoch 22/60\n",
      "1/1 [==============================] - ETA: 0s - loss: 545.6802 - mse: 545.6802\n",
      "Epoch 22: saving model to ./checkpoint_VGG16_finetune_670m_seclast_conv\\checkpoint-22-74.43.hdf5\n",
      "1/1 [==============================] - 1s 1s/step - loss: 545.6802 - mse: 545.6802 - val_loss: 74.4321 - val_mse: 74.4321\n",
      "Epoch 23/60\n",
      "1/1 [==============================] - ETA: 0s - loss: 446.0727 - mse: 446.0727\n",
      "Epoch 23: saving model to ./checkpoint_VGG16_finetune_670m_seclast_conv\\checkpoint-23-75.31.hdf5\n",
      "1/1 [==============================] - 1s 1s/step - loss: 446.0727 - mse: 446.0727 - val_loss: 75.3107 - val_mse: 75.3107\n",
      "Epoch 24/60\n",
      "1/1 [==============================] - ETA: 0s - loss: 521.7974 - mse: 521.7974\n",
      "Epoch 24: saving model to ./checkpoint_VGG16_finetune_670m_seclast_conv\\checkpoint-24-66.32.hdf5\n",
      "1/1 [==============================] - 1s 1s/step - loss: 521.7974 - mse: 521.7974 - val_loss: 66.3208 - val_mse: 66.3208\n",
      "Epoch 25/60\n",
      "1/1 [==============================] - ETA: 0s - loss: 430.4125 - mse: 430.4125\n",
      "Epoch 25: saving model to ./checkpoint_VGG16_finetune_670m_seclast_conv\\checkpoint-25-66.20.hdf5\n",
      "1/1 [==============================] - 1s 1s/step - loss: 430.4125 - mse: 430.4125 - val_loss: 66.1965 - val_mse: 66.1965\n",
      "Epoch 26/60\n",
      "1/1 [==============================] - ETA: 0s - loss: 487.1508 - mse: 487.1508\n",
      "Epoch 26: saving model to ./checkpoint_VGG16_finetune_670m_seclast_conv\\checkpoint-26-84.77.hdf5\n",
      "1/1 [==============================] - 1s 1s/step - loss: 487.1508 - mse: 487.1508 - val_loss: 84.7715 - val_mse: 84.7715\n",
      "Epoch 27/60\n",
      "1/1 [==============================] - ETA: 0s - loss: 393.2213 - mse: 393.2213\n",
      "Epoch 27: saving model to ./checkpoint_VGG16_finetune_670m_seclast_conv\\checkpoint-27-102.99.hdf5\n",
      "1/1 [==============================] - 1s 1s/step - loss: 393.2213 - mse: 393.2213 - val_loss: 102.9885 - val_mse: 102.9885\n",
      "Epoch 28/60\n",
      "1/1 [==============================] - ETA: 0s - loss: 430.4993 - mse: 430.4993\n",
      "Epoch 28: saving model to ./checkpoint_VGG16_finetune_670m_seclast_conv\\checkpoint-28-98.34.hdf5\n",
      "1/1 [==============================] - 1s 1s/step - loss: 430.4993 - mse: 430.4993 - val_loss: 98.3359 - val_mse: 98.3359\n",
      "Epoch 29/60\n",
      "1/1 [==============================] - ETA: 0s - loss: 445.3202 - mse: 445.3202\n",
      "Epoch 29: saving model to ./checkpoint_VGG16_finetune_670m_seclast_conv\\checkpoint-29-99.11.hdf5\n",
      "1/1 [==============================] - 1s 1s/step - loss: 445.3202 - mse: 445.3202 - val_loss: 99.1113 - val_mse: 99.1113\n",
      "Epoch 30/60\n",
      "1/1 [==============================] - ETA: 0s - loss: 425.5364 - mse: 425.5364\n",
      "Epoch 30: saving model to ./checkpoint_VGG16_finetune_670m_seclast_conv\\checkpoint-30-97.85.hdf5\n",
      "1/1 [==============================] - 1s 1s/step - loss: 425.5364 - mse: 425.5364 - val_loss: 97.8484 - val_mse: 97.8484\n",
      "Epoch 31/60\n",
      "1/1 [==============================] - ETA: 0s - loss: 441.7228 - mse: 441.7228\n",
      "Epoch 31: saving model to ./checkpoint_VGG16_finetune_670m_seclast_conv\\checkpoint-31-90.55.hdf5\n",
      "1/1 [==============================] - 1s 1s/step - loss: 441.7228 - mse: 441.7228 - val_loss: 90.5547 - val_mse: 90.5547\n",
      "Epoch 32/60\n",
      "1/1 [==============================] - ETA: 0s - loss: 479.6530 - mse: 479.6530\n",
      "Epoch 32: saving model to ./checkpoint_VGG16_finetune_670m_seclast_conv\\checkpoint-32-142.37.hdf5\n",
      "1/1 [==============================] - 1s 1s/step - loss: 479.6530 - mse: 479.6530 - val_loss: 142.3682 - val_mse: 142.3682\n",
      "Epoch 33/60\n",
      "1/1 [==============================] - ETA: 0s - loss: 379.1418 - mse: 379.1418\n",
      "Epoch 33: saving model to ./checkpoint_VGG16_finetune_670m_seclast_conv\\checkpoint-33-106.20.hdf5\n",
      "1/1 [==============================] - 1s 1s/step - loss: 379.1418 - mse: 379.1418 - val_loss: 106.2010 - val_mse: 106.2010\n",
      "Epoch 34/60\n",
      "1/1 [==============================] - ETA: 0s - loss: 442.3891 - mse: 442.3891\n",
      "Epoch 34: saving model to ./checkpoint_VGG16_finetune_670m_seclast_conv\\checkpoint-34-87.91.hdf5\n",
      "1/1 [==============================] - 1s 1s/step - loss: 442.3891 - mse: 442.3891 - val_loss: 87.9078 - val_mse: 87.9078\n",
      "Epoch 35/60\n",
      "1/1 [==============================] - ETA: 0s - loss: 358.0335 - mse: 358.0335\n",
      "Epoch 35: saving model to ./checkpoint_VGG16_finetune_670m_seclast_conv\\checkpoint-35-56.48.hdf5\n",
      "1/1 [==============================] - 1s 1s/step - loss: 358.0335 - mse: 358.0335 - val_loss: 56.4781 - val_mse: 56.4781\n",
      "Epoch 36/60\n",
      "1/1 [==============================] - ETA: 0s - loss: 402.4927 - mse: 402.4927\n",
      "Epoch 36: saving model to ./checkpoint_VGG16_finetune_670m_seclast_conv\\checkpoint-36-54.78.hdf5\n",
      "1/1 [==============================] - 1s 1s/step - loss: 402.4927 - mse: 402.4927 - val_loss: 54.7772 - val_mse: 54.7772\n",
      "Epoch 37/60\n",
      "1/1 [==============================] - ETA: 0s - loss: 318.7892 - mse: 318.7892\n",
      "Epoch 37: saving model to ./checkpoint_VGG16_finetune_670m_seclast_conv\\checkpoint-37-60.17.hdf5\n",
      "1/1 [==============================] - 1s 1s/step - loss: 318.7892 - mse: 318.7892 - val_loss: 60.1690 - val_mse: 60.1690\n",
      "Epoch 38/60\n",
      "1/1 [==============================] - ETA: 0s - loss: 463.0194 - mse: 463.0194\n",
      "Epoch 38: saving model to ./checkpoint_VGG16_finetune_670m_seclast_conv\\checkpoint-38-84.46.hdf5\n",
      "1/1 [==============================] - 1s 1s/step - loss: 463.0194 - mse: 463.0194 - val_loss: 84.4567 - val_mse: 84.4567\n",
      "Epoch 39/60\n",
      "1/1 [==============================] - ETA: 0s - loss: 383.1184 - mse: 383.1184\n",
      "Epoch 39: saving model to ./checkpoint_VGG16_finetune_670m_seclast_conv\\checkpoint-39-142.19.hdf5\n",
      "1/1 [==============================] - 1s 1s/step - loss: 383.1184 - mse: 383.1184 - val_loss: 142.1887 - val_mse: 142.1887\n",
      "Epoch 40/60\n",
      "1/1 [==============================] - ETA: 0s - loss: 402.9911 - mse: 402.9911\n",
      "Epoch 40: saving model to ./checkpoint_VGG16_finetune_670m_seclast_conv\\checkpoint-40-176.34.hdf5\n",
      "1/1 [==============================] - 1s 1s/step - loss: 402.9911 - mse: 402.9911 - val_loss: 176.3379 - val_mse: 176.3379\n",
      "Epoch 41/60\n",
      "1/1 [==============================] - ETA: 0s - loss: 600.5630 - mse: 600.5630\n",
      "Epoch 41: saving model to ./checkpoint_VGG16_finetune_670m_seclast_conv\\checkpoint-41-134.39.hdf5\n",
      "1/1 [==============================] - 1s 1s/step - loss: 600.5630 - mse: 600.5630 - val_loss: 134.3879 - val_mse: 134.3879\n",
      "Epoch 42/60\n",
      "1/1 [==============================] - ETA: 0s - loss: 378.1906 - mse: 378.1906\n",
      "Epoch 42: saving model to ./checkpoint_VGG16_finetune_670m_seclast_conv\\checkpoint-42-86.89.hdf5\n",
      "1/1 [==============================] - 1s 1s/step - loss: 378.1906 - mse: 378.1906 - val_loss: 86.8909 - val_mse: 86.8909\n",
      "Epoch 43/60\n",
      "1/1 [==============================] - ETA: 0s - loss: 457.5858 - mse: 457.5858\n",
      "Epoch 43: saving model to ./checkpoint_VGG16_finetune_670m_seclast_conv\\checkpoint-43-76.37.hdf5\n",
      "1/1 [==============================] - 1s 1s/step - loss: 457.5858 - mse: 457.5858 - val_loss: 76.3718 - val_mse: 76.3718\n",
      "Epoch 44/60\n",
      "1/1 [==============================] - ETA: 0s - loss: 459.1298 - mse: 459.1298\n",
      "Epoch 44: saving model to ./checkpoint_VGG16_finetune_670m_seclast_conv\\checkpoint-44-73.52.hdf5\n",
      "1/1 [==============================] - 1s 1s/step - loss: 459.1298 - mse: 459.1298 - val_loss: 73.5193 - val_mse: 73.5193\n",
      "Epoch 45/60\n",
      "1/1 [==============================] - ETA: 0s - loss: 482.6091 - mse: 482.6091\n",
      "Epoch 45: saving model to ./checkpoint_VGG16_finetune_670m_seclast_conv\\checkpoint-45-80.20.hdf5\n",
      "1/1 [==============================] - 1s 1s/step - loss: 482.6091 - mse: 482.6091 - val_loss: 80.2036 - val_mse: 80.2036\n",
      "Epoch 46/60\n",
      "1/1 [==============================] - ETA: 0s - loss: 370.7589 - mse: 370.7589\n",
      "Epoch 46: saving model to ./checkpoint_VGG16_finetune_670m_seclast_conv\\checkpoint-46-111.06.hdf5\n",
      "1/1 [==============================] - 1s 1s/step - loss: 370.7589 - mse: 370.7589 - val_loss: 111.0563 - val_mse: 111.0563\n",
      "Epoch 47/60\n",
      "1/1 [==============================] - ETA: 0s - loss: 411.1111 - mse: 411.1111\n",
      "Epoch 47: saving model to ./checkpoint_VGG16_finetune_670m_seclast_conv\\checkpoint-47-172.05.hdf5\n",
      "1/1 [==============================] - 1s 1s/step - loss: 411.1111 - mse: 411.1111 - val_loss: 172.0484 - val_mse: 172.0484\n",
      "Epoch 48/60\n",
      "1/1 [==============================] - ETA: 0s - loss: 514.5656 - mse: 514.5656\n",
      "Epoch 48: saving model to ./checkpoint_VGG16_finetune_670m_seclast_conv\\checkpoint-48-233.34.hdf5\n",
      "1/1 [==============================] - 1s 1s/step - loss: 514.5656 - mse: 514.5656 - val_loss: 233.3425 - val_mse: 233.3425\n",
      "Epoch 49/60\n",
      "1/1 [==============================] - ETA: 0s - loss: 469.5362 - mse: 469.5362\n",
      "Epoch 49: saving model to ./checkpoint_VGG16_finetune_670m_seclast_conv\\checkpoint-49-205.46.hdf5\n",
      "1/1 [==============================] - 1s 1s/step - loss: 469.5362 - mse: 469.5362 - val_loss: 205.4581 - val_mse: 205.4581\n",
      "Epoch 50/60\n",
      "1/1 [==============================] - ETA: 0s - loss: 389.3743 - mse: 389.3743\n",
      "Epoch 50: saving model to ./checkpoint_VGG16_finetune_670m_seclast_conv\\checkpoint-50-141.19.hdf5\n",
      "1/1 [==============================] - 1s 1s/step - loss: 389.3743 - mse: 389.3743 - val_loss: 141.1943 - val_mse: 141.1943\n",
      "Epoch 51/60\n",
      "1/1 [==============================] - ETA: 0s - loss: 382.3441 - mse: 382.3441\n",
      "Epoch 51: saving model to ./checkpoint_VGG16_finetune_670m_seclast_conv\\checkpoint-51-98.54.hdf5\n",
      "1/1 [==============================] - 1s 1s/step - loss: 382.3441 - mse: 382.3441 - val_loss: 98.5359 - val_mse: 98.5359\n",
      "Epoch 52/60\n",
      "1/1 [==============================] - ETA: 0s - loss: 435.0072 - mse: 435.0072\n",
      "Epoch 52: saving model to ./checkpoint_VGG16_finetune_670m_seclast_conv\\checkpoint-52-109.54.hdf5\n",
      "1/1 [==============================] - 1s 1s/step - loss: 435.0072 - mse: 435.0072 - val_loss: 109.5366 - val_mse: 109.5366\n",
      "Epoch 53/60\n",
      "1/1 [==============================] - ETA: 0s - loss: 361.3774 - mse: 361.3774\n",
      "Epoch 53: saving model to ./checkpoint_VGG16_finetune_670m_seclast_conv\\checkpoint-53-127.45.hdf5\n",
      "1/1 [==============================] - 1s 1s/step - loss: 361.3774 - mse: 361.3774 - val_loss: 127.4534 - val_mse: 127.4534\n",
      "Epoch 54/60\n",
      "1/1 [==============================] - ETA: 0s - loss: 388.9538 - mse: 388.9538\n",
      "Epoch 54: saving model to ./checkpoint_VGG16_finetune_670m_seclast_conv\\checkpoint-54-170.54.hdf5\n",
      "1/1 [==============================] - 1s 1s/step - loss: 388.9538 - mse: 388.9538 - val_loss: 170.5365 - val_mse: 170.5365\n",
      "Epoch 55/60\n",
      "1/1 [==============================] - ETA: 0s - loss: 386.9996 - mse: 386.9996\n",
      "Epoch 55: saving model to ./checkpoint_VGG16_finetune_670m_seclast_conv\\checkpoint-55-207.71.hdf5\n",
      "1/1 [==============================] - 1s 1s/step - loss: 386.9996 - mse: 386.9996 - val_loss: 207.7082 - val_mse: 207.7082\n",
      "Epoch 56/60\n",
      "1/1 [==============================] - ETA: 0s - loss: 437.7817 - mse: 437.7817\n",
      "Epoch 56: saving model to ./checkpoint_VGG16_finetune_670m_seclast_conv\\checkpoint-56-178.98.hdf5\n",
      "1/1 [==============================] - 1s 1s/step - loss: 437.7817 - mse: 437.7817 - val_loss: 178.9753 - val_mse: 178.9753\n",
      "Epoch 57/60\n",
      "1/1 [==============================] - ETA: 0s - loss: 360.1611 - mse: 360.1611\n",
      "Epoch 57: saving model to ./checkpoint_VGG16_finetune_670m_seclast_conv\\checkpoint-57-135.36.hdf5\n",
      "1/1 [==============================] - 1s 1s/step - loss: 360.1611 - mse: 360.1611 - val_loss: 135.3623 - val_mse: 135.3623\n",
      "Epoch 58/60\n",
      "1/1 [==============================] - ETA: 0s - loss: 481.5075 - mse: 481.5075\n",
      "Epoch 58: saving model to ./checkpoint_VGG16_finetune_670m_seclast_conv\\checkpoint-58-106.58.hdf5\n",
      "1/1 [==============================] - 1s 1s/step - loss: 481.5075 - mse: 481.5075 - val_loss: 106.5788 - val_mse: 106.5788\n",
      "Epoch 59/60\n",
      "1/1 [==============================] - ETA: 0s - loss: 462.9968 - mse: 462.9968\n",
      "Epoch 59: saving model to ./checkpoint_VGG16_finetune_670m_seclast_conv\\checkpoint-59-126.78.hdf5\n",
      "1/1 [==============================] - 1s 1s/step - loss: 462.9968 - mse: 462.9968 - val_loss: 126.7771 - val_mse: 126.7771\n",
      "Epoch 60/60\n",
      "1/1 [==============================] - ETA: 0s - loss: 431.3134 - mse: 431.3134\n",
      "Epoch 60: saving model to ./checkpoint_VGG16_finetune_670m_seclast_conv\\checkpoint-60-152.95.hdf5\n",
      "1/1 [==============================] - 1s 1s/step - loss: 431.3134 - mse: 431.3134 - val_loss: 152.9530 - val_mse: 152.9530\n"
     ]
    },
    {
     "data": {
      "text/plain": "<keras.callbacks.History at 0x158d0fa31c0>"
     },
     "execution_count": 46,
     "metadata": {},
     "output_type": "execute_result"
    }
   ],
   "source": [
    "model_final.fit_generator(train_generator, steps_per_epoch=len(X_train)//batch_size, epochs=60, verbose=1, callbacks=[checkpoint,history], validation_data=validation_generator, validation_steps=len(y_train)//batch_size\n",
    "              )"
   ]
  },
  {
   "cell_type": "markdown",
   "metadata": {
    "pycharm": {
     "name": "#%% md\n"
    }
   },
   "source": [
    "# What about further retraining the third to last conv. layer?\n"
   ]
  },
  {
   "cell_type": "code",
   "execution_count": 47,
   "metadata": {
    "pycharm": {
     "name": "#%%\n"
    }
   },
   "outputs": [],
   "source": [
    "# again load your best model from the last training here\n",
    "model = load_model('./checkpoint_VGG16_finetune_670m_seclast_conv/checkpoint-35-56.48.hdf5') #670m"
   ]
  },
  {
   "cell_type": "code",
   "execution_count": 48,
   "metadata": {
    "pycharm": {
     "name": "#%%\n"
    }
   },
   "outputs": [
    {
     "name": "stdout",
     "output_type": "stream",
     "text": [
      "Model: \"model_2\"\n",
      "_________________________________________________________________\n",
      " Layer (type)                Output Shape              Param #   \n",
      "=================================================================\n",
      " input_3 (InputLayer)        [(None, 224, 224, 3)]     0         \n",
      "                                                                 \n",
      " block1_conv1 (Conv2D)       (None, 224, 224, 64)      1792      \n",
      "                                                                 \n",
      " block1_conv2 (Conv2D)       (None, 224, 224, 64)      36928     \n",
      "                                                                 \n",
      " block1_pool (MaxPooling2D)  (None, 112, 112, 64)      0         \n",
      "                                                                 \n",
      " block2_conv1 (Conv2D)       (None, 112, 112, 128)     73856     \n",
      "                                                                 \n",
      " block2_conv2 (Conv2D)       (None, 112, 112, 128)     147584    \n",
      "                                                                 \n",
      " block2_pool (MaxPooling2D)  (None, 56, 56, 128)       0         \n",
      "                                                                 \n",
      " block3_conv1 (Conv2D)       (None, 56, 56, 256)       295168    \n",
      "                                                                 \n",
      " block3_conv2 (Conv2D)       (None, 56, 56, 256)       590080    \n",
      "                                                                 \n",
      " block3_conv3 (Conv2D)       (None, 56, 56, 256)       590080    \n",
      "                                                                 \n",
      " block3_pool (MaxPooling2D)  (None, 28, 28, 256)       0         \n",
      "                                                                 \n",
      " block4_conv1 (Conv2D)       (None, 28, 28, 512)       1180160   \n",
      "                                                                 \n",
      " block4_conv2 (Conv2D)       (None, 28, 28, 512)       2359808   \n",
      "                                                                 \n",
      " block4_conv3 (Conv2D)       (None, 28, 28, 512)       2359808   \n",
      "                                                                 \n",
      " block4_pool (MaxPooling2D)  (None, 14, 14, 512)       0         \n",
      "                                                                 \n",
      " block5_conv1 (Conv2D)       (None, 14, 14, 512)       2359808   \n",
      "                                                                 \n",
      " block5_conv2 (Conv2D)       (None, 14, 14, 512)       2359808   \n",
      "                                                                 \n",
      " block5_conv3 (Conv2D)       (None, 14, 14, 512)       2359808   \n",
      "                                                                 \n",
      " block5_pool (MaxPooling2D)  (None, 7, 7, 512)         0         \n",
      "                                                                 \n",
      " global_max_pooling2d_2 (Glo  (None, 512)              0         \n",
      " balMaxPooling2D)                                                \n",
      "                                                                 \n",
      " dropout_8 (Dropout)         (None, 512)               0         \n",
      "                                                                 \n",
      " dense_8 (Dense)             (None, 128)               65664     \n",
      "                                                                 \n",
      " dropout_9 (Dropout)         (None, 128)               0         \n",
      "                                                                 \n",
      " dense_9 (Dense)             (None, 1)                 129       \n",
      "                                                                 \n",
      "=================================================================\n",
      "Total params: 14,780,481\n",
      "Trainable params: 2,359,808\n",
      "Non-trainable params: 12,420,673\n",
      "_________________________________________________________________\n"
     ]
    }
   ],
   "source": [
    "model.summary()"
   ]
  },
  {
   "cell_type": "code",
   "execution_count": 49,
   "metadata": {
    "pycharm": {
     "name": "#%%\n"
    }
   },
   "outputs": [],
   "source": [
    "weights_lastconv = model.layers[-7].get_weights()"
   ]
  },
  {
   "cell_type": "code",
   "execution_count": 50,
   "metadata": {
    "pycharm": {
     "name": "#%%\n"
    }
   },
   "outputs": [],
   "source": [
    "weights_2tolastconv = model.layers[-8].get_weights()"
   ]
  },
  {
   "cell_type": "code",
   "execution_count": 51,
   "metadata": {
    "pycharm": {
     "name": "#%%\n"
    }
   },
   "outputs": [],
   "source": [
    "weights_128 = model.layers[-3].get_weights()\n",
    "weights_1 = model.layers[-1].get_weights()"
   ]
  },
  {
   "cell_type": "code",
   "execution_count": 52,
   "metadata": {
    "pycharm": {
     "name": "#%%\n"
    }
   },
   "outputs": [],
   "source": [
    "VGG_finetune = VGG16(include_top=False, weights='imagenet', \\\n",
    "                            input_tensor=None, input_shape=(image_size, image_size, 3), pooling='max', classes=1000)"
   ]
  },
  {
   "cell_type": "code",
   "execution_count": 53,
   "metadata": {
    "pycharm": {
     "name": "#%%\n"
    }
   },
   "outputs": [],
   "source": [
    "for layer in VGG_finetune.layers[:-5]:\n",
    "    layer.trainable = False\n",
    "for layer in VGG_finetune.layers[-4:]:\n",
    "    layer.trainable = False"
   ]
  },
  {
   "cell_type": "code",
   "execution_count": 54,
   "metadata": {
    "pycharm": {
     "name": "#%%\n"
    }
   },
   "outputs": [],
   "source": [
    "VGG_finetune.layers[-3].set_weights(weights_lastconv)\n",
    "VGG_finetune.layers[-4].set_weights(weights_2tolastconv)"
   ]
  },
  {
   "cell_type": "code",
   "execution_count": 55,
   "metadata": {
    "scrolled": false,
    "pycharm": {
     "name": "#%%\n"
    }
   },
   "outputs": [
    {
     "name": "stdout",
     "output_type": "stream",
     "text": [
      "Model: \"vgg16\"\n",
      "_________________________________________________________________\n",
      " Layer (type)                Output Shape              Param #   \n",
      "=================================================================\n",
      " input_4 (InputLayer)        [(None, 224, 224, 3)]     0         \n",
      "                                                                 \n",
      " block1_conv1 (Conv2D)       (None, 224, 224, 64)      1792      \n",
      "                                                                 \n",
      " block1_conv2 (Conv2D)       (None, 224, 224, 64)      36928     \n",
      "                                                                 \n",
      " block1_pool (MaxPooling2D)  (None, 112, 112, 64)      0         \n",
      "                                                                 \n",
      " block2_conv1 (Conv2D)       (None, 112, 112, 128)     73856     \n",
      "                                                                 \n",
      " block2_conv2 (Conv2D)       (None, 112, 112, 128)     147584    \n",
      "                                                                 \n",
      " block2_pool (MaxPooling2D)  (None, 56, 56, 128)       0         \n",
      "                                                                 \n",
      " block3_conv1 (Conv2D)       (None, 56, 56, 256)       295168    \n",
      "                                                                 \n",
      " block3_conv2 (Conv2D)       (None, 56, 56, 256)       590080    \n",
      "                                                                 \n",
      " block3_conv3 (Conv2D)       (None, 56, 56, 256)       590080    \n",
      "                                                                 \n",
      " block3_pool (MaxPooling2D)  (None, 28, 28, 256)       0         \n",
      "                                                                 \n",
      " block4_conv1 (Conv2D)       (None, 28, 28, 512)       1180160   \n",
      "                                                                 \n",
      " block4_conv2 (Conv2D)       (None, 28, 28, 512)       2359808   \n",
      "                                                                 \n",
      " block4_conv3 (Conv2D)       (None, 28, 28, 512)       2359808   \n",
      "                                                                 \n",
      " block4_pool (MaxPooling2D)  (None, 14, 14, 512)       0         \n",
      "                                                                 \n",
      " block5_conv1 (Conv2D)       (None, 14, 14, 512)       2359808   \n",
      "                                                                 \n",
      " block5_conv2 (Conv2D)       (None, 14, 14, 512)       2359808   \n",
      "                                                                 \n",
      " block5_conv3 (Conv2D)       (None, 14, 14, 512)       2359808   \n",
      "                                                                 \n",
      " block5_pool (MaxPooling2D)  (None, 7, 7, 512)         0         \n",
      "                                                                 \n",
      " global_max_pooling2d_3 (Glo  (None, 512)              0         \n",
      " balMaxPooling2D)                                                \n",
      "                                                                 \n",
      "=================================================================\n",
      "Total params: 14,714,688\n",
      "Trainable params: 2,359,808\n",
      "Non-trainable params: 12,354,880\n",
      "_________________________________________________________________\n"
     ]
    }
   ],
   "source": [
    "VGG_finetune.summary()"
   ]
  },
  {
   "cell_type": "markdown",
   "metadata": {
    "pycharm": {
     "name": "#%% md\n"
    }
   },
   "source": [
    "# then"
   ]
  },
  {
   "cell_type": "code",
   "execution_count": 59,
   "metadata": {
    "pycharm": {
     "name": "#%%\n"
    }
   },
   "outputs": [],
   "source": [
    "x = VGG_finetune.output\n",
    "x = Dropout(0.5)(x)\n",
    "x = Dense(128, activation=\"relu\", weights = weights_128)(x)\n",
    "x = Dropout(0.5)(x)\n",
    "predictions = Dense(1, activation=None, weights = weights_1)(x)\n",
    "# creating the final model \n",
    "model_final = Model(inputs = VGG_finetune.input, outputs = predictions)"
   ]
  },
  {
   "cell_type": "code",
   "execution_count": 60,
   "metadata": {
    "pycharm": {
     "name": "#%%\n"
    }
   },
   "outputs": [],
   "source": [
    "for layer in model_final.layers[-3:]:\n",
    "    layer.trainable = False"
   ]
  },
  {
   "cell_type": "code",
   "execution_count": 61,
   "metadata": {
    "pycharm": {
     "name": "#%%\n"
    }
   },
   "outputs": [],
   "source": [
    "model_final.compile(optimizer=optimizers.Adam(), loss='mean_squared_error', metrics=['mse'])\n"
   ]
  },
  {
   "cell_type": "code",
   "execution_count": 62,
   "metadata": {
    "scrolled": true,
    "pycharm": {
     "name": "#%%\n"
    }
   },
   "outputs": [
    {
     "name": "stdout",
     "output_type": "stream",
     "text": [
      "Model: \"model_5\"\n",
      "_________________________________________________________________\n",
      " Layer (type)                Output Shape              Param #   \n",
      "=================================================================\n",
      " input_4 (InputLayer)        [(None, 224, 224, 3)]     0         \n",
      "                                                                 \n",
      " block1_conv1 (Conv2D)       (None, 224, 224, 64)      1792      \n",
      "                                                                 \n",
      " block1_conv2 (Conv2D)       (None, 224, 224, 64)      36928     \n",
      "                                                                 \n",
      " block1_pool (MaxPooling2D)  (None, 112, 112, 64)      0         \n",
      "                                                                 \n",
      " block2_conv1 (Conv2D)       (None, 112, 112, 128)     73856     \n",
      "                                                                 \n",
      " block2_conv2 (Conv2D)       (None, 112, 112, 128)     147584    \n",
      "                                                                 \n",
      " block2_pool (MaxPooling2D)  (None, 56, 56, 128)       0         \n",
      "                                                                 \n",
      " block3_conv1 (Conv2D)       (None, 56, 56, 256)       295168    \n",
      "                                                                 \n",
      " block3_conv2 (Conv2D)       (None, 56, 56, 256)       590080    \n",
      "                                                                 \n",
      " block3_conv3 (Conv2D)       (None, 56, 56, 256)       590080    \n",
      "                                                                 \n",
      " block3_pool (MaxPooling2D)  (None, 28, 28, 256)       0         \n",
      "                                                                 \n",
      " block4_conv1 (Conv2D)       (None, 28, 28, 512)       1180160   \n",
      "                                                                 \n",
      " block4_conv2 (Conv2D)       (None, 28, 28, 512)       2359808   \n",
      "                                                                 \n",
      " block4_conv3 (Conv2D)       (None, 28, 28, 512)       2359808   \n",
      "                                                                 \n",
      " block4_pool (MaxPooling2D)  (None, 14, 14, 512)       0         \n",
      "                                                                 \n",
      " block5_conv1 (Conv2D)       (None, 14, 14, 512)       2359808   \n",
      "                                                                 \n",
      " block5_conv2 (Conv2D)       (None, 14, 14, 512)       2359808   \n",
      "                                                                 \n",
      " block5_conv3 (Conv2D)       (None, 14, 14, 512)       2359808   \n",
      "                                                                 \n",
      " block5_pool (MaxPooling2D)  (None, 7, 7, 512)         0         \n",
      "                                                                 \n",
      " global_max_pooling2d_3 (Glo  (None, 512)              0         \n",
      " balMaxPooling2D)                                                \n",
      "                                                                 \n",
      " dropout_16 (Dropout)        (None, 512)               0         \n",
      "                                                                 \n",
      " dense_16 (Dense)            (None, 128)               65664     \n",
      "                                                                 \n",
      " dropout_17 (Dropout)        (None, 128)               0         \n",
      "                                                                 \n",
      " dense_17 (Dense)            (None, 1)                 129       \n",
      "                                                                 \n",
      "=================================================================\n",
      "Total params: 14,780,481\n",
      "Trainable params: 2,359,808\n",
      "Non-trainable params: 12,420,673\n",
      "_________________________________________________________________\n"
     ]
    }
   ],
   "source": [
    "model_final.summary()"
   ]
  },
  {
   "cell_type": "code",
   "execution_count": 63,
   "metadata": {
    "pycharm": {
     "name": "#%%\n"
    }
   },
   "outputs": [],
   "source": [
    "train_datagen = ImageDataGenerator(\n",
    "                rotation_range=30, width_shift_range=0.1, height_shift_range=0.1, zoom_range = 0.5,\\\n",
    "                            fill_mode = 'reflect', horizontal_flip = True,vertical_flip=True, channel_shift_range = 0)\n",
    "test_datagen = ImageDataGenerator()"
   ]
  },
  {
   "cell_type": "code",
   "execution_count": 64,
   "metadata": {
    "pycharm": {
     "name": "#%%\n"
    }
   },
   "outputs": [],
   "source": [
    "train_generator = train_datagen.flow(X_train, y_train, batch_size=batch_size)\n",
    "validation_generator = test_datagen.flow(X_test, y_test, batch_size=batch_size)"
   ]
  },
  {
   "cell_type": "code",
   "execution_count": 65,
   "metadata": {
    "pycharm": {
     "name": "#%%\n"
    }
   },
   "outputs": [
    {
     "name": "stdout",
     "output_type": "stream",
     "text": [
      "WARNING:tensorflow:`period` argument is deprecated. Please use `save_freq` to specify the frequency in number of batches seen.\n"
     ]
    }
   ],
   "source": [
    "checkpoint = ModelCheckpoint(filepath='./checkpoint_VGG16_finetune_670m_thirdlast_conv/checkpoint-{epoch:02d}-{val_loss:.2f}.hdf5', monitor='val_loss', verbose=1, save_best_only=False, save_weights_only=False, mode='auto', period=1)\n",
    "#early = EarlyStopping(monitor='val_loss', min_delta=0, patience=10, verbose=1, mode='auto')\n",
    "class LossHistory(Callback):\n",
    "    def on_train_begin(self, logs={}):\n",
    "        self.losses = []\n",
    "\n",
    "    def on_batch_end(self, batch, logs={}):\n",
    "        self.losses.append(logs.get('loss'))\n",
    "history = LossHistory()"
   ]
  },
  {
   "cell_type": "code",
   "execution_count": 66,
   "metadata": {
    "scrolled": false,
    "pycharm": {
     "name": "#%%\n"
    }
   },
   "outputs": [
    {
     "name": "stderr",
     "output_type": "stream",
     "text": [
      "C:\\Users\\benny\\AppData\\Local\\Temp\\ipykernel_26464\\1802957179.py:1: UserWarning: `Model.fit_generator` is deprecated and will be removed in a future version. Please use `Model.fit`, which supports generators.\n",
      "  model_final.fit_generator(train_generator, steps_per_epoch=len(X_train)//batch_size, epochs=80, verbose=1, callbacks=[checkpoint,history], validation_data=validation_generator, validation_steps=len(y_train)//batch_size\n"
     ]
    },
    {
     "name": "stdout",
     "output_type": "stream",
     "text": [
      "Epoch 1/80\n",
      "1/1 [==============================] - ETA: 0s - loss: 409.4261 - mse: 409.4261\n",
      "Epoch 1: saving model to ./checkpoint_VGG16_finetune_670m_thirdlast_conv\\checkpoint-01-627.68.hdf5\n",
      "1/1 [==============================] - 2s 2s/step - loss: 409.4261 - mse: 409.4261 - val_loss: 627.6820 - val_mse: 627.6820\n",
      "Epoch 2/80\n",
      "1/1 [==============================] - ETA: 0s - loss: 1114.4188 - mse: 1114.4188\n",
      "Epoch 2: saving model to ./checkpoint_VGG16_finetune_670m_thirdlast_conv\\checkpoint-02-687.31.hdf5\n",
      "1/1 [==============================] - 1s 1s/step - loss: 1114.4188 - mse: 1114.4188 - val_loss: 687.3127 - val_mse: 687.3127\n",
      "Epoch 3/80\n",
      "1/1 [==============================] - ETA: 0s - loss: 1842.0508 - mse: 1842.0508\n",
      "Epoch 3: saving model to ./checkpoint_VGG16_finetune_670m_thirdlast_conv\\checkpoint-03-130.90.hdf5\n",
      "1/1 [==============================] - 1s 1s/step - loss: 1842.0508 - mse: 1842.0508 - val_loss: 130.9000 - val_mse: 130.9000\n",
      "Epoch 4/80\n",
      "1/1 [==============================] - ETA: 0s - loss: 941.8102 - mse: 941.8102\n",
      "Epoch 4: saving model to ./checkpoint_VGG16_finetune_670m_thirdlast_conv\\checkpoint-04-325.65.hdf5\n",
      "1/1 [==============================] - 1s 1s/step - loss: 941.8102 - mse: 941.8102 - val_loss: 325.6518 - val_mse: 325.6518\n",
      "Epoch 5/80\n",
      "1/1 [==============================] - ETA: 0s - loss: 948.2349 - mse: 948.2349\n",
      "Epoch 5: saving model to ./checkpoint_VGG16_finetune_670m_thirdlast_conv\\checkpoint-05-253.31.hdf5\n",
      "1/1 [==============================] - 1s 1s/step - loss: 948.2349 - mse: 948.2349 - val_loss: 253.3142 - val_mse: 253.3142\n",
      "Epoch 6/80\n",
      "1/1 [==============================] - ETA: 0s - loss: 797.2160 - mse: 797.2160\n",
      "Epoch 6: saving model to ./checkpoint_VGG16_finetune_670m_thirdlast_conv\\checkpoint-06-100.20.hdf5\n",
      "1/1 [==============================] - 1s 1s/step - loss: 797.2160 - mse: 797.2160 - val_loss: 100.2035 - val_mse: 100.2035\n",
      "Epoch 7/80\n",
      "1/1 [==============================] - ETA: 0s - loss: 813.5094 - mse: 813.5094\n",
      "Epoch 7: saving model to ./checkpoint_VGG16_finetune_670m_thirdlast_conv\\checkpoint-07-282.49.hdf5\n",
      "1/1 [==============================] - 1s 1s/step - loss: 813.5094 - mse: 813.5094 - val_loss: 282.4864 - val_mse: 282.4864\n",
      "Epoch 8/80\n",
      "1/1 [==============================] - ETA: 0s - loss: 1335.9342 - mse: 1335.9342\n",
      "Epoch 8: saving model to ./checkpoint_VGG16_finetune_670m_thirdlast_conv\\checkpoint-08-103.96.hdf5\n",
      "1/1 [==============================] - 1s 1s/step - loss: 1335.9342 - mse: 1335.9342 - val_loss: 103.9550 - val_mse: 103.9550\n",
      "Epoch 9/80\n",
      "1/1 [==============================] - ETA: 0s - loss: 733.9341 - mse: 733.9341\n",
      "Epoch 9: saving model to ./checkpoint_VGG16_finetune_670m_thirdlast_conv\\checkpoint-09-173.43.hdf5\n",
      "1/1 [==============================] - 1s 1s/step - loss: 733.9341 - mse: 733.9341 - val_loss: 173.4318 - val_mse: 173.4318\n",
      "Epoch 10/80\n",
      "1/1 [==============================] - ETA: 0s - loss: 664.7109 - mse: 664.7109\n",
      "Epoch 10: saving model to ./checkpoint_VGG16_finetune_670m_thirdlast_conv\\checkpoint-10-279.75.hdf5\n",
      "1/1 [==============================] - 1s 1s/step - loss: 664.7109 - mse: 664.7109 - val_loss: 279.7466 - val_mse: 279.7466\n",
      "Epoch 11/80\n",
      "1/1 [==============================] - ETA: 0s - loss: 779.8413 - mse: 779.8413\n",
      "Epoch 11: saving model to ./checkpoint_VGG16_finetune_670m_thirdlast_conv\\checkpoint-11-308.32.hdf5\n",
      "1/1 [==============================] - 1s 1s/step - loss: 779.8413 - mse: 779.8413 - val_loss: 308.3226 - val_mse: 308.3226\n",
      "Epoch 12/80\n",
      "1/1 [==============================] - ETA: 0s - loss: 803.7235 - mse: 803.7235\n",
      "Epoch 12: saving model to ./checkpoint_VGG16_finetune_670m_thirdlast_conv\\checkpoint-12-234.20.hdf5\n",
      "1/1 [==============================] - 1s 1s/step - loss: 803.7235 - mse: 803.7235 - val_loss: 234.2037 - val_mse: 234.2037\n",
      "Epoch 13/80\n",
      "1/1 [==============================] - ETA: 0s - loss: 532.8162 - mse: 532.8162\n",
      "Epoch 13: saving model to ./checkpoint_VGG16_finetune_670m_thirdlast_conv\\checkpoint-13-96.48.hdf5\n",
      "1/1 [==============================] - 1s 1s/step - loss: 532.8162 - mse: 532.8162 - val_loss: 96.4761 - val_mse: 96.4761\n",
      "Epoch 14/80\n",
      "1/1 [==============================] - ETA: 0s - loss: 721.8201 - mse: 721.8201\n",
      "Epoch 14: saving model to ./checkpoint_VGG16_finetune_670m_thirdlast_conv\\checkpoint-14-108.16.hdf5\n",
      "1/1 [==============================] - 1s 1s/step - loss: 721.8201 - mse: 721.8201 - val_loss: 108.1594 - val_mse: 108.1594\n",
      "Epoch 15/80\n",
      "1/1 [==============================] - ETA: 0s - loss: 814.7308 - mse: 814.7308\n",
      "Epoch 15: saving model to ./checkpoint_VGG16_finetune_670m_thirdlast_conv\\checkpoint-15-100.87.hdf5\n",
      "1/1 [==============================] - 1s 1s/step - loss: 814.7308 - mse: 814.7308 - val_loss: 100.8664 - val_mse: 100.8664\n",
      "Epoch 16/80\n",
      "1/1 [==============================] - ETA: 0s - loss: 873.0630 - mse: 873.0630\n",
      "Epoch 16: saving model to ./checkpoint_VGG16_finetune_670m_thirdlast_conv\\checkpoint-16-115.85.hdf5\n",
      "1/1 [==============================] - 1s 1s/step - loss: 873.0630 - mse: 873.0630 - val_loss: 115.8461 - val_mse: 115.8461\n",
      "Epoch 17/80\n",
      "1/1 [==============================] - ETA: 0s - loss: 871.5255 - mse: 871.5255\n",
      "Epoch 17: saving model to ./checkpoint_VGG16_finetune_670m_thirdlast_conv\\checkpoint-17-254.78.hdf5\n",
      "1/1 [==============================] - 1s 1s/step - loss: 871.5255 - mse: 871.5255 - val_loss: 254.7780 - val_mse: 254.7780\n",
      "Epoch 18/80\n",
      "1/1 [==============================] - ETA: 0s - loss: 654.0071 - mse: 654.0071\n",
      "Epoch 18: saving model to ./checkpoint_VGG16_finetune_670m_thirdlast_conv\\checkpoint-18-336.02.hdf5\n",
      "1/1 [==============================] - 1s 1s/step - loss: 654.0071 - mse: 654.0071 - val_loss: 336.0154 - val_mse: 336.0154\n",
      "Epoch 19/80\n",
      "1/1 [==============================] - ETA: 0s - loss: 618.1893 - mse: 618.1893\n",
      "Epoch 19: saving model to ./checkpoint_VGG16_finetune_670m_thirdlast_conv\\checkpoint-19-327.95.hdf5\n",
      "1/1 [==============================] - 1s 1s/step - loss: 618.1893 - mse: 618.1893 - val_loss: 327.9518 - val_mse: 327.9518\n",
      "Epoch 20/80\n",
      "1/1 [==============================] - ETA: 0s - loss: 750.4363 - mse: 750.4363\n",
      "Epoch 20: saving model to ./checkpoint_VGG16_finetune_670m_thirdlast_conv\\checkpoint-20-281.20.hdf5\n",
      "1/1 [==============================] - 1s 1s/step - loss: 750.4363 - mse: 750.4363 - val_loss: 281.1987 - val_mse: 281.1987\n",
      "Epoch 21/80\n",
      "1/1 [==============================] - ETA: 0s - loss: 750.6990 - mse: 750.6990\n",
      "Epoch 21: saving model to ./checkpoint_VGG16_finetune_670m_thirdlast_conv\\checkpoint-21-217.88.hdf5\n",
      "1/1 [==============================] - 1s 1s/step - loss: 750.6990 - mse: 750.6990 - val_loss: 217.8764 - val_mse: 217.8764\n",
      "Epoch 22/80\n",
      "1/1 [==============================] - ETA: 0s - loss: 679.2668 - mse: 679.2668\n",
      "Epoch 22: saving model to ./checkpoint_VGG16_finetune_670m_thirdlast_conv\\checkpoint-22-167.34.hdf5\n",
      "1/1 [==============================] - 1s 1s/step - loss: 679.2668 - mse: 679.2668 - val_loss: 167.3365 - val_mse: 167.3365\n",
      "Epoch 23/80\n",
      "1/1 [==============================] - ETA: 0s - loss: 671.8494 - mse: 671.8494\n",
      "Epoch 23: saving model to ./checkpoint_VGG16_finetune_670m_thirdlast_conv\\checkpoint-23-125.96.hdf5\n",
      "1/1 [==============================] - 1s 1s/step - loss: 671.8494 - mse: 671.8494 - val_loss: 125.9562 - val_mse: 125.9562\n",
      "Epoch 24/80\n",
      "1/1 [==============================] - ETA: 0s - loss: 591.2374 - mse: 591.2374\n",
      "Epoch 24: saving model to ./checkpoint_VGG16_finetune_670m_thirdlast_conv\\checkpoint-24-79.27.hdf5\n",
      "1/1 [==============================] - 1s 1s/step - loss: 591.2374 - mse: 591.2374 - val_loss: 79.2677 - val_mse: 79.2677\n",
      "Epoch 25/80\n",
      "1/1 [==============================] - ETA: 0s - loss: 505.2789 - mse: 505.2789\n",
      "Epoch 25: saving model to ./checkpoint_VGG16_finetune_670m_thirdlast_conv\\checkpoint-25-59.39.hdf5\n",
      "1/1 [==============================] - 1s 1s/step - loss: 505.2789 - mse: 505.2789 - val_loss: 59.3887 - val_mse: 59.3887\n",
      "Epoch 26/80\n",
      "1/1 [==============================] - ETA: 0s - loss: 724.6229 - mse: 724.6229\n",
      "Epoch 26: saving model to ./checkpoint_VGG16_finetune_670m_thirdlast_conv\\checkpoint-26-61.91.hdf5\n",
      "1/1 [==============================] - 1s 1s/step - loss: 724.6229 - mse: 724.6229 - val_loss: 61.9081 - val_mse: 61.9081\n",
      "Epoch 27/80\n",
      "1/1 [==============================] - ETA: 0s - loss: 653.4459 - mse: 653.4459\n",
      "Epoch 27: saving model to ./checkpoint_VGG16_finetune_670m_thirdlast_conv\\checkpoint-27-95.44.hdf5\n",
      "1/1 [==============================] - 1s 1s/step - loss: 653.4459 - mse: 653.4459 - val_loss: 95.4421 - val_mse: 95.4421\n",
      "Epoch 28/80\n",
      "1/1 [==============================] - ETA: 0s - loss: 557.8108 - mse: 557.8108\n",
      "Epoch 28: saving model to ./checkpoint_VGG16_finetune_670m_thirdlast_conv\\checkpoint-28-189.55.hdf5\n",
      "1/1 [==============================] - 1s 1s/step - loss: 557.8108 - mse: 557.8108 - val_loss: 189.5491 - val_mse: 189.5491\n",
      "Epoch 29/80\n",
      "1/1 [==============================] - ETA: 0s - loss: 588.1724 - mse: 588.1724\n",
      "Epoch 29: saving model to ./checkpoint_VGG16_finetune_670m_thirdlast_conv\\checkpoint-29-260.71.hdf5\n",
      "1/1 [==============================] - 1s 1s/step - loss: 588.1724 - mse: 588.1724 - val_loss: 260.7108 - val_mse: 260.7108\n",
      "Epoch 30/80\n",
      "1/1 [==============================] - ETA: 0s - loss: 410.4458 - mse: 410.4458\n",
      "Epoch 30: saving model to ./checkpoint_VGG16_finetune_670m_thirdlast_conv\\checkpoint-30-291.02.hdf5\n",
      "1/1 [==============================] - 1s 1s/step - loss: 410.4458 - mse: 410.4458 - val_loss: 291.0182 - val_mse: 291.0182\n",
      "Epoch 31/80\n",
      "1/1 [==============================] - ETA: 0s - loss: 575.3488 - mse: 575.3488\n",
      "Epoch 31: saving model to ./checkpoint_VGG16_finetune_670m_thirdlast_conv\\checkpoint-31-262.43.hdf5\n",
      "1/1 [==============================] - 1s 1s/step - loss: 575.3488 - mse: 575.3488 - val_loss: 262.4260 - val_mse: 262.4260\n",
      "Epoch 32/80\n",
      "1/1 [==============================] - ETA: 0s - loss: 606.7365 - mse: 606.7365\n",
      "Epoch 32: saving model to ./checkpoint_VGG16_finetune_670m_thirdlast_conv\\checkpoint-32-186.52.hdf5\n",
      "1/1 [==============================] - 1s 1s/step - loss: 606.7365 - mse: 606.7365 - val_loss: 186.5161 - val_mse: 186.5161\n",
      "Epoch 33/80\n",
      "1/1 [==============================] - ETA: 0s - loss: 440.3266 - mse: 440.3266\n",
      "Epoch 33: saving model to ./checkpoint_VGG16_finetune_670m_thirdlast_conv\\checkpoint-33-86.10.hdf5\n",
      "1/1 [==============================] - 1s 1s/step - loss: 440.3266 - mse: 440.3266 - val_loss: 86.1037 - val_mse: 86.1037\n",
      "Epoch 34/80\n",
      "1/1 [==============================] - ETA: 0s - loss: 528.2430 - mse: 528.2430\n",
      "Epoch 34: saving model to ./checkpoint_VGG16_finetune_670m_thirdlast_conv\\checkpoint-34-69.71.hdf5\n",
      "1/1 [==============================] - 1s 1s/step - loss: 528.2430 - mse: 528.2430 - val_loss: 69.7077 - val_mse: 69.7077\n",
      "Epoch 35/80\n",
      "1/1 [==============================] - ETA: 0s - loss: 472.1465 - mse: 472.1465\n",
      "Epoch 35: saving model to ./checkpoint_VGG16_finetune_670m_thirdlast_conv\\checkpoint-35-74.35.hdf5\n",
      "1/1 [==============================] - 1s 1s/step - loss: 472.1465 - mse: 472.1465 - val_loss: 74.3516 - val_mse: 74.3516\n",
      "Epoch 36/80\n",
      "1/1 [==============================] - ETA: 0s - loss: 457.9169 - mse: 457.9169\n",
      "Epoch 36: saving model to ./checkpoint_VGG16_finetune_670m_thirdlast_conv\\checkpoint-36-95.23.hdf5\n",
      "1/1 [==============================] - 1s 1s/step - loss: 457.9169 - mse: 457.9169 - val_loss: 95.2306 - val_mse: 95.2306\n",
      "Epoch 37/80\n",
      "1/1 [==============================] - ETA: 0s - loss: 389.7359 - mse: 389.7359\n",
      "Epoch 37: saving model to ./checkpoint_VGG16_finetune_670m_thirdlast_conv\\checkpoint-37-111.98.hdf5\n",
      "1/1 [==============================] - 1s 1s/step - loss: 389.7359 - mse: 389.7359 - val_loss: 111.9809 - val_mse: 111.9809\n",
      "Epoch 38/80\n",
      "1/1 [==============================] - ETA: 0s - loss: 389.5629 - mse: 389.5629\n",
      "Epoch 38: saving model to ./checkpoint_VGG16_finetune_670m_thirdlast_conv\\checkpoint-38-104.59.hdf5\n",
      "1/1 [==============================] - 1s 1s/step - loss: 389.5629 - mse: 389.5629 - val_loss: 104.5919 - val_mse: 104.5919\n",
      "Epoch 39/80\n",
      "1/1 [==============================] - ETA: 0s - loss: 484.4515 - mse: 484.4515\n",
      "Epoch 39: saving model to ./checkpoint_VGG16_finetune_670m_thirdlast_conv\\checkpoint-39-124.50.hdf5\n",
      "1/1 [==============================] - 1s 1s/step - loss: 484.4515 - mse: 484.4515 - val_loss: 124.4952 - val_mse: 124.4952\n",
      "Epoch 40/80\n",
      "1/1 [==============================] - ETA: 0s - loss: 508.6222 - mse: 508.6222\n",
      "Epoch 40: saving model to ./checkpoint_VGG16_finetune_670m_thirdlast_conv\\checkpoint-40-124.33.hdf5\n",
      "1/1 [==============================] - 1s 1s/step - loss: 508.6222 - mse: 508.6222 - val_loss: 124.3266 - val_mse: 124.3266\n",
      "Epoch 41/80\n",
      "1/1 [==============================] - ETA: 0s - loss: 403.6470 - mse: 403.6470\n",
      "Epoch 41: saving model to ./checkpoint_VGG16_finetune_670m_thirdlast_conv\\checkpoint-41-133.77.hdf5\n",
      "1/1 [==============================] - 1s 1s/step - loss: 403.6470 - mse: 403.6470 - val_loss: 133.7681 - val_mse: 133.7681\n",
      "Epoch 42/80\n",
      "1/1 [==============================] - ETA: 0s - loss: 459.1669 - mse: 459.1669\n",
      "Epoch 42: saving model to ./checkpoint_VGG16_finetune_670m_thirdlast_conv\\checkpoint-42-137.19.hdf5\n",
      "1/1 [==============================] - 1s 1s/step - loss: 459.1669 - mse: 459.1669 - val_loss: 137.1911 - val_mse: 137.1911\n",
      "Epoch 43/80\n",
      "1/1 [==============================] - ETA: 0s - loss: 456.7231 - mse: 456.7231\n",
      "Epoch 43: saving model to ./checkpoint_VGG16_finetune_670m_thirdlast_conv\\checkpoint-43-114.13.hdf5\n",
      "1/1 [==============================] - 1s 1s/step - loss: 456.7231 - mse: 456.7231 - val_loss: 114.1259 - val_mse: 114.1259\n",
      "Epoch 44/80\n",
      "1/1 [==============================] - ETA: 0s - loss: 374.0865 - mse: 374.0865\n",
      "Epoch 44: saving model to ./checkpoint_VGG16_finetune_670m_thirdlast_conv\\checkpoint-44-99.23.hdf5\n",
      "1/1 [==============================] - 1s 1s/step - loss: 374.0865 - mse: 374.0865 - val_loss: 99.2341 - val_mse: 99.2341\n",
      "Epoch 45/80\n",
      "1/1 [==============================] - ETA: 0s - loss: 448.4005 - mse: 448.4005\n",
      "Epoch 45: saving model to ./checkpoint_VGG16_finetune_670m_thirdlast_conv\\checkpoint-45-73.24.hdf5\n",
      "1/1 [==============================] - 1s 1s/step - loss: 448.4005 - mse: 448.4005 - val_loss: 73.2436 - val_mse: 73.2436\n",
      "Epoch 46/80\n",
      "1/1 [==============================] - ETA: 0s - loss: 376.7591 - mse: 376.7591\n",
      "Epoch 46: saving model to ./checkpoint_VGG16_finetune_670m_thirdlast_conv\\checkpoint-46-70.06.hdf5\n",
      "1/1 [==============================] - 1s 1s/step - loss: 376.7591 - mse: 376.7591 - val_loss: 70.0560 - val_mse: 70.0560\n",
      "Epoch 47/80\n",
      "1/1 [==============================] - ETA: 0s - loss: 420.9818 - mse: 420.9818\n",
      "Epoch 47: saving model to ./checkpoint_VGG16_finetune_670m_thirdlast_conv\\checkpoint-47-67.46.hdf5\n",
      "1/1 [==============================] - 1s 1s/step - loss: 420.9818 - mse: 420.9818 - val_loss: 67.4603 - val_mse: 67.4603\n",
      "Epoch 48/80\n",
      "1/1 [==============================] - ETA: 0s - loss: 496.5537 - mse: 496.5537\n",
      "Epoch 48: saving model to ./checkpoint_VGG16_finetune_670m_thirdlast_conv\\checkpoint-48-86.40.hdf5\n",
      "1/1 [==============================] - 1s 1s/step - loss: 496.5537 - mse: 496.5537 - val_loss: 86.3969 - val_mse: 86.3969\n",
      "Epoch 49/80\n",
      "1/1 [==============================] - ETA: 0s - loss: 451.5476 - mse: 451.5476\n",
      "Epoch 49: saving model to ./checkpoint_VGG16_finetune_670m_thirdlast_conv\\checkpoint-49-127.19.hdf5\n",
      "1/1 [==============================] - 1s 1s/step - loss: 451.5476 - mse: 451.5476 - val_loss: 127.1891 - val_mse: 127.1891\n",
      "Epoch 50/80\n",
      "1/1 [==============================] - ETA: 0s - loss: 521.6685 - mse: 521.6685\n",
      "Epoch 50: saving model to ./checkpoint_VGG16_finetune_670m_thirdlast_conv\\checkpoint-50-128.83.hdf5\n",
      "1/1 [==============================] - 1s 1s/step - loss: 521.6685 - mse: 521.6685 - val_loss: 128.8346 - val_mse: 128.8346\n",
      "Epoch 51/80\n",
      "1/1 [==============================] - ETA: 0s - loss: 490.0363 - mse: 490.0363\n",
      "Epoch 51: saving model to ./checkpoint_VGG16_finetune_670m_thirdlast_conv\\checkpoint-51-112.51.hdf5\n",
      "1/1 [==============================] - 1s 1s/step - loss: 490.0363 - mse: 490.0363 - val_loss: 112.5132 - val_mse: 112.5132\n",
      "Epoch 52/80\n",
      "1/1 [==============================] - ETA: 0s - loss: 465.1038 - mse: 465.1038\n",
      "Epoch 52: saving model to ./checkpoint_VGG16_finetune_670m_thirdlast_conv\\checkpoint-52-82.78.hdf5\n",
      "1/1 [==============================] - 1s 1s/step - loss: 465.1038 - mse: 465.1038 - val_loss: 82.7833 - val_mse: 82.7833\n",
      "Epoch 53/80\n",
      "1/1 [==============================] - ETA: 0s - loss: 418.9663 - mse: 418.9663\n",
      "Epoch 53: saving model to ./checkpoint_VGG16_finetune_670m_thirdlast_conv\\checkpoint-53-59.69.hdf5\n",
      "1/1 [==============================] - 1s 1s/step - loss: 418.9663 - mse: 418.9663 - val_loss: 59.6920 - val_mse: 59.6920\n",
      "Epoch 54/80\n",
      "1/1 [==============================] - ETA: 0s - loss: 411.0614 - mse: 411.0614\n",
      "Epoch 54: saving model to ./checkpoint_VGG16_finetune_670m_thirdlast_conv\\checkpoint-54-57.31.hdf5\n",
      "1/1 [==============================] - 1s 1s/step - loss: 411.0614 - mse: 411.0614 - val_loss: 57.3082 - val_mse: 57.3082\n",
      "Epoch 55/80\n",
      "1/1 [==============================] - ETA: 0s - loss: 376.3080 - mse: 376.3080\n",
      "Epoch 55: saving model to ./checkpoint_VGG16_finetune_670m_thirdlast_conv\\checkpoint-55-71.09.hdf5\n",
      "1/1 [==============================] - 1s 1s/step - loss: 376.3080 - mse: 376.3080 - val_loss: 71.0916 - val_mse: 71.0916\n",
      "Epoch 56/80\n",
      "1/1 [==============================] - ETA: 0s - loss: 472.5112 - mse: 472.5112\n",
      "Epoch 56: saving model to ./checkpoint_VGG16_finetune_670m_thirdlast_conv\\checkpoint-56-98.80.hdf5\n",
      "1/1 [==============================] - 1s 1s/step - loss: 472.5112 - mse: 472.5112 - val_loss: 98.7962 - val_mse: 98.7962\n",
      "Epoch 57/80\n",
      "1/1 [==============================] - ETA: 0s - loss: 415.6359 - mse: 415.6359\n",
      "Epoch 57: saving model to ./checkpoint_VGG16_finetune_670m_thirdlast_conv\\checkpoint-57-141.80.hdf5\n",
      "1/1 [==============================] - 1s 1s/step - loss: 415.6359 - mse: 415.6359 - val_loss: 141.7981 - val_mse: 141.7981\n",
      "Epoch 58/80\n",
      "1/1 [==============================] - ETA: 0s - loss: 386.5788 - mse: 386.5788\n",
      "Epoch 58: saving model to ./checkpoint_VGG16_finetune_670m_thirdlast_conv\\checkpoint-58-171.57.hdf5\n",
      "1/1 [==============================] - 1s 1s/step - loss: 386.5788 - mse: 386.5788 - val_loss: 171.5685 - val_mse: 171.5685\n",
      "Epoch 59/80\n",
      "1/1 [==============================] - ETA: 0s - loss: 421.2298 - mse: 421.2298\n",
      "Epoch 59: saving model to ./checkpoint_VGG16_finetune_670m_thirdlast_conv\\checkpoint-59-178.94.hdf5\n",
      "1/1 [==============================] - 1s 1s/step - loss: 421.2298 - mse: 421.2298 - val_loss: 178.9446 - val_mse: 178.9446\n",
      "Epoch 60/80\n",
      "1/1 [==============================] - ETA: 0s - loss: 301.1374 - mse: 301.1374\n",
      "Epoch 60: saving model to ./checkpoint_VGG16_finetune_670m_thirdlast_conv\\checkpoint-60-166.26.hdf5\n",
      "1/1 [==============================] - 1s 1s/step - loss: 301.1374 - mse: 301.1374 - val_loss: 166.2640 - val_mse: 166.2640\n",
      "Epoch 61/80\n",
      "1/1 [==============================] - ETA: 0s - loss: 431.8130 - mse: 431.8130\n",
      "Epoch 61: saving model to ./checkpoint_VGG16_finetune_670m_thirdlast_conv\\checkpoint-61-171.88.hdf5\n",
      "1/1 [==============================] - 1s 1s/step - loss: 431.8130 - mse: 431.8130 - val_loss: 171.8778 - val_mse: 171.8778\n",
      "Epoch 62/80\n",
      "1/1 [==============================] - ETA: 0s - loss: 358.2694 - mse: 358.2694\n",
      "Epoch 62: saving model to ./checkpoint_VGG16_finetune_670m_thirdlast_conv\\checkpoint-62-150.39.hdf5\n",
      "1/1 [==============================] - 1s 1s/step - loss: 358.2694 - mse: 358.2694 - val_loss: 150.3907 - val_mse: 150.3907\n",
      "Epoch 63/80\n",
      "1/1 [==============================] - ETA: 0s - loss: 304.1080 - mse: 304.1080\n",
      "Epoch 63: saving model to ./checkpoint_VGG16_finetune_670m_thirdlast_conv\\checkpoint-63-171.90.hdf5\n",
      "1/1 [==============================] - 1s 1s/step - loss: 304.1080 - mse: 304.1080 - val_loss: 171.8999 - val_mse: 171.8999\n",
      "Epoch 64/80\n",
      "1/1 [==============================] - ETA: 0s - loss: 491.9859 - mse: 491.9859\n",
      "Epoch 64: saving model to ./checkpoint_VGG16_finetune_670m_thirdlast_conv\\checkpoint-64-205.60.hdf5\n",
      "1/1 [==============================] - 1s 1s/step - loss: 491.9859 - mse: 491.9859 - val_loss: 205.5953 - val_mse: 205.5953\n",
      "Epoch 65/80\n",
      "1/1 [==============================] - ETA: 0s - loss: 309.4523 - mse: 309.4523\n",
      "Epoch 65: saving model to ./checkpoint_VGG16_finetune_670m_thirdlast_conv\\checkpoint-65-229.47.hdf5\n",
      "1/1 [==============================] - 1s 1s/step - loss: 309.4523 - mse: 309.4523 - val_loss: 229.4661 - val_mse: 229.4661\n",
      "Epoch 66/80\n",
      "1/1 [==============================] - ETA: 0s - loss: 428.0343 - mse: 428.0343\n",
      "Epoch 66: saving model to ./checkpoint_VGG16_finetune_670m_thirdlast_conv\\checkpoint-66-239.10.hdf5\n",
      "1/1 [==============================] - 1s 1s/step - loss: 428.0343 - mse: 428.0343 - val_loss: 239.1041 - val_mse: 239.1041\n",
      "Epoch 67/80\n",
      "1/1 [==============================] - ETA: 0s - loss: 409.3196 - mse: 409.3196\n",
      "Epoch 67: saving model to ./checkpoint_VGG16_finetune_670m_thirdlast_conv\\checkpoint-67-181.60.hdf5\n",
      "1/1 [==============================] - 1s 1s/step - loss: 409.3196 - mse: 409.3196 - val_loss: 181.5961 - val_mse: 181.5961\n",
      "Epoch 68/80\n",
      "1/1 [==============================] - ETA: 0s - loss: 458.7659 - mse: 458.7659\n",
      "Epoch 68: saving model to ./checkpoint_VGG16_finetune_670m_thirdlast_conv\\checkpoint-68-136.12.hdf5\n",
      "1/1 [==============================] - 1s 1s/step - loss: 458.7659 - mse: 458.7659 - val_loss: 136.1232 - val_mse: 136.1232\n",
      "Epoch 69/80\n",
      "1/1 [==============================] - ETA: 0s - loss: 393.2057 - mse: 393.2057\n",
      "Epoch 69: saving model to ./checkpoint_VGG16_finetune_670m_thirdlast_conv\\checkpoint-69-68.95.hdf5\n",
      "1/1 [==============================] - 1s 1s/step - loss: 393.2057 - mse: 393.2057 - val_loss: 68.9506 - val_mse: 68.9506\n",
      "Epoch 70/80\n",
      "1/1 [==============================] - ETA: 0s - loss: 410.7197 - mse: 410.7197\n",
      "Epoch 70: saving model to ./checkpoint_VGG16_finetune_670m_thirdlast_conv\\checkpoint-70-69.31.hdf5\n",
      "1/1 [==============================] - 1s 1s/step - loss: 410.7197 - mse: 410.7197 - val_loss: 69.3149 - val_mse: 69.3149\n",
      "Epoch 71/80\n",
      "1/1 [==============================] - ETA: 0s - loss: 413.4897 - mse: 413.4897\n",
      "Epoch 71: saving model to ./checkpoint_VGG16_finetune_670m_thirdlast_conv\\checkpoint-71-146.77.hdf5\n",
      "1/1 [==============================] - 1s 1s/step - loss: 413.4897 - mse: 413.4897 - val_loss: 146.7739 - val_mse: 146.7739\n",
      "Epoch 72/80\n",
      "1/1 [==============================] - ETA: 0s - loss: 384.6179 - mse: 384.6179\n",
      "Epoch 72: saving model to ./checkpoint_VGG16_finetune_670m_thirdlast_conv\\checkpoint-72-132.78.hdf5\n",
      "1/1 [==============================] - 1s 1s/step - loss: 384.6179 - mse: 384.6179 - val_loss: 132.7808 - val_mse: 132.7808\n",
      "Epoch 73/80\n",
      "1/1 [==============================] - ETA: 0s - loss: 367.5439 - mse: 367.5439\n",
      "Epoch 73: saving model to ./checkpoint_VGG16_finetune_670m_thirdlast_conv\\checkpoint-73-138.57.hdf5\n",
      "1/1 [==============================] - 1s 1s/step - loss: 367.5439 - mse: 367.5439 - val_loss: 138.5698 - val_mse: 138.5698\n",
      "Epoch 74/80\n",
      "1/1 [==============================] - ETA: 0s - loss: 367.9843 - mse: 367.9843\n",
      "Epoch 74: saving model to ./checkpoint_VGG16_finetune_670m_thirdlast_conv\\checkpoint-74-117.35.hdf5\n",
      "1/1 [==============================] - 1s 1s/step - loss: 367.9843 - mse: 367.9843 - val_loss: 117.3516 - val_mse: 117.3516\n",
      "Epoch 75/80\n",
      "1/1 [==============================] - ETA: 0s - loss: 464.2577 - mse: 464.2577\n",
      "Epoch 75: saving model to ./checkpoint_VGG16_finetune_670m_thirdlast_conv\\checkpoint-75-90.10.hdf5\n",
      "1/1 [==============================] - 1s 1s/step - loss: 464.2577 - mse: 464.2577 - val_loss: 90.0953 - val_mse: 90.0953\n",
      "Epoch 76/80\n",
      "1/1 [==============================] - ETA: 0s - loss: 368.3861 - mse: 368.3861\n",
      "Epoch 76: saving model to ./checkpoint_VGG16_finetune_670m_thirdlast_conv\\checkpoint-76-79.46.hdf5\n",
      "1/1 [==============================] - 1s 1s/step - loss: 368.3861 - mse: 368.3861 - val_loss: 79.4636 - val_mse: 79.4636\n",
      "Epoch 77/80\n",
      "1/1 [==============================] - ETA: 0s - loss: 514.1963 - mse: 514.1963\n",
      "Epoch 77: saving model to ./checkpoint_VGG16_finetune_670m_thirdlast_conv\\checkpoint-77-104.78.hdf5\n",
      "1/1 [==============================] - 1s 1s/step - loss: 514.1963 - mse: 514.1963 - val_loss: 104.7780 - val_mse: 104.7780\n",
      "Epoch 78/80\n",
      "1/1 [==============================] - ETA: 0s - loss: 261.0810 - mse: 261.0810\n",
      "Epoch 78: saving model to ./checkpoint_VGG16_finetune_670m_thirdlast_conv\\checkpoint-78-128.04.hdf5\n",
      "1/1 [==============================] - 1s 1s/step - loss: 261.0810 - mse: 261.0810 - val_loss: 128.0397 - val_mse: 128.0397\n",
      "Epoch 79/80\n",
      "1/1 [==============================] - ETA: 0s - loss: 375.5191 - mse: 375.5191\n",
      "Epoch 79: saving model to ./checkpoint_VGG16_finetune_670m_thirdlast_conv\\checkpoint-79-158.82.hdf5\n",
      "1/1 [==============================] - 1s 1s/step - loss: 375.5191 - mse: 375.5191 - val_loss: 158.8232 - val_mse: 158.8232\n",
      "Epoch 80/80\n",
      "1/1 [==============================] - ETA: 0s - loss: 436.0824 - mse: 436.0824\n",
      "Epoch 80: saving model to ./checkpoint_VGG16_finetune_670m_thirdlast_conv\\checkpoint-80-145.09.hdf5\n",
      "1/1 [==============================] - 1s 1s/step - loss: 436.0824 - mse: 436.0824 - val_loss: 145.0921 - val_mse: 145.0921\n"
     ]
    },
    {
     "data": {
      "text/plain": "<keras.callbacks.History at 0x158d78bd4c0>"
     },
     "execution_count": 66,
     "metadata": {},
     "output_type": "execute_result"
    }
   ],
   "source": [
    "model_final.fit_generator(train_generator, steps_per_epoch=len(X_train)//batch_size, epochs=80, verbose=1, callbacks=[checkpoint,history], validation_data=validation_generator, validation_steps=len(y_train)//batch_size\n",
    "              )"
   ]
  },
  {
   "cell_type": "markdown",
   "metadata": {
    "pycharm": {
     "name": "#%% md\n"
    }
   },
   "source": [
    "# RF part and final Model Evaluation"
   ]
  },
  {
   "cell_type": "code",
   "execution_count": 67,
   "metadata": {
    "scrolled": true,
    "pycharm": {
     "name": "#%%\n"
    }
   },
   "outputs": [],
   "source": [
    "# load the final best model here!\n",
    "\n",
    "#670m\n",
    "model = load_model('./checkpoint_VGG16_finetune_670m_thirdlast_conv/checkpoint-25-59.39.hdf5')\n"
   ]
  },
  {
   "cell_type": "code",
   "execution_count": 69,
   "metadata": {
    "scrolled": false,
    "pycharm": {
     "name": "#%%\n"
    }
   },
   "outputs": [
    {
     "name": "stdout",
     "output_type": "stream",
     "text": [
      "Model: \"model_5\"\n",
      "_________________________________________________________________\n",
      " Layer (type)                Output Shape              Param #   \n",
      "=================================================================\n",
      " input_4 (InputLayer)        [(None, 224, 224, 3)]     0         \n",
      "                                                                 \n",
      " block1_conv1 (Conv2D)       (None, 224, 224, 64)      1792      \n",
      "                                                                 \n",
      " block1_conv2 (Conv2D)       (None, 224, 224, 64)      36928     \n",
      "                                                                 \n",
      " block1_pool (MaxPooling2D)  (None, 112, 112, 64)      0         \n",
      "                                                                 \n",
      " block2_conv1 (Conv2D)       (None, 112, 112, 128)     73856     \n",
      "                                                                 \n",
      " block2_conv2 (Conv2D)       (None, 112, 112, 128)     147584    \n",
      "                                                                 \n",
      " block2_pool (MaxPooling2D)  (None, 56, 56, 128)       0         \n",
      "                                                                 \n",
      " block3_conv1 (Conv2D)       (None, 56, 56, 256)       295168    \n",
      "                                                                 \n",
      " block3_conv2 (Conv2D)       (None, 56, 56, 256)       590080    \n",
      "                                                                 \n",
      " block3_conv3 (Conv2D)       (None, 56, 56, 256)       590080    \n",
      "                                                                 \n",
      " block3_pool (MaxPooling2D)  (None, 28, 28, 256)       0         \n",
      "                                                                 \n",
      " block4_conv1 (Conv2D)       (None, 28, 28, 512)       1180160   \n",
      "                                                                 \n",
      " block4_conv2 (Conv2D)       (None, 28, 28, 512)       2359808   \n",
      "                                                                 \n",
      " block4_conv3 (Conv2D)       (None, 28, 28, 512)       2359808   \n",
      "                                                                 \n",
      " block4_pool (MaxPooling2D)  (None, 14, 14, 512)       0         \n",
      "                                                                 \n",
      " block5_conv1 (Conv2D)       (None, 14, 14, 512)       2359808   \n",
      "                                                                 \n",
      " block5_conv2 (Conv2D)       (None, 14, 14, 512)       2359808   \n",
      "                                                                 \n",
      " block5_conv3 (Conv2D)       (None, 14, 14, 512)       2359808   \n",
      "                                                                 \n",
      " block5_pool (MaxPooling2D)  (None, 7, 7, 512)         0         \n",
      "                                                                 \n",
      " global_max_pooling2d_3 (Glo  (None, 512)              0         \n",
      " balMaxPooling2D)                                                \n",
      "                                                                 \n",
      " dropout_16 (Dropout)        (None, 512)               0         \n",
      "                                                                 \n",
      " dense_16 (Dense)            (None, 128)               65664     \n",
      "                                                                 \n",
      " dropout_17 (Dropout)        (None, 128)               0         \n",
      "                                                                 \n",
      " dense_17 (Dense)            (None, 1)                 129       \n",
      "                                                                 \n",
      "=================================================================\n",
      "Total params: 14,780,481\n",
      "Trainable params: 2,359,808\n",
      "Non-trainable params: 12,420,673\n",
      "_________________________________________________________________\n"
     ]
    }
   ],
   "source": [
    "model.summary()\n",
    "extract_model = Model(inputs=model.input, outputs=model.get_layer('dense_17').output) #may not be dense_1,\n",
    "# should be the dense layer with dimension 128 for 670 m model"
   ]
  },
  {
   "cell_type": "code",
   "execution_count": 70,
   "metadata": {
    "pycharm": {
     "name": "#%%\n"
    }
   },
   "outputs": [
    {
     "name": "stdout",
     "output_type": "stream",
     "text": [
      "5/5 [==============================] - 3s 221ms/step\n"
     ]
    }
   ],
   "source": [
    "X_image_features = extract_model.predict(np.array(X_image).reshape(-1,image_size,image_size,3))"
   ]
  },
  {
   "cell_type": "code",
   "execution_count": 71,
   "metadata": {
    "pycharm": {
     "name": "#%%\n"
    }
   },
   "outputs": [
    {
     "data": {
      "text/plain": "137"
     },
     "execution_count": 71,
     "metadata": {},
     "output_type": "execute_result"
    }
   ],
   "source": [
    "len(X_image_features)"
   ]
  },
  {
   "cell_type": "code",
   "execution_count": 72,
   "metadata": {
    "pycharm": {
     "name": "#%%\n"
    }
   },
   "outputs": [
    {
     "data": {
      "text/plain": "(137, 1)"
     },
     "execution_count": 72,
     "metadata": {},
     "output_type": "execute_result"
    }
   ],
   "source": [
    "np.shape(X_image_features)"
   ]
  },
  {
   "cell_type": "code",
   "execution_count": 73,
   "metadata": {
    "scrolled": true,
    "pycharm": {
     "name": "#%%\n"
    }
   },
   "outputs": [
    {
     "data": {
      "text/plain": "array([[42.507896],\n       [29.486132],\n       [43.954926],\n       [37.772766],\n       [43.987724],\n       [43.83392 ],\n       [38.88664 ],\n       [41.755157],\n       [38.772667],\n       [45.26279 ],\n       [34.238697],\n       [44.208652],\n       [36.50818 ],\n       [41.300278],\n       [36.937057],\n       [44.814137],\n       [39.30225 ],\n       [39.678696],\n       [40.43998 ],\n       [30.990257],\n       [52.485657],\n       [36.961773],\n       [38.696636],\n       [44.91182 ],\n       [38.859985],\n       [39.631386],\n       [42.38987 ],\n       [40.842045],\n       [33.567635],\n       [48.19822 ],\n       [37.73917 ],\n       [44.85727 ],\n       [38.19964 ],\n       [44.07587 ],\n       [41.692924],\n       [40.346783],\n       [50.291115],\n       [41.909897],\n       [51.211006],\n       [51.520744],\n       [42.90078 ],\n       [58.623505],\n       [43.604637],\n       [46.68466 ],\n       [39.831276],\n       [42.575825],\n       [39.710335],\n       [44.617332],\n       [63.223705],\n       [40.72984 ],\n       [40.588   ],\n       [45.530807],\n       [41.822853],\n       [40.501724],\n       [48.916756],\n       [41.807297],\n       [44.287262],\n       [44.894653],\n       [33.65915 ],\n       [34.902008],\n       [33.32225 ],\n       [39.204468],\n       [32.652687],\n       [43.633785],\n       [35.782253],\n       [40.507515],\n       [41.075737],\n       [39.258743],\n       [45.843903],\n       [39.21369 ],\n       [46.63317 ],\n       [37.728615],\n       [40.457825],\n       [44.010353],\n       [41.273483],\n       [41.520653],\n       [45.41549 ],\n       [42.012115],\n       [48.01435 ],\n       [43.60961 ],\n       [43.87988 ],\n       [44.51941 ],\n       [44.334908],\n       [56.469315],\n       [42.886127],\n       [40.823727],\n       [39.03238 ],\n       [31.565556],\n       [38.555992],\n       [35.953438],\n       [42.030876],\n       [33.88871 ],\n       [35.225204],\n       [41.884033],\n       [41.704956],\n       [30.624979],\n       [37.414967],\n       [42.341995],\n       [42.81311 ],\n       [39.69081 ],\n       [32.619667],\n       [42.91953 ],\n       [34.600483],\n       [39.381664],\n       [48.053406],\n       [37.141285],\n       [30.132568],\n       [39.238888],\n       [41.26719 ],\n       [40.933456],\n       [29.13198 ],\n       [41.272232],\n       [32.318848],\n       [39.971386],\n       [41.967087],\n       [40.113075],\n       [39.51062 ],\n       [40.347954],\n       [39.742996],\n       [39.351967],\n       [27.647882],\n       [39.275856],\n       [31.76596 ],\n       [37.060284],\n       [38.345177],\n       [42.12505 ],\n       [39.50283 ],\n       [36.252625],\n       [40.990097],\n       [30.510048],\n       [39.494774],\n       [33.695454],\n       [39.550858],\n       [45.03009 ],\n       [40.213295],\n       [38.727013],\n       [42.537247]], dtype=float32)"
     },
     "execution_count": 73,
     "metadata": {},
     "output_type": "execute_result"
    }
   ],
   "source": [
    "X_image_features\n",
    "\n"
   ]
  },
  {
   "cell_type": "markdown",
   "metadata": {
    "pycharm": {
     "name": "#%% md\n"
    }
   },
   "source": [
    "# What if I use meteorology features?"
   ]
  },
  {
   "cell_type": "code",
   "execution_count": 75,
   "metadata": {
    "pycharm": {
     "name": "#%%\n"
    }
   },
   "outputs": [],
   "source": [
    "meteo_feature = np.load('meteo_feature_Beijing.npy')"
   ]
  },
  {
   "cell_type": "code",
   "execution_count": 76,
   "metadata": {
    "pycharm": {
     "name": "#%%\n"
    }
   },
   "outputs": [
    {
     "data": {
      "text/plain": "137"
     },
     "execution_count": 76,
     "metadata": {},
     "output_type": "execute_result"
    }
   ],
   "source": [
    "len(meteo_feature)"
   ]
  },
  {
   "cell_type": "code",
   "execution_count": 77,
   "metadata": {
    "scrolled": true,
    "pycharm": {
     "name": "#%%\n"
    }
   },
   "outputs": [],
   "source": [
    "features_meteo = np.append(X_image_features,meteo_feature,axis = 1)"
   ]
  },
  {
   "cell_type": "code",
   "execution_count": 78,
   "metadata": {
    "pycharm": {
     "name": "#%%\n"
    }
   },
   "outputs": [],
   "source": [
    "mask = ~np.any(np.isnan(features_meteo), axis=1)\n",
    "features_meteo = features_meteo[mask]"
   ]
  },
  {
   "cell_type": "code",
   "execution_count": 80,
   "metadata": {
    "pycharm": {
     "name": "#%%\n"
    }
   },
   "outputs": [],
   "source": [
    "y_all= np.array(y_PM25).reshape([137,-1])[mask]"
   ]
  },
  {
   "cell_type": "code",
   "execution_count": 81,
   "metadata": {
    "pycharm": {
     "name": "#%%\n"
    }
   },
   "outputs": [
    {
     "data": {
      "text/plain": "(137, 5)"
     },
     "execution_count": 81,
     "metadata": {},
     "output_type": "execute_result"
    }
   ],
   "source": [
    "np.shape(features_meteo)"
   ]
  },
  {
   "cell_type": "code",
   "execution_count": 82,
   "metadata": {
    "pycharm": {
     "name": "#%%\n"
    }
   },
   "outputs": [
    {
     "data": {
      "text/plain": "array([[32.446945],\n       [29.321321],\n       [34.3675  ],\n       [29.2397  ],\n       [30.578333],\n       [32.93861 ],\n       [32.8825  ],\n       [31.414167],\n       [29.640278],\n       [29.974167],\n       [31.023233],\n       [35.59    ],\n       [34.94984 ],\n       [31.943605],\n       [34.015   ],\n       [29.424444],\n       [31.021389],\n       [31.388472],\n       [50.6225  ],\n       [47.795277],\n       [54.226387],\n       [43.383938],\n       [47.74389 ],\n       [51.789165],\n       [50.83889 ],\n       [42.56139 ],\n       [45.40278 ],\n       [45.516945],\n       [41.845   ],\n       [41.015   ],\n       [42.247776],\n       [44.003613],\n       [44.02639 ],\n       [41.188057],\n       [38.994644],\n       [39.22778 ],\n       [55.12528 ],\n       [55.704723],\n       [53.949444],\n       [53.869106],\n       [57.642044],\n       [57.1477  ],\n       [57.207222],\n       [54.291866],\n       [50.51161 ],\n       [53.840908],\n       [60.833057],\n       [38.640278],\n       [56.369446],\n       [25.374722],\n       [42.267372],\n       [50.666668],\n       [43.449444],\n       [44.887924],\n       [48.291668],\n       [44.204723],\n       [40.11222 ],\n       [44.93375 ],\n       [41.60361 ],\n       [37.13    ],\n       [34.39701 ],\n       [38.032776],\n       [35.539165],\n       [36.523613],\n       [38.272144],\n       [33.54778 ],\n       [33.357777],\n       [35.711388],\n       [52.314167],\n       [51.42472 ],\n       [54.911232],\n       [51.43139 ],\n       [51.64389 ],\n       [51.947777],\n       [54.942223],\n       [51.470833],\n       [44.855   ],\n       [47.891666],\n       [70.62417 ],\n       [71.6975  ],\n       [78.318054],\n       [72.540955],\n       [76.764725],\n       [75.74111 ],\n       [78.08528 ],\n       [69.47624 ],\n       [75.844444],\n       [32.097393],\n       [32.504444],\n       [34.505833],\n       [31.411388],\n       [35.25028 ],\n       [36.854595],\n       [35.15278 ],\n       [35.9725  ],\n       [33.135834],\n       [34.03611 ],\n       [32.835   ],\n       [31.37111 ],\n       [44.226944],\n       [45.25889 ],\n       [41.981945],\n       [46.231667],\n       [47.108055],\n       [46.99222 ],\n       [46.37639 ],\n       [44.495277],\n       [43.73111 ],\n       [42.541668],\n       [29.551014],\n       [29.204058],\n       [28.380869],\n       [30.171595],\n       [31.459131],\n       [29.364347],\n       [31.552464],\n       [29.527447],\n       [29.795942],\n       [28.65971 ],\n       [31.585278],\n       [31.714445],\n       [29.4925  ],\n       [32.588684],\n       [33.543888],\n       [33.205   ],\n       [33.941944],\n       [33.11953 ],\n       [31.718628],\n       [30.465   ],\n       [34.483334],\n       [34.263237],\n       [36.20861 ],\n       [37.306004],\n       [38.227222],\n       [31.216171],\n       [34.730835],\n       [34.78262 ]], dtype=float32)"
     },
     "execution_count": 82,
     "metadata": {},
     "output_type": "execute_result"
    }
   ],
   "source": [
    "y_all"
   ]
  },
  {
   "cell_type": "markdown",
   "metadata": {
    "pycharm": {
     "name": "#%% md\n"
    }
   },
   "source": [
    "## Random Forest Regression"
   ]
  },
  {
   "cell_type": "code",
   "execution_count": 83,
   "metadata": {
    "pycharm": {
     "name": "#%%\n"
    }
   },
   "outputs": [],
   "source": [
    "from sklearn.metrics import mean_squared_error\n",
    "from sklearn.feature_selection import SelectKBest\n",
    "from sklearn.pipeline import Pipeline\n",
    "from sklearn.model_selection import StratifiedKFold, KFold, cross_val_score\n",
    "from sklearn import metrics\n",
    "import pandas as pd\n",
    "import scipy\n",
    "from sklearn.neighbors import LocalOutlierFactor\n",
    "from datetime import datetime\n",
    "from datetime import timedelta\n",
    "from sklearn.linear_model import LinearRegression\n",
    "from sklearn import preprocessing\n",
    "from scipy import stats\n",
    "from sklearn.metrics import mean_squared_error\n",
    "from sklearn.preprocessing import StandardScaler\n",
    "from sklearn.model_selection import train_test_split\n",
    "\n",
    "\n",
    "from sklearn.ensemble import RandomForestRegressor\n",
    "from sklearn.metrics import make_scorer\n",
    "from sklearn.metrics import mean_squared_error\n",
    "from sklearn.metrics import mean_absolute_error\n",
    "from sklearn.metrics import median_absolute_error\n",
    "from sklearn.preprocessing import MinMaxScaler"
   ]
  },
  {
   "cell_type": "code",
   "execution_count": 84,
   "metadata": {
    "pycharm": {
     "name": "#%%\n"
    }
   },
   "outputs": [],
   "source": [
    "## load in site labels and time index to see the seasonal trend and site-specific trend\n",
    "time_stamps = np.load('time_stamp_Beijing.npy')\n",
    "site_labels = np.load('site_label_Beijing.npy')"
   ]
  },
  {
   "cell_type": "code",
   "execution_count": 85,
   "metadata": {
    "pycharm": {
     "name": "#%%\n"
    }
   },
   "outputs": [],
   "source": [
    "time_stamps = np.array([float(x) for x in time_stamps ])\n",
    "site_labels = np.array([float(x) for x in site_labels ])"
   ]
  },
  {
   "cell_type": "code",
   "execution_count": 87,
   "metadata": {
    "pycharm": {
     "name": "#%%\n"
    }
   },
   "outputs": [],
   "source": [
    "features_meteo = np.append(features_meteo,time_stamps.reshape(137,1),axis = 1)\n",
    "features_meteo = np.append(features_meteo,site_labels.reshape(137,1),axis = 1)"
   ]
  },
  {
   "cell_type": "code",
   "execution_count": 88,
   "metadata": {
    "pycharm": {
     "name": "#%%\n"
    }
   },
   "outputs": [
    {
     "data": {
      "text/plain": "array([[4.25078964e+01, 5.60185185e+00, 4.82500000e+01, 5.20833333e+00,\n        3.04458333e+01, 2.02002180e+07, 0.00000000e+00],\n       [2.94861317e+01, 5.60185185e+00, 4.82500000e+01, 5.20833333e+00,\n        3.04458333e+01, 2.02002180e+07, 1.00000000e+00],\n       [4.39549255e+01, 5.60185185e+00, 4.82500000e+01, 5.20833333e+00,\n        3.04458333e+01, 2.02002180e+07, 2.00000000e+00],\n       [3.77727661e+01, 5.60185185e+00, 4.82500000e+01, 5.20833333e+00,\n        3.04458333e+01, 2.02002180e+07, 3.00000000e+00],\n       [4.39877243e+01, 5.60185185e+00, 4.82500000e+01, 5.20833333e+00,\n        3.04458333e+01, 2.02002180e+07, 4.00000000e+00],\n       [4.38339195e+01, 5.60185185e+00, 4.82500000e+01, 5.20833333e+00,\n        3.04458333e+01, 2.02002180e+07, 5.00000000e+00],\n       [3.88866386e+01, 5.60185185e+00, 4.82500000e+01, 5.20833333e+00,\n        3.04458333e+01, 2.02002180e+07, 6.00000000e+00],\n       [4.17551575e+01, 5.60185185e+00, 4.82500000e+01, 5.20833333e+00,\n        3.04458333e+01, 2.02002180e+07, 7.00000000e+00],\n       [3.87726669e+01, 5.60185185e+00, 4.82500000e+01, 5.20833333e+00,\n        3.04458333e+01, 2.02002180e+07, 8.00000000e+00],\n       [4.52627907e+01, 5.60185185e+00, 4.82500000e+01, 5.20833333e+00,\n        3.04458333e+01, 2.02002180e+07, 9.00000000e+00],\n       [3.42386971e+01, 1.03009259e+01, 6.83333333e+01, 6.41666667e+00,\n        3.04154167e+01, 2.02002200e+07, 1.00000000e+00],\n       [4.42086525e+01, 1.03009259e+01, 6.83333333e+01, 6.41666667e+00,\n        3.04154167e+01, 2.02002200e+07, 2.00000000e+00],\n       [3.65081787e+01, 1.03009259e+01, 6.83333333e+01, 6.41666667e+00,\n        3.04154167e+01, 2.02002200e+07, 3.00000000e+00],\n       [4.13002777e+01, 1.03009259e+01, 6.83333333e+01, 6.41666667e+00,\n        3.04154167e+01, 2.02002200e+07, 4.00000000e+00],\n       [3.69370575e+01, 1.03009259e+01, 6.83333333e+01, 6.41666667e+00,\n        3.04154167e+01, 2.02002200e+07, 6.00000000e+00],\n       [4.48141365e+01, 1.03009259e+01, 6.83333333e+01, 6.41666667e+00,\n        3.04154167e+01, 2.02002200e+07, 7.00000000e+00],\n       [3.93022499e+01, 1.03009259e+01, 6.83333333e+01, 6.41666667e+00,\n        3.04154167e+01, 2.02002200e+07, 8.00000000e+00],\n       [3.96786957e+01, 1.03009259e+01, 6.83333333e+01, 6.41666667e+00,\n        3.04154167e+01, 2.02002200e+07, 9.00000000e+00],\n       [4.04399796e+01, 1.06944444e+01, 5.55833333e+01, 9.45833333e+00,\n        3.03733333e+01, 2.02002230e+07, 0.00000000e+00],\n       [3.09902573e+01, 1.06944444e+01, 5.55833333e+01, 9.45833333e+00,\n        3.03733333e+01, 2.02002230e+07, 1.00000000e+00],\n       [5.24856567e+01, 1.06944444e+01, 5.55833333e+01, 9.45833333e+00,\n        3.03733333e+01, 2.02002230e+07, 2.00000000e+00],\n       [3.69617729e+01, 1.06944444e+01, 5.55833333e+01, 9.45833333e+00,\n        3.03733333e+01, 2.02002230e+07, 3.00000000e+00],\n       [3.86966362e+01, 1.06944444e+01, 5.55833333e+01, 9.45833333e+00,\n        3.03733333e+01, 2.02002230e+07, 4.00000000e+00],\n       [4.49118195e+01, 1.06944444e+01, 5.55833333e+01, 9.45833333e+00,\n        3.03733333e+01, 2.02002230e+07, 5.00000000e+00],\n       [3.88599854e+01, 1.06944444e+01, 5.55833333e+01, 9.45833333e+00,\n        3.03733333e+01, 2.02002230e+07, 6.00000000e+00],\n       [3.96313858e+01, 1.06944444e+01, 5.55833333e+01, 9.45833333e+00,\n        3.03733333e+01, 2.02002230e+07, 7.00000000e+00],\n       [4.23898697e+01, 1.06944444e+01, 5.55833333e+01, 9.45833333e+00,\n        3.03733333e+01, 2.02002230e+07, 8.00000000e+00],\n       [4.08420448e+01, 1.06944444e+01, 5.55833333e+01, 9.45833333e+00,\n        3.03733333e+01, 2.02002230e+07, 9.00000000e+00],\n       [3.35676346e+01, 1.32407407e+01, 4.42500000e+01, 9.16666667e+00,\n        3.02200000e+01, 2.02003160e+07, 1.00000000e+00],\n       [4.81982193e+01, 1.32407407e+01, 4.42500000e+01, 9.16666667e+00,\n        3.02200000e+01, 2.02003160e+07, 2.00000000e+00],\n       [3.77391701e+01, 1.32407407e+01, 4.42500000e+01, 9.16666667e+00,\n        3.02200000e+01, 2.02003160e+07, 3.00000000e+00],\n       [4.48572693e+01, 1.32407407e+01, 4.42500000e+01, 9.16666667e+00,\n        3.02200000e+01, 2.02003160e+07, 4.00000000e+00],\n       [3.81996384e+01, 1.32407407e+01, 4.42500000e+01, 9.16666667e+00,\n        3.02200000e+01, 2.02003160e+07, 6.00000000e+00],\n       [4.40758705e+01, 1.32407407e+01, 4.42500000e+01, 9.16666667e+00,\n        3.02200000e+01, 2.02003160e+07, 7.00000000e+00],\n       [4.16929245e+01, 1.32407407e+01, 4.42500000e+01, 9.16666667e+00,\n        3.02200000e+01, 2.02003160e+07, 8.00000000e+00],\n       [4.03467827e+01, 1.32407407e+01, 4.42500000e+01, 9.16666667e+00,\n        3.02200000e+01, 2.02003160e+07, 9.00000000e+00],\n       [5.02911148e+01, 1.54166667e+01, 4.77916667e+01, 9.79166667e+00,\n        2.99575000e+01, 2.02003190e+07, 0.00000000e+00],\n       [4.19098969e+01, 1.54166667e+01, 4.77916667e+01, 9.79166667e+00,\n        2.99575000e+01, 2.02003190e+07, 1.00000000e+00],\n       [5.12110062e+01, 1.54166667e+01, 4.77916667e+01, 9.79166667e+00,\n        2.99575000e+01, 2.02003190e+07, 2.00000000e+00],\n       [5.15207443e+01, 1.54166667e+01, 4.77916667e+01, 9.79166667e+00,\n        2.99575000e+01, 2.02003190e+07, 3.00000000e+00],\n       [4.29007797e+01, 1.54166667e+01, 4.77916667e+01, 9.79166667e+00,\n        2.99575000e+01, 2.02003190e+07, 4.00000000e+00],\n       [5.86235046e+01, 1.54166667e+01, 4.77916667e+01, 9.79166667e+00,\n        2.99575000e+01, 2.02003190e+07, 5.00000000e+00],\n       [4.36046371e+01, 1.54166667e+01, 4.77916667e+01, 9.79166667e+00,\n        2.99575000e+01, 2.02003190e+07, 6.00000000e+00],\n       [4.66846619e+01, 1.54166667e+01, 4.77916667e+01, 9.79166667e+00,\n        2.99575000e+01, 2.02003190e+07, 7.00000000e+00],\n       [3.98312759e+01, 1.54166667e+01, 4.77916667e+01, 9.79166667e+00,\n        2.99575000e+01, 2.02003190e+07, 8.00000000e+00],\n       [4.25758247e+01, 1.54166667e+01, 4.77916667e+01, 9.79166667e+00,\n        2.99575000e+01, 2.02003190e+07, 9.00000000e+00],\n       [3.97103348e+01, 1.45833333e+01, 4.89583333e+01, 9.12500000e+00,\n        3.00725000e+01, 2.02004130e+07, 5.00000000e+00],\n       [4.46173325e+01, 1.67824074e+01, 4.92083333e+01, 9.58333333e+00,\n        3.01687500e+01, 2.02004280e+07, 5.00000000e+00],\n       [6.32237053e+01, 2.77314815e+01, 6.39583333e+01, 6.70833333e+00,\n        2.96200000e+01, 2.02005030e+07, 5.00000000e+00],\n       [4.07298393e+01, 3.17361111e+01, 7.08750000e+01, 1.31250000e+01,\n        2.97645833e+01, 2.02008010e+07, 5.00000000e+00],\n       [4.05880013e+01, 3.32175926e+01, 6.35000000e+01, 1.03333333e+01,\n        2.97641667e+01, 2.02008130e+07, 1.00000000e+00],\n       [4.55308075e+01, 3.32175926e+01, 6.35000000e+01, 1.03333333e+01,\n        2.97641667e+01, 2.02008130e+07, 2.00000000e+00],\n       [4.18228531e+01, 3.32175926e+01, 6.35000000e+01, 1.03333333e+01,\n        2.97641667e+01, 2.02008130e+07, 3.00000000e+00],\n       [4.05017242e+01, 3.32175926e+01, 6.35000000e+01, 1.03333333e+01,\n        2.97641667e+01, 2.02008130e+07, 4.00000000e+00],\n       [4.89167557e+01, 3.32175926e+01, 6.35000000e+01, 1.03333333e+01,\n        2.97641667e+01, 2.02008130e+07, 6.00000000e+00],\n       [4.18072968e+01, 3.32175926e+01, 6.35000000e+01, 1.03333333e+01,\n        2.97641667e+01, 2.02008130e+07, 7.00000000e+00],\n       [4.42872620e+01, 3.32175926e+01, 6.35000000e+01, 1.03333333e+01,\n        2.97641667e+01, 2.02008130e+07, 8.00000000e+00],\n       [4.48946533e+01, 3.32175926e+01, 6.35000000e+01, 1.03333333e+01,\n        2.97641667e+01, 2.02008130e+07, 9.00000000e+00],\n       [3.36591492e+01, 3.22916667e+01, 6.44166667e+01, 1.06666667e+01,\n        2.97641667e+01, 2.02008160e+07, 5.00000000e+00],\n       [3.49020081e+01, 3.09027778e+01, 6.98750000e+01, 1.20000000e+01,\n        2.98258333e+01, 2.02008180e+07, 0.00000000e+00],\n       [3.33222504e+01, 3.09027778e+01, 6.98750000e+01, 1.20000000e+01,\n        2.98258333e+01, 2.02008180e+07, 1.00000000e+00],\n       [3.92044678e+01, 3.09027778e+01, 6.98750000e+01, 1.20000000e+01,\n        2.98258333e+01, 2.02008180e+07, 2.00000000e+00],\n       [3.26526871e+01, 3.09027778e+01, 6.98750000e+01, 1.20000000e+01,\n        2.98258333e+01, 2.02008180e+07, 3.00000000e+00],\n       [4.36337852e+01, 3.09027778e+01, 6.98750000e+01, 1.20000000e+01,\n        2.98258333e+01, 2.02008180e+07, 4.00000000e+00],\n       [3.57822533e+01, 3.09027778e+01, 6.98750000e+01, 1.20000000e+01,\n        2.98258333e+01, 2.02008180e+07, 6.00000000e+00],\n       [4.05075150e+01, 3.09027778e+01, 6.98750000e+01, 1.20000000e+01,\n        2.98258333e+01, 2.02008180e+07, 7.00000000e+00],\n       [4.10757370e+01, 3.09027778e+01, 6.98750000e+01, 1.20000000e+01,\n        2.98258333e+01, 2.02008180e+07, 8.00000000e+00],\n       [3.92587433e+01, 3.09027778e+01, 6.98750000e+01, 1.20000000e+01,\n        2.98258333e+01, 2.02008180e+07, 9.00000000e+00],\n       [4.58439026e+01, 2.78472222e+01, 5.45416667e+01, 7.50000000e+00,\n        2.98212500e+01, 2.02009050e+07, 0.00000000e+00],\n       [3.92136917e+01, 2.78472222e+01, 5.45416667e+01, 7.50000000e+00,\n        2.98212500e+01, 2.02009050e+07, 1.00000000e+00],\n       [4.66331711e+01, 2.78472222e+01, 5.45416667e+01, 7.50000000e+00,\n        2.98212500e+01, 2.02009050e+07, 2.00000000e+00],\n       [3.77286148e+01, 2.78472222e+01, 5.45416667e+01, 7.50000000e+00,\n        2.98212500e+01, 2.02009050e+07, 3.00000000e+00],\n       [4.04578247e+01, 2.78472222e+01, 5.45416667e+01, 7.50000000e+00,\n        2.98212500e+01, 2.02009050e+07, 4.00000000e+00],\n       [4.40103531e+01, 2.78472222e+01, 5.45416667e+01, 7.50000000e+00,\n        2.98212500e+01, 2.02009050e+07, 5.00000000e+00],\n       [4.12734833e+01, 2.78472222e+01, 5.45416667e+01, 7.50000000e+00,\n        2.98212500e+01, 2.02009050e+07, 6.00000000e+00],\n       [4.15206528e+01, 2.78472222e+01, 5.45416667e+01, 7.50000000e+00,\n        2.98212500e+01, 2.02009050e+07, 7.00000000e+00],\n       [4.54154892e+01, 2.78472222e+01, 5.45416667e+01, 7.50000000e+00,\n        2.98212500e+01, 2.02009050e+07, 8.00000000e+00],\n       [4.20121155e+01, 2.78472222e+01, 5.45416667e+01, 7.50000000e+00,\n        2.98212500e+01, 2.02009050e+07, 9.00000000e+00],\n       [4.80143509e+01, 2.97222222e+01, 5.40833333e+01, 9.54166667e+00,\n        2.96812500e+01, 2.02009070e+07, 0.00000000e+00],\n       [4.36096115e+01, 2.97222222e+01, 5.40833333e+01, 9.54166667e+00,\n        2.96812500e+01, 2.02009070e+07, 1.00000000e+00],\n       [4.38798790e+01, 2.97222222e+01, 5.40833333e+01, 9.54166667e+00,\n        2.96812500e+01, 2.02009070e+07, 2.00000000e+00],\n       [4.45194092e+01, 2.97222222e+01, 5.40833333e+01, 9.54166667e+00,\n        2.96812500e+01, 2.02009070e+07, 3.00000000e+00],\n       [4.43349075e+01, 2.97222222e+01, 5.40833333e+01, 9.54166667e+00,\n        2.96812500e+01, 2.02009070e+07, 4.00000000e+00],\n       [5.64693146e+01, 2.97222222e+01, 5.40833333e+01, 9.54166667e+00,\n        2.96812500e+01, 2.02009070e+07, 6.00000000e+00],\n       [4.28861275e+01, 2.97222222e+01, 5.40833333e+01, 9.54166667e+00,\n        2.96812500e+01, 2.02009070e+07, 7.00000000e+00],\n       [4.08237267e+01, 2.97222222e+01, 5.40833333e+01, 9.54166667e+00,\n        2.96812500e+01, 2.02009070e+07, 8.00000000e+00],\n       [3.90323792e+01, 2.97222222e+01, 5.40833333e+01, 9.54166667e+00,\n        2.96812500e+01, 2.02009070e+07, 9.00000000e+00],\n       [3.15655556e+01, 1.90277778e+01, 6.44166667e+01, 1.19583333e+01,\n        3.01200000e+01, 2.02010050e+07, 5.00000000e+00],\n       [3.85559921e+01, 1.80994152e+01, 5.62631579e+01, 8.42105263e+00,\n        3.02852632e+01, 2.02010300e+07, 0.00000000e+00],\n       [3.59534378e+01, 1.80994152e+01, 5.62631579e+01, 8.42105263e+00,\n        3.02852632e+01, 2.02010300e+07, 1.00000000e+00],\n       [4.20308762e+01, 1.80994152e+01, 5.62631579e+01, 8.42105263e+00,\n        3.02852632e+01, 2.02010300e+07, 2.00000000e+00],\n       [3.38887100e+01, 1.80994152e+01, 5.62631579e+01, 8.42105263e+00,\n        3.02852632e+01, 2.02010300e+07, 3.00000000e+00],\n       [3.52252045e+01, 1.80994152e+01, 5.62631579e+01, 8.42105263e+00,\n        3.02852632e+01, 2.02010300e+07, 4.00000000e+00],\n       [4.18840332e+01, 1.80994152e+01, 5.62631579e+01, 8.42105263e+00,\n        3.02852632e+01, 2.02010300e+07, 5.00000000e+00],\n       [4.17049561e+01, 1.80994152e+01, 5.62631579e+01, 8.42105263e+00,\n        3.02852632e+01, 2.02010300e+07, 6.00000000e+00],\n       [3.06249790e+01, 1.80994152e+01, 5.62631579e+01, 8.42105263e+00,\n        3.02852632e+01, 2.02010300e+07, 7.00000000e+00],\n       [3.74149666e+01, 1.80994152e+01, 5.62631579e+01, 8.42105263e+00,\n        3.02852632e+01, 2.02010300e+07, 8.00000000e+00],\n       [4.23419952e+01, 1.80994152e+01, 5.62631579e+01, 8.42105263e+00,\n        3.02852632e+01, 2.02010300e+07, 9.00000000e+00],\n       [4.28131104e+01, 1.49537037e+01, 5.22500000e+01, 6.62500000e+00,\n        3.02787500e+01, 2.02011040e+07, 5.00000000e+00],\n       [3.96908112e+01, 1.55555556e+01, 5.22083333e+01, 5.91666667e+00,\n        3.03225000e+01, 2.02011090e+07, 0.00000000e+00],\n       [3.26196671e+01, 1.55555556e+01, 5.22083333e+01, 5.91666667e+00,\n        3.03225000e+01, 2.02011090e+07, 1.00000000e+00],\n       [4.29195290e+01, 1.55555556e+01, 5.22083333e+01, 5.91666667e+00,\n        3.03225000e+01, 2.02011090e+07, 2.00000000e+00],\n       [3.46004829e+01, 1.55555556e+01, 5.22083333e+01, 5.91666667e+00,\n        3.03225000e+01, 2.02011090e+07, 3.00000000e+00],\n       [3.93816643e+01, 1.55555556e+01, 5.22083333e+01, 5.91666667e+00,\n        3.03225000e+01, 2.02011090e+07, 4.00000000e+00],\n       [4.80534058e+01, 1.55555556e+01, 5.22083333e+01, 5.91666667e+00,\n        3.03225000e+01, 2.02011090e+07, 5.00000000e+00],\n       [3.71412849e+01, 1.55555556e+01, 5.22083333e+01, 5.91666667e+00,\n        3.03225000e+01, 2.02011090e+07, 6.00000000e+00],\n       [3.01325684e+01, 1.55555556e+01, 5.22083333e+01, 5.91666667e+00,\n        3.03225000e+01, 2.02011090e+07, 7.00000000e+00],\n       [3.92388878e+01, 1.55555556e+01, 5.22083333e+01, 5.91666667e+00,\n        3.03225000e+01, 2.02011090e+07, 8.00000000e+00],\n       [4.12671890e+01, 1.55555556e+01, 5.22083333e+01, 5.91666667e+00,\n        3.03225000e+01, 2.02011090e+07, 9.00000000e+00],\n       [4.09334564e+01, 9.00462963e+00, 6.52500000e+01, 9.41666667e+00,\n        3.04475000e+01, 2.02011290e+07, 0.00000000e+00],\n       [2.91319809e+01, 9.00462963e+00, 6.52500000e+01, 9.41666667e+00,\n        3.04475000e+01, 2.02011290e+07, 1.00000000e+00],\n       [4.12722321e+01, 9.00462963e+00, 6.52500000e+01, 9.41666667e+00,\n        3.04475000e+01, 2.02011290e+07, 2.00000000e+00],\n       [3.23188477e+01, 9.00462963e+00, 6.52500000e+01, 9.41666667e+00,\n        3.04475000e+01, 2.02011290e+07, 3.00000000e+00],\n       [3.99713860e+01, 9.00462963e+00, 6.52500000e+01, 9.41666667e+00,\n        3.04475000e+01, 2.02011290e+07, 4.00000000e+00],\n       [4.19670868e+01, 9.00462963e+00, 6.52500000e+01, 9.41666667e+00,\n        3.04475000e+01, 2.02011290e+07, 5.00000000e+00],\n       [4.01130753e+01, 9.00462963e+00, 6.52500000e+01, 9.41666667e+00,\n        3.04475000e+01, 2.02011290e+07, 6.00000000e+00],\n       [3.95106201e+01, 9.00462963e+00, 6.52500000e+01, 9.41666667e+00,\n        3.04475000e+01, 2.02011290e+07, 7.00000000e+00],\n       [4.03479538e+01, 9.00462963e+00, 6.52500000e+01, 9.41666667e+00,\n        3.04475000e+01, 2.02011290e+07, 8.00000000e+00],\n       [3.97429962e+01, 9.00462963e+00, 6.52500000e+01, 9.41666667e+00,\n        3.04475000e+01, 2.02011290e+07, 9.00000000e+00],\n       [3.93519669e+01, 1.08333333e+01, 6.74583333e+01, 5.87500000e+00,\n        3.02462500e+01, 2.02012090e+07, 0.00000000e+00],\n       [2.76478825e+01, 1.08333333e+01, 6.74583333e+01, 5.87500000e+00,\n        3.02462500e+01, 2.02012090e+07, 1.00000000e+00],\n       [3.92758560e+01, 1.08333333e+01, 6.74583333e+01, 5.87500000e+00,\n        3.02462500e+01, 2.02012090e+07, 2.00000000e+00],\n       [3.17659607e+01, 1.08333333e+01, 6.74583333e+01, 5.87500000e+00,\n        3.02462500e+01, 2.02012090e+07, 3.00000000e+00],\n       [3.70602837e+01, 1.08333333e+01, 6.74583333e+01, 5.87500000e+00,\n        3.02462500e+01, 2.02012090e+07, 4.00000000e+00],\n       [3.83451767e+01, 1.08333333e+01, 6.74583333e+01, 5.87500000e+00,\n        3.02462500e+01, 2.02012090e+07, 5.00000000e+00],\n       [4.21250496e+01, 1.08333333e+01, 6.74583333e+01, 5.87500000e+00,\n        3.02462500e+01, 2.02012090e+07, 6.00000000e+00],\n       [3.95028305e+01, 1.08333333e+01, 6.74583333e+01, 5.87500000e+00,\n        3.02462500e+01, 2.02012090e+07, 7.00000000e+00],\n       [3.62526245e+01, 1.08333333e+01, 6.74583333e+01, 5.87500000e+00,\n        3.02462500e+01, 2.02012090e+07, 8.00000000e+00],\n       [4.09900970e+01, 1.08333333e+01, 6.74583333e+01, 5.87500000e+00,\n        3.02462500e+01, 2.02012090e+07, 9.00000000e+00],\n       [3.05100479e+01, 5.20833333e+00, 5.48750000e+01, 3.25000000e+00,\n        3.04437500e+01, 2.02012210e+07, 1.00000000e+00],\n       [3.94947739e+01, 5.20833333e+00, 5.48750000e+01, 3.25000000e+00,\n        3.04437500e+01, 2.02012210e+07, 2.00000000e+00],\n       [3.36954536e+01, 5.20833333e+00, 5.48750000e+01, 3.25000000e+00,\n        3.04437500e+01, 2.02012210e+07, 3.00000000e+00],\n       [3.95508575e+01, 5.20833333e+00, 5.48750000e+01, 3.25000000e+00,\n        3.04437500e+01, 2.02012210e+07, 4.00000000e+00],\n       [4.50300903e+01, 5.20833333e+00, 5.48750000e+01, 3.25000000e+00,\n        3.04437500e+01, 2.02012210e+07, 6.00000000e+00],\n       [4.02132950e+01, 5.20833333e+00, 5.48750000e+01, 3.25000000e+00,\n        3.04437500e+01, 2.02012210e+07, 7.00000000e+00],\n       [3.87270126e+01, 5.20833333e+00, 5.48750000e+01, 3.25000000e+00,\n        3.04437500e+01, 2.02012210e+07, 8.00000000e+00],\n       [4.25372467e+01, 5.20833333e+00, 5.48750000e+01, 3.25000000e+00,\n        3.04437500e+01, 2.02012210e+07, 9.00000000e+00]])"
     },
     "execution_count": 88,
     "metadata": {},
     "output_type": "execute_result"
    }
   ],
   "source": [
    "features_meteo"
   ]
  },
  {
   "cell_type": "markdown",
   "metadata": {
    "pycharm": {
     "name": "#%% md\n"
    }
   },
   "source": [
    "# Try to match RF's train test splits with the CNN's splits"
   ]
  },
  {
   "cell_type": "code",
   "execution_count": 89,
   "metadata": {
    "pycharm": {
     "name": "#%%\n"
    }
   },
   "outputs": [],
   "source": [
    "dataset_RF = list(zip(features_meteo, y_all))\n",
    "\n",
    "###shuffle dataset to get train, test datasets\n",
    "random.Random(42).shuffle(dataset_RF)\n",
    "\n",
    "\n",
    "batch_size = 100\n",
    "total_batches = len(dataset_RF) // batch_size\n",
    "train_batches = int(np.ceil(8 * total_batches / 10))\n",
    "test_batches = total_batches - train_batches"
   ]
  },
  {
   "cell_type": "code",
   "execution_count": 90,
   "metadata": {
    "pycharm": {
     "name": "#%%\n"
    }
   },
   "outputs": [],
   "source": [
    "train_full, test_full = dataset_RF[:train_batches*batch_size], dataset_RF[train_batches*batch_size:]\n",
    "X_train_full = np.array([x[0] for x in train_full])\n",
    "X_test_full = np.array([x[0] for x in test_full])\n",
    "y_train = np.array([x[1] for x in train_full])\n",
    "y_test = np.array([x[1] for x in test_full])\n",
    "X_train = X_train_full[:, :-2]\n",
    "X_test = X_test_full[:, :-2]"
   ]
  },
  {
   "cell_type": "code",
   "execution_count": 91,
   "metadata": {
    "pycharm": {
     "name": "#%%\n"
    }
   },
   "outputs": [
    {
     "data": {
      "text/plain": "41.66627"
     },
     "execution_count": 91,
     "metadata": {},
     "output_type": "execute_result"
    }
   ],
   "source": [
    "np.mean(y_test)"
   ]
  },
  {
   "cell_type": "code",
   "execution_count": 93,
   "metadata": {
    "pycharm": {
     "name": "#%%\n"
    }
   },
   "outputs": [
    {
     "name": "stdout",
     "output_type": "stream",
     "text": [
      "k = 0, i = 0, j = 0 started.\n",
      "k = 0, i = 0, j = 0 finished.\n",
      "k = 0, i = 0, j = 1 started.\n",
      "k = 0, i = 0, j = 1 finished.\n",
      "k = 0, i = 0, j = 2 started.\n",
      "k = 0, i = 0, j = 2 finished.\n",
      "k = 0, i = 1, j = 0 started.\n",
      "k = 0, i = 1, j = 0 finished.\n",
      "k = 0, i = 1, j = 1 started.\n",
      "k = 0, i = 1, j = 1 finished.\n",
      "k = 0, i = 1, j = 2 started.\n",
      "k = 0, i = 1, j = 2 finished.\n",
      "k = 0, i = 2, j = 0 started.\n",
      "k = 0, i = 2, j = 0 finished.\n",
      "k = 0, i = 2, j = 1 started.\n",
      "k = 0, i = 2, j = 1 finished.\n",
      "k = 0, i = 2, j = 2 started.\n",
      "k = 0, i = 2, j = 2 finished.\n"
     ]
    }
   ],
   "source": [
    "shuffle=KFold(n_splits=5, shuffle=True,random_state=42)\n",
    "max_features=['sqrt']\n",
    "n_estimators=['300','400','500']\n",
    "#min_samples_leaf=np.linspace(2,8,3)\n",
    "min_samples_leaf=['1','2','3']\n",
    "avg_MSE=np.zeros([len(max_features),len(n_estimators),len(min_samples_leaf)])\n",
    "avg_MAE = np.zeros([len(max_features),len(n_estimators),len(min_samples_leaf)])\n",
    "for k, feature in enumerate(max_features):\n",
    "    for i,estimators in enumerate(n_estimators):\n",
    "        for j,samples_leaf in enumerate(min_samples_leaf):\n",
    "            print('k = '+str(k)+', i = '+str(i)+', j = '+str(j)+' started.')\n",
    "            scaler=StandardScaler()\n",
    "            cls = RandomForestRegressor(bootstrap=True, n_jobs=-1, random_state = 40,max_features =feature,n_estimators =int(estimators),min_samples_leaf=int(samples_leaf ) )\n",
    "            our_pipeline=Pipeline([('scaler',scaler),('cls',cls)])\n",
    "            MSE = -cross_val_score(our_pipeline,X_train, y_train.ravel(), cv=shuffle, scoring='neg_mean_squared_error')\n",
    "            avg_MSE[k,i,j]=np.mean(MSE)\n",
    "            #MAE = -cross_val_score(our_pipeline,X_train, y_train.ravel(), cv=shuffle, scoring='neg_mean_absolute_error')\n",
    "            #avg_MAE[k,i,j]=np.mean(MAE)\n",
    "            print('k = '+str(k)+', i = '+str(i)+', j = '+str(j)+' finished.')"
   ]
  },
  {
   "cell_type": "code",
   "execution_count": 94,
   "metadata": {
    "pycharm": {
     "name": "#%%\n"
    }
   },
   "outputs": [
    {
     "data": {
      "text/plain": "array([[[4.30968878, 4.39235272, 4.81066787],\n        [4.30707545, 4.37264231, 4.80961424],\n        [4.31876795, 4.38435474, 4.79368637]]])"
     },
     "execution_count": 94,
     "metadata": {},
     "output_type": "execute_result"
    }
   ],
   "source": [
    "np.sqrt(avg_MSE)"
   ]
  },
  {
   "cell_type": "markdown",
   "metadata": {
    "pycharm": {
     "name": "#%% md\n"
    }
   },
   "source": [
    "# Compute 5-fold results"
   ]
  },
  {
   "cell_type": "code",
   "execution_count": 103,
   "metadata": {
    "pycharm": {
     "name": "#%%\n"
    }
   },
   "outputs": [],
   "source": [
    "cv = KFold(n_splits=5, shuffle=True,random_state=42)\n",
    "def final_cv_results(X,y):\n",
    "    CV5_spearman = []\n",
    "    CV5_pearson = []\n",
    "    CV5_MAE = []\n",
    "    CV5_NMAE = []\n",
    "    CV5_RMSE = []\n",
    "    CV5_NRMSE = []\n",
    "    for train_index, test_index in cv.split(X, y):\n",
    "        print(\"TRAIN:\", train_index, \"TEST:\", test_index)\n",
    "        X_train, X_test = X[train_index], X[test_index]\n",
    "        y_train, y_test = y[train_index], y[test_index]\n",
    "        scaler=StandardScaler()\n",
    "        cls = RandomForestRegressor(bootstrap=True, n_jobs=-1, random_state = 40,max_features ='sqrt',n_estimators =500,min_samples_leaf=1 )\n",
    "        our_pipeline=Pipeline([('scaler',scaler),('cls',cls)])\n",
    "        our_pipeline.fit(X_train,y_train.ravel())\n",
    "        CV5_spearman.append(stats.spearmanr((our_pipeline.predict(X_test)),y_test.ravel())[0])\n",
    "        CV5_pearson.append(stats.pearsonr((our_pipeline.predict(X_test)),y_test.ravel())[0])\n",
    "        my_prediction = our_pipeline.predict(X_test)\n",
    "        RMSE = round(np.sqrt(metrics.mean_squared_error(y_test, my_prediction)),1)\n",
    "        MAE = round(metrics.mean_absolute_error(y_test, my_prediction),1)\n",
    "        CV5_MAE.append(MAE)\n",
    "        CV5_NMAE.append(MAE/np.mean(y_test))\n",
    "        CV5_RMSE.append(RMSE)\n",
    "        CV5_NRMSE.append(RMSE/np.mean(y_test))\n",
    "\n",
    "    return  CV5_spearman, CV5_pearson, CV5_MAE, CV5_NMAE, CV5_RMSE, CV5_NRMSE\n"
   ]
  },
  {
   "cell_type": "code",
   "execution_count": 104,
   "metadata": {
    "pycharm": {
     "name": "#%%\n"
    }
   },
   "outputs": [
    {
     "name": "stdout",
     "output_type": "stream",
     "text": [
      "TRAIN: [ 1  2  3  5  6  7  8  9 11 13 14 15 16 17 19 20 21 23 24 25 26 27 28 29\n",
      " 32 34 35 36 37 38 40 41 42 43 46 47 48 49 50 51 52 54 55 56 57 58 59 60\n",
      " 61 62 63 64 65 66 67 68 69 71 72 74 75 78 79 81 82 84 85 86 87 88 89 91\n",
      " 92 93 94 95 96 97 98 99] TEST: [ 0  4 10 12 18 22 30 31 33 39 44 45 53 70 73 76 77 80 83 90]\n",
      "TRAIN: [ 0  1  2  3  4  6  7  8 10 12 13 14 17 18 19 20 21 22 23 24 25 27 29 30\n",
      " 31 32 33 34 36 37 38 39 41 43 44 45 46 48 49 50 51 52 53 54 56 57 58 59\n",
      " 60 61 62 63 64 67 68 70 71 73 74 75 76 77 78 79 80 81 82 83 84 86 87 89\n",
      " 90 91 92 94 95 97 98 99] TEST: [ 5  9 11 15 16 26 28 35 40 42 47 55 65 66 69 72 85 88 93 96]\n",
      "TRAIN: [ 0  1  2  4  5  9 10 11 12 14 15 16 18 20 21 22 23 26 28 29 30 31 32 33\n",
      " 35 37 39 40 41 42 43 44 45 46 47 48 50 51 52 53 54 55 56 57 58 59 60 61\n",
      " 63 65 66 67 68 69 70 71 72 73 74 75 76 77 79 80 82 83 84 85 86 87 88 90\n",
      " 91 92 93 94 96 97 98 99] TEST: [ 3  6  7  8 13 17 19 24 25 27 34 36 38 49 62 64 78 81 89 95]\n",
      "TRAIN: [ 0  1  2  3  4  5  6  7  8  9 10 11 12 13 14 15 16 17 18 19 20 21 22 23\n",
      " 24 25 26 27 28 29 30 31 33 34 35 36 37 38 39 40 42 44 45 47 49 51 52 53\n",
      " 55 60 62 63 64 65 66 69 70 71 72 73 74 76 77 78 80 81 82 83 84 85 86 87\n",
      " 88 89 90 91 92 93 95 96] TEST: [32 41 43 46 48 50 54 56 57 58 59 61 67 68 75 79 94 97 98 99]\n",
      "TRAIN: [ 0  3  4  5  6  7  8  9 10 11 12 13 15 16 17 18 19 22 24 25 26 27 28 30\n",
      " 31 32 33 34 35 36 38 39 40 41 42 43 44 45 46 47 48 49 50 53 54 55 56 57\n",
      " 58 59 61 62 64 65 66 67 68 69 70 72 73 75 76 77 78 79 80 81 83 85 88 89\n",
      " 90 93 94 95 96 97 98 99] TEST: [ 1  2 14 20 21 23 29 37 51 52 60 63 71 74 82 84 86 87 91 92]\n"
     ]
    }
   ],
   "source": [
    " CV5_spearman, CV5_pearson, CV5_MAE, CV5_NMAE, CV5_RMSE, CV5_NRMSE = final_cv_results(X_train,y_train)"
   ]
  },
  {
   "cell_type": "code",
   "execution_count": 105,
   "metadata": {
    "pycharm": {
     "name": "#%%\n"
    }
   },
   "outputs": [],
   "source": [
    "CV5_mean = [np.mean(CV5_spearman),np.mean(CV5_pearson),np.mean(CV5_MAE), np.mean(CV5_NMAE), np.mean(CV5_RMSE), np.mean(CV5_NRMSE) ]"
   ]
  },
  {
   "cell_type": "code",
   "execution_count": 106,
   "metadata": {
    "pycharm": {
     "name": "#%%\n"
    }
   },
   "outputs": [
    {
     "data": {
      "text/plain": "[0.8833082706766916,\n 0.9434007512379379,\n 3.0,\n 0.07123332782525878,\n 4.180000000000001,\n 0.09937992669206637]"
     },
     "execution_count": 106,
     "metadata": {},
     "output_type": "execute_result"
    }
   ],
   "source": [
    "CV5_mean"
   ]
  },
  {
   "cell_type": "markdown",
   "metadata": {
    "pycharm": {
     "name": "#%% md\n"
    }
   },
   "source": [
    "# Illustrating 5-fold CV results"
   ]
  },
  {
   "cell_type": "code",
   "execution_count": 107,
   "metadata": {
    "pycharm": {
     "name": "#%%\n"
    }
   },
   "outputs": [],
   "source": [
    "from matplotlib.patches import Patch\n",
    "cmap_data = plt.cm.Paired\n",
    "cmap_cv = plt.cm.coolwarm"
   ]
  },
  {
   "cell_type": "code",
   "execution_count": 108,
   "metadata": {
    "pycharm": {
     "name": "#%%\n"
    }
   },
   "outputs": [],
   "source": [
    "def plot_cv_indices(cv, X, y, ax, n_splits, lw=40):\n",
    "    \"\"\"Create a sample plot for indices of a cross-validation object.\"\"\"\n",
    "\n",
    "    # Generate the training/testing visualizations for each CV split\n",
    "    for ii, (tr, tt) in enumerate(cv.split(X=X, y=y)):\n",
    "        # Fill in indices with the training/test groups\n",
    "        indices = np.array([np.nan] * len(X))\n",
    "        indices[tt] = 1\n",
    "        indices[tr] = 0\n",
    "\n",
    "        # Visualize the results\n",
    "        ax.scatter(range(len(indices)), [ii + .5] * len(indices),\n",
    "                   c=indices, marker='_', lw=lw, cmap=cmap_cv,\n",
    "                   vmin=-.2, vmax=1.2)\n",
    "    for ii, value in enumerate(['Fold 0', 'Fold 1', 'Fold 2', 'Fold 3', 'Fold 4']):\n",
    "        plt.text(1000+2000*ii, 6-0.4,value,horizontalalignment='center', fontsize=20, rotation=0, color ='black' )\n",
    "    for ii, value in enumerate(CV5_spearman):\n",
    "        plt.text(1000+2000*ii, 7-0.4,round(value,2),horizontalalignment='center', fontsize=20, rotation=0, color ='black' )\n",
    "    for ii, value in enumerate(CV5_pearson):\n",
    "        plt.text(1000+2000*ii, 8-0.4,round(value,2),horizontalalignment='center', fontsize=20, rotation=0, color ='black' )\n",
    "    for ii, value in enumerate(CV5_MAE):\n",
    "        plt.text(1000+2000*ii, 9-0.4,round(value,1),horizontalalignment='center', fontsize=20, rotation=0, color ='black' )\n",
    "    for ii, value in enumerate(CV5_NMAE):\n",
    "        plt.text(1000+2000*ii, 10-0.4,str(round(value*100,1))+'%',horizontalalignment='center', fontsize=20, rotation=0, color ='black' )\n",
    "    for ii, value in enumerate(CV5_RMSE):\n",
    "        plt.text(1000+2000*ii, 11-0.4,round(value,1),horizontalalignment='center', fontsize=20, rotation=0, color ='black' )\n",
    "    for ii, value in enumerate(CV5_NRMSE):\n",
    "        plt.text(1000+2000*ii, 12-0.4,str(round(value*100,1))+'%',horizontalalignment='center', fontsize=20, rotation=0, color ='black' )\n",
    "    ''' \n",
    "    for ii, value in enumerate(CV5_mean):\n",
    "        if ii==0 or 1:\n",
    "            plt.text(1000+2000*ii, 12-0.2,round(value,2),horizontalalignment='center', fontsize=15, rotation=0, color ='black' )\n",
    "        elif ii==2 or 4:\n",
    "            plt.text(1000+2000*ii, 12-0.2,round(value,1),horizontalalignment='center', fontsize=15, rotation=0, color ='black' )\n",
    "\n",
    "        else:\n",
    "            plt.text(1000+2000*ii, 12-0.2,str(round(value*100,1))+'%',horizontalalignment='center', fontsize=15, rotation=0, color ='black' )\n",
    "    '''\n",
    "    # Plot the data classes and groups at the end\n",
    "    #ax.scatter(range(len(X)), [ii + 1.5] * len(X),\n",
    "    #           c=y, marker='_', lw=lw, cmap=cmap_data)\n",
    "\n",
    "    #ax.scatter(range(len(X)), [ii + 2.5] * len(X),\n",
    "    #           c=group, marker='_', lw=lw, cmap=cmap_data)\n",
    "\n",
    "    # Formatting\n",
    "    yticklabels = list(range(n_splits)) + ['Folds','Spearman r','Pearson r','MAE', 'NMAE','RMSE','NRMSE']\n",
    "    ax.set(yticks=np.arange(n_splits+7) + .5, yticklabels=yticklabels,\n",
    "           xlabel='Sample index', ylabel=\"CV iteration\",\n",
    "           ylim=[n_splits+7.2, -.2], xlim=[0, len(X)])\n",
    "    ax.legend([Patch(color=cmap_cv(.8)), Patch(color=cmap_cv(.02))],\n",
    "              ['CV test', 'CV training'], loc=(-0.5, 0.8), fontsize=20)\n",
    "    ax.set_title('5-fold CV results on the Beijing training set', fontsize=20)\n",
    "    ax.tick_params(labelsize = 20)\n",
    "    ax.set_xlabel('Sample index',size = 20)\n",
    "    ax.set_ylabel(\"CV iteration\", size = 20)\n",
    "    plt.tight_layout()\n",
    "    return ax"
   ]
  },
  {
   "cell_type": "code",
   "execution_count": 110,
   "metadata": {
    "pycharm": {
     "name": "#%%\n"
    }
   },
   "outputs": [
    {
     "name": "stderr",
     "output_type": "stream",
     "text": [
      "C:\\Users\\benny\\AppData\\Local\\Temp\\ipykernel_26464\\3321159169.py:57: UserWarning: Tight layout not applied. The left and right margins cannot be made large enough to accommodate all axes decorations.\n",
      "  plt.tight_layout()\n"
     ]
    },
    {
     "data": {
      "text/plain": "<Figure size 500x500 with 1 Axes>",
      "image/png": "[encoded data removed]"
     },
     "metadata": {},
     "output_type": "display_data"
    }
   ],
   "source": [
    "n_splits = 5\n",
    "fig, ax = plt.subplots(figsize = (5,5))\n",
    "cv = KFold(n_splits=5, shuffle=True,random_state=42)\n",
    "plot_cv_indices(cv, X_train, y_train, ax, n_splits)\n",
    "\n",
    "savepdf(fig,'cv_results')"
   ]
  },
  {
   "cell_type": "markdown",
   "metadata": {
    "pycharm": {
     "name": "#%% md\n"
    }
   },
   "source": [
    "# Build the model based on your best hyperparameters"
   ]
  },
  {
   "cell_type": "code",
   "execution_count": 112,
   "metadata": {
    "pycharm": {
     "name": "#%%\n"
    }
   },
   "outputs": [
    {
     "data": {
      "text/plain": "Pipeline(steps=[('scaler', StandardScaler()),\n                ('cls',\n                 RandomForestRegressor(max_features='sqrt', n_estimators=500,\n                                       n_jobs=-1, random_state=40))])",
      "text/html": "<style>#sk-container-id-1 {color: black;}#sk-container-id-1 pre{padding: 0;}#sk-container-id-1 div.sk-toggleable {background-color: white;}#sk-container-id-1 label.sk-toggleable__label {cursor: pointer;display: block;width: 100%;margin-bottom: 0;padding: 0.3em;box-sizing: border-box;text-align: center;}#sk-container-id-1 label.sk-toggleable__label-arrow:before {content: \"▸\";float: left;margin-right: 0.25em;color: #696969;}#sk-container-id-1 label.sk-toggleable__label-arrow:hover:before {color: black;}#sk-container-id-1 div.sk-estimator:hover label.sk-toggleable__label-arrow:before {color: black;}#sk-container-id-1 div.sk-toggleable__content {max-height: 0;max-width: 0;overflow: hidden;text-align: left;background-color: #f0f8ff;}#sk-container-id-1 div.sk-toggleable__content pre {margin: 0.2em;color: black;border-radius: 0.25em;background-color: #f0f8ff;}#sk-container-id-1 input.sk-toggleable__control:checked~div.sk-toggleable__content {max-height: 200px;max-width: 100%;overflow: auto;}#sk-container-id-1 input.sk-toggleable__control:checked~label.sk-toggleable__label-arrow:before {content: \"▾\";}#sk-container-id-1 div.sk-estimator input.sk-toggleable__control:checked~label.sk-toggleable__label {background-color: #d4ebff;}#sk-container-id-1 div.sk-label input.sk-toggleable__control:checked~label.sk-toggleable__label {background-color: #d4ebff;}#sk-container-id-1 input.sk-hidden--visually {border: 0;clip: rect(1px 1px 1px 1px);clip: rect(1px, 1px, 1px, 1px);height: 1px;margin: -1px;overflow: hidden;padding: 0;position: absolute;width: 1px;}#sk-container-id-1 div.sk-estimator {font-family: monospace;background-color: #f0f8ff;border: 1px dotted black;border-radius: 0.25em;box-sizing: border-box;margin-bottom: 0.5em;}#sk-container-id-1 div.sk-estimator:hover {background-color: #d4ebff;}#sk-container-id-1 div.sk-parallel-item::after {content: \"\";width: 100%;border-bottom: 1px solid gray;flex-grow: 1;}#sk-container-id-1 div.sk-label:hover label.sk-toggleable__label {background-color: #d4ebff;}#sk-container-id-1 div.sk-serial::before {content: \"\";position: absolute;border-left: 1px solid gray;box-sizing: border-box;top: 0;bottom: 0;left: 50%;z-index: 0;}#sk-container-id-1 div.sk-serial {display: flex;flex-direction: column;align-items: center;background-color: white;padding-right: 0.2em;padding-left: 0.2em;position: relative;}#sk-container-id-1 div.sk-item {position: relative;z-index: 1;}#sk-container-id-1 div.sk-parallel {display: flex;align-items: stretch;justify-content: center;background-color: white;position: relative;}#sk-container-id-1 div.sk-item::before, #sk-container-id-1 div.sk-parallel-item::before {content: \"\";position: absolute;border-left: 1px solid gray;box-sizing: border-box;top: 0;bottom: 0;left: 50%;z-index: -1;}#sk-container-id-1 div.sk-parallel-item {display: flex;flex-direction: column;z-index: 1;position: relative;background-color: white;}#sk-container-id-1 div.sk-parallel-item:first-child::after {align-self: flex-end;width: 50%;}#sk-container-id-1 div.sk-parallel-item:last-child::after {align-self: flex-start;width: 50%;}#sk-container-id-1 div.sk-parallel-item:only-child::after {width: 0;}#sk-container-id-1 div.sk-dashed-wrapped {border: 1px dashed gray;margin: 0 0.4em 0.5em 0.4em;box-sizing: border-box;padding-bottom: 0.4em;background-color: white;}#sk-container-id-1 div.sk-label label {font-family: monospace;font-weight: bold;display: inline-block;line-height: 1.2em;}#sk-container-id-1 div.sk-label-container {text-align: center;}#sk-container-id-1 div.sk-container {/* jupyter's `normalize.less` sets `[hidden] { display: none; }` but bootstrap.min.css set `[hidden] { display: none !important; }` so we also need the `!important` here to be able to override the default hidden behavior on the sphinx rendered scikit-learn.org. See: https://github.com/scikit-learn/scikit-learn/issues/21755 */display: inline-block !important;position: relative;}#sk-container-id-1 div.sk-text-repr-fallback {display: none;}</style><div id=\"sk-container-id-1\" class=\"sk-top-container\"><div class=\"sk-text-repr-fallback\"><pre>Pipeline(steps=[(&#x27;scaler&#x27;, StandardScaler()),\n                (&#x27;cls&#x27;,\n                 RandomForestRegressor(max_features=&#x27;sqrt&#x27;, n_estimators=500,\n                                       n_jobs=-1, random_state=40))])</pre><b>In a Jupyter environment, please rerun this cell to show the HTML representation or trust the notebook. <br />On GitHub, the HTML representation is unable to render, please try loading this page with nbviewer.org.</b></div><div class=\"sk-container\" hidden><div class=\"sk-item sk-dashed-wrapped\"><div class=\"sk-label-container\"><div class=\"sk-label sk-toggleable\"><input class=\"sk-toggleable__control sk-hidden--visually\" id=\"sk-estimator-id-1\" type=\"checkbox\" ><label for=\"sk-estimator-id-1\" class=\"sk-toggleable__label sk-toggleable__label-arrow\">Pipeline</label><div class=\"sk-toggleable__content\"><pre>Pipeline(steps=[(&#x27;scaler&#x27;, StandardScaler()),\n                (&#x27;cls&#x27;,\n                 RandomForestRegressor(max_features=&#x27;sqrt&#x27;, n_estimators=500,\n                                       n_jobs=-1, random_state=40))])</pre></div></div></div><div class=\"sk-serial\"><div class=\"sk-item\"><div class=\"sk-estimator sk-toggleable\"><input class=\"sk-toggleable__control sk-hidden--visually\" id=\"sk-estimator-id-2\" type=\"checkbox\" ><label for=\"sk-estimator-id-2\" class=\"sk-toggleable__label sk-toggleable__label-arrow\">StandardScaler</label><div class=\"sk-toggleable__content\"><pre>StandardScaler()</pre></div></div></div><div class=\"sk-item\"><div class=\"sk-estimator sk-toggleable\"><input class=\"sk-toggleable__control sk-hidden--visually\" id=\"sk-estimator-id-3\" type=\"checkbox\" ><label for=\"sk-estimator-id-3\" class=\"sk-toggleable__label sk-toggleable__label-arrow\">RandomForestRegressor</label><div class=\"sk-toggleable__content\"><pre>RandomForestRegressor(max_features=&#x27;sqrt&#x27;, n_estimators=500, n_jobs=-1,\n                      random_state=40)</pre></div></div></div></div></div></div></div>"
     },
     "execution_count": 112,
     "metadata": {},
     "output_type": "execute_result"
    }
   ],
   "source": [
    "#500 1 for VGG fine-tuning\n",
    "scaler=StandardScaler()\n",
    "cls = RandomForestRegressor(bootstrap=True, n_jobs=-1, random_state = 40,max_features ='sqrt',n_estimators =500,min_samples_leaf=1 )\n",
    "our_pipeline=Pipeline([('scaler',scaler),('cls',cls)])\n",
    "our_pipeline.fit(X_train,y_train.ravel())"
   ]
  },
  {
   "cell_type": "markdown",
   "metadata": {
    "pycharm": {
     "name": "#%% md\n"
    }
   },
   "source": [
    "# Visualization"
   ]
  },
  {
   "cell_type": "code",
   "execution_count": 113,
   "metadata": {
    "pycharm": {
     "name": "#%%\n"
    }
   },
   "outputs": [],
   "source": [
    "Rsquared = stats.spearmanr((our_pipeline.predict(X_train)),y_train.ravel())[0]\n",
    "pvalue = stats.spearmanr((our_pipeline.predict(X_train)),y_train.ravel())[1]\n",
    "Rsquared_pearson = stats.pearsonr((our_pipeline.predict(X_train)),y_train.ravel())[0]\n",
    "pvalue_pearson = stats.pearsonr((our_pipeline.predict(X_train)),y_train.ravel())[1]"
   ]
  },
  {
   "cell_type": "code",
   "execution_count": 114,
   "metadata": {
    "pycharm": {
     "name": "#%%\n"
    }
   },
   "outputs": [
    {
     "data": {
      "text/plain": "<Figure size 1000x1000 with 1 Axes>",
      "image/png": "[encoded data removed]"
     },
     "metadata": {},
     "output_type": "display_data"
    }
   ],
   "source": [
    "plt.rcParams.update({'mathtext.default':  'regular' })\n",
    "my_prediction = our_pipeline.predict(X_train)\n",
    "RMSE = round(np.sqrt(metrics.mean_squared_error(y_train, my_prediction)),1)\n",
    "MAE = round(metrics.mean_absolute_error(y_train, my_prediction),1)\n",
    "fig, ax = plt.subplots(figsize = (10,10))\n",
    "ax.set_yscale('log')\n",
    "ax.set_xscale('log')\n",
    "ax.scatter(y_train, my_prediction,color = 'orange', edgecolors=(0, 0, 0),  s = 100)\n",
    "ax.plot([0, 400], [0, 400], 'k--', lw=4)\n",
    "ax.set_xlabel('True $PM_{2.5}$ ($\\mu $g m$^{-3}$)', size = 20)\n",
    "ax.set_ylabel('Predicted $PM_{2.5}$ ($\\mu $g m$^{-3}$)', size = 20)\n",
    "ax.tick_params(labelsize = 20)\n",
    "fig.text(0.15, 0.83, 'Spearman r = '+ str(round(Rsquared,2)) + ' (p-value = '+ str(round(pvalue,7))+')', color='black', weight='roman',\n",
    "fontsize=20)\n",
    "\n",
    "plt.axis('tight')\n",
    "fig.text(0.15, 0.79, 'Pearson r = '+ str(round(Rsquared_pearson,2)) + ' (p-value = '+ str(round(pvalue_pearson,100)) + ')', color='black', weight='roman',\n",
    "fontsize=20)\n",
    "\n",
    "fig.text(0.15, 0.75, 'RMSE = '+ str(RMSE), color='black', weight='roman',\n",
    "fontsize=20)\n",
    "fig.text(0.15, 0.71, 'MAE = '+ str(MAE), color='black', weight='roman',\n",
    "fontsize=20)\n",
    "fig.text(0.15, 0.67, 'NRMSE = '+ str(round(RMSE/np.mean(y_train)*100,1))+'%', color='black', weight='roman',\n",
    "fontsize=20)\n",
    "fig.text(0.15, 0.63, 'NMAE = '+ str(round(MAE/np.mean(y_train)*100,1))+'%', color='black', weight='roman',\n",
    "fontsize=20)\n",
    "fig.text(0.567, 0.135, 'Beijing training dataset', bbox=dict(facecolor='grey', alpha=0.9),color='black', weight='roman',\n",
    "fontsize=20)\n",
    "\n",
    "#plt.gca().set_aspect('equal', adjustable='box')\n",
    "plt.show()\n",
    "#savepdf(fig,'Satellite_Beijing_VGGtune_training_best')"
   ]
  },
  {
   "cell_type": "code",
   "execution_count": 115,
   "metadata": {
    "pycharm": {
     "name": "#%%\n"
    }
   },
   "outputs": [],
   "source": [
    "Rsquared = stats.spearmanr((our_pipeline.predict(X_test)),y_test.ravel())[0]\n",
    "pvalue = stats.spearmanr((our_pipeline.predict(X_test)),y_test.ravel())[1]\n",
    "Rsquared_pearson = stats.pearsonr((our_pipeline.predict(X_test)),y_test.ravel())[0]\n",
    "pvalue_pearson = stats.pearsonr((our_pipeline.predict(X_test)),y_test.ravel())[1]"
   ]
  },
  {
   "cell_type": "code",
   "execution_count": 116,
   "metadata": {
    "scrolled": false,
    "pycharm": {
     "name": "#%%\n"
    }
   },
   "outputs": [
    {
     "data": {
      "text/plain": "<Figure size 1000x1000 with 1 Axes>",
      "image/png": "[encoded data removed]"
     },
     "metadata": {},
     "output_type": "display_data"
    }
   ],
   "source": [
    "plt.rcParams.update({'mathtext.default':  'regular' })\n",
    "my_prediction = our_pipeline.predict(X_test)\n",
    "RMSE = round(np.sqrt(metrics.mean_squared_error(y_test, my_prediction)),1)\n",
    "MAE = round(metrics.mean_absolute_error(y_test, my_prediction),1)\n",
    "fig, ax = plt.subplots(figsize = (10,10))\n",
    "ax.set_yscale('log')\n",
    "ax.set_xscale('log')\n",
    "ax.scatter(y_test, my_prediction, color = 'royalblue',edgecolors=(0, 0, 0), s = 100)\n",
    "ax.plot([0, 400], [0, 400], 'k--', lw=4)\n",
    "ax.set_xlabel('True $PM_{2.5}$ ($\\mu $g m$^{-3}$)', size = 30)\n",
    "ax.set_ylabel('Predicted $PM_{2.5}$ ($\\mu $g m$^{-3}$)', size = 30)\n",
    "ax.tick_params(labelsize = 30)\n",
    "fig.text(0.15, 0.85, 'Spearman r = '+ str(round(Rsquared,2)) + ' (p-value = '+ str(round(pvalue,7))+')', color='black', weight='roman',\n",
    "fontsize=25)\n",
    "\n",
    "plt.axis('tight')\n",
    "fig.text(0.15, 0.81, 'Pearson r = '+ str(round(Rsquared_pearson,2)) + ' (p-value = '+ str(round(pvalue_pearson,2)) + ')', color='black', weight='roman',\n",
    "fontsize=25)\n",
    "\n",
    "fig.text(0.15, 0.77, 'RMSE = '+ str(RMSE), color='black', weight='roman',\n",
    "fontsize=25)\n",
    "fig.text(0.15, 0.73, 'MAE = '+ str(MAE), color='black', weight='roman',\n",
    "fontsize=25)\n",
    "fig.text(0.15, 0.69, 'NRMSE = '+ str(round(RMSE/np.mean(y_test)*100,1))+'%', color='black', weight='roman',\n",
    "fontsize=25)\n",
    "fig.text(0.15, 0.65, 'NMAE = '+ str(round(MAE/np.mean(y_test)*100,1))+'%', color='black', weight='roman',\n",
    "fontsize=25)\n",
    "fig.text(0.49, 0.14, 'Beijing test dataset', bbox=dict(facecolor='grey', alpha=0.9),color='black', weight='roman',\n",
    "fontsize=30)\n",
    "#plt.gca().set_aspect('equal', adjustable='box')\n",
    "plt.gcf().subplots_adjust(left=0.15)\n",
    "plt.show()\n",
    "savepdf(fig,'Satellite_Beijing_VGGtune_test_best')\n",
    "#savepdf(fig,'Satellite_Beijing_VGG16')"
   ]
  },
  {
   "cell_type": "markdown",
   "metadata": {
    "pycharm": {
     "name": "#%% md\n"
    }
   },
   "source": [
    "# RF Importance"
   ]
  },
  {
   "cell_type": "code",
   "execution_count": 117,
   "metadata": {
    "pycharm": {
     "name": "#%%\n"
    }
   },
   "outputs": [],
   "source": [
    "importances = cls.feature_importances_\n",
    "\n",
    "std = np.std([tree.feature_importances_ for tree in cls.estimators_],\n",
    "             axis=0)\n",
    "indices = np.argsort(importances)[::-1]\n",
    "\n",
    "importances\n",
    "\n",
    "#indices[:10]\n",
    "\n",
    "importance_indices = []\n",
    "for i in range(128):\n",
    "    importance_indices.append('Image_'+str(i))\n",
    "importance_indices.append('Temperature')\n",
    "importance_indices.append('RH')\n",
    "importance_indices.append('Wind speed')\n",
    "importance_indices.append('SLP')"
   ]
  },
  {
   "cell_type": "code",
   "execution_count": 118,
   "metadata": {
    "scrolled": false,
    "pycharm": {
     "name": "#%%\n"
    }
   },
   "outputs": [
    {
     "ename": "ValueError",
     "evalue": "shape mismatch: objects cannot be broadcast to a single shape.  Mismatch is between arg 0 with shape (10,) and arg 1 with shape (5,).",
     "output_type": "error",
     "traceback": [
      "\u001B[1;31m---------------------------------------------------------------------------\u001B[0m",
      "\u001B[1;31mValueError\u001B[0m                                Traceback (most recent call last)",
      "Cell \u001B[1;32mIn[118], line 4\u001B[0m\n\u001B[0;32m      1\u001B[0m fig\u001B[38;5;241m=\u001B[39mplt\u001B[38;5;241m.\u001B[39mfigure(figsize \u001B[38;5;241m=\u001B[39m (\u001B[38;5;241m20\u001B[39m,\u001B[38;5;241m20\u001B[39m))\n\u001B[0;32m      3\u001B[0m num_feature \u001B[38;5;241m=\u001B[39m \u001B[38;5;241m10\u001B[39m\n\u001B[1;32m----> 4\u001B[0m \u001B[43mplt\u001B[49m\u001B[38;5;241;43m.\u001B[39;49m\u001B[43mbar\u001B[49m\u001B[43m(\u001B[49m\u001B[38;5;28;43mrange\u001B[39;49m\u001B[43m(\u001B[49m\u001B[43mnum_feature\u001B[49m\u001B[43m)\u001B[49m\u001B[43m,\u001B[49m\u001B[43m \u001B[49m\u001B[43mimportances\u001B[49m\u001B[43m[\u001B[49m\u001B[43mindices\u001B[49m\u001B[43m]\u001B[49m\u001B[43m[\u001B[49m\u001B[43m:\u001B[49m\u001B[43mnum_feature\u001B[49m\u001B[43m]\u001B[49m\u001B[43m,\u001B[49m\n\u001B[0;32m      5\u001B[0m \u001B[43m      \u001B[49m\u001B[43mcolor\u001B[49m\u001B[38;5;241;43m=\u001B[39;49m\u001B[38;5;124;43m\"\u001B[39;49m\u001B[38;5;124;43mdarkred\u001B[39;49m\u001B[38;5;124;43m\"\u001B[39;49m\u001B[43m,\u001B[49m\u001B[43m \u001B[49m\u001B[43malign\u001B[49m\u001B[38;5;241;43m=\u001B[39;49m\u001B[38;5;124;43m\"\u001B[39;49m\u001B[38;5;124;43mcenter\u001B[39;49m\u001B[38;5;124;43m\"\u001B[39;49m\u001B[43m)\u001B[49m\n\u001B[0;32m      6\u001B[0m plt\u001B[38;5;241m.\u001B[39mxticks(\u001B[38;5;28mrange\u001B[39m(num_feature), np\u001B[38;5;241m.\u001B[39marray(importance_indices)[indices][:num_feature], rotation\u001B[38;5;241m=\u001B[39m\u001B[38;5;241m45\u001B[39m,size\u001B[38;5;241m=\u001B[39m\u001B[38;5;241m35\u001B[39m)\n\u001B[0;32m      7\u001B[0m plt\u001B[38;5;241m.\u001B[39myticks(size\u001B[38;5;241m=\u001B[39m\u001B[38;5;241m40\u001B[39m, rotation\u001B[38;5;241m=\u001B[39m\u001B[38;5;241m45\u001B[39m)\n",
      "File \u001B[1;32m~\\anaconda3\\envs\\tf-gpu\\lib\\site-packages\\matplotlib\\pyplot.py:2439\u001B[0m, in \u001B[0;36mbar\u001B[1;34m(x, height, width, bottom, align, data, **kwargs)\u001B[0m\n\u001B[0;32m   2435\u001B[0m \u001B[38;5;129m@_copy_docstring_and_deprecators\u001B[39m(Axes\u001B[38;5;241m.\u001B[39mbar)\n\u001B[0;32m   2436\u001B[0m \u001B[38;5;28;01mdef\u001B[39;00m \u001B[38;5;21mbar\u001B[39m(\n\u001B[0;32m   2437\u001B[0m         x, height, width\u001B[38;5;241m=\u001B[39m\u001B[38;5;241m0.8\u001B[39m, bottom\u001B[38;5;241m=\u001B[39m\u001B[38;5;28;01mNone\u001B[39;00m, \u001B[38;5;241m*\u001B[39m, align\u001B[38;5;241m=\u001B[39m\u001B[38;5;124m'\u001B[39m\u001B[38;5;124mcenter\u001B[39m\u001B[38;5;124m'\u001B[39m,\n\u001B[0;32m   2438\u001B[0m         data\u001B[38;5;241m=\u001B[39m\u001B[38;5;28;01mNone\u001B[39;00m, \u001B[38;5;241m*\u001B[39m\u001B[38;5;241m*\u001B[39mkwargs):\n\u001B[1;32m-> 2439\u001B[0m     \u001B[38;5;28;01mreturn\u001B[39;00m \u001B[43mgca\u001B[49m\u001B[43m(\u001B[49m\u001B[43m)\u001B[49m\u001B[38;5;241;43m.\u001B[39;49m\u001B[43mbar\u001B[49m\u001B[43m(\u001B[49m\n\u001B[0;32m   2440\u001B[0m \u001B[43m        \u001B[49m\u001B[43mx\u001B[49m\u001B[43m,\u001B[49m\u001B[43m \u001B[49m\u001B[43mheight\u001B[49m\u001B[43m,\u001B[49m\u001B[43m \u001B[49m\u001B[43mwidth\u001B[49m\u001B[38;5;241;43m=\u001B[39;49m\u001B[43mwidth\u001B[49m\u001B[43m,\u001B[49m\u001B[43m \u001B[49m\u001B[43mbottom\u001B[49m\u001B[38;5;241;43m=\u001B[39;49m\u001B[43mbottom\u001B[49m\u001B[43m,\u001B[49m\u001B[43m \u001B[49m\u001B[43malign\u001B[49m\u001B[38;5;241;43m=\u001B[39;49m\u001B[43malign\u001B[49m\u001B[43m,\u001B[49m\n\u001B[0;32m   2441\u001B[0m \u001B[43m        \u001B[49m\u001B[38;5;241;43m*\u001B[39;49m\u001B[38;5;241;43m*\u001B[39;49m\u001B[43m(\u001B[49m\u001B[43m{\u001B[49m\u001B[38;5;124;43m\"\u001B[39;49m\u001B[38;5;124;43mdata\u001B[39;49m\u001B[38;5;124;43m\"\u001B[39;49m\u001B[43m:\u001B[49m\u001B[43m \u001B[49m\u001B[43mdata\u001B[49m\u001B[43m}\u001B[49m\u001B[43m \u001B[49m\u001B[38;5;28;43;01mif\u001B[39;49;00m\u001B[43m \u001B[49m\u001B[43mdata\u001B[49m\u001B[43m \u001B[49m\u001B[38;5;129;43;01mis\u001B[39;49;00m\u001B[43m \u001B[49m\u001B[38;5;129;43;01mnot\u001B[39;49;00m\u001B[43m \u001B[49m\u001B[38;5;28;43;01mNone\u001B[39;49;00m\u001B[43m \u001B[49m\u001B[38;5;28;43;01melse\u001B[39;49;00m\u001B[43m \u001B[49m\u001B[43m{\u001B[49m\u001B[43m}\u001B[49m\u001B[43m)\u001B[49m\u001B[43m,\u001B[49m\u001B[43m \u001B[49m\u001B[38;5;241;43m*\u001B[39;49m\u001B[38;5;241;43m*\u001B[39;49m\u001B[43mkwargs\u001B[49m\u001B[43m)\u001B[49m\n",
      "File \u001B[1;32m~\\anaconda3\\envs\\tf-gpu\\lib\\site-packages\\matplotlib\\__init__.py:1473\u001B[0m, in \u001B[0;36m_preprocess_data.<locals>.inner\u001B[1;34m(ax, data, *args, **kwargs)\u001B[0m\n\u001B[0;32m   1470\u001B[0m \u001B[38;5;129m@functools\u001B[39m\u001B[38;5;241m.\u001B[39mwraps(func)\n\u001B[0;32m   1471\u001B[0m \u001B[38;5;28;01mdef\u001B[39;00m \u001B[38;5;21minner\u001B[39m(ax, \u001B[38;5;241m*\u001B[39margs, data\u001B[38;5;241m=\u001B[39m\u001B[38;5;28;01mNone\u001B[39;00m, \u001B[38;5;241m*\u001B[39m\u001B[38;5;241m*\u001B[39mkwargs):\n\u001B[0;32m   1472\u001B[0m     \u001B[38;5;28;01mif\u001B[39;00m data \u001B[38;5;129;01mis\u001B[39;00m \u001B[38;5;28;01mNone\u001B[39;00m:\n\u001B[1;32m-> 1473\u001B[0m         \u001B[38;5;28;01mreturn\u001B[39;00m \u001B[43mfunc\u001B[49m\u001B[43m(\u001B[49m\u001B[43max\u001B[49m\u001B[43m,\u001B[49m\u001B[43m \u001B[49m\u001B[38;5;241;43m*\u001B[39;49m\u001B[38;5;28;43mmap\u001B[39;49m\u001B[43m(\u001B[49m\u001B[43msanitize_sequence\u001B[49m\u001B[43m,\u001B[49m\u001B[43m \u001B[49m\u001B[43margs\u001B[49m\u001B[43m)\u001B[49m\u001B[43m,\u001B[49m\u001B[43m \u001B[49m\u001B[38;5;241;43m*\u001B[39;49m\u001B[38;5;241;43m*\u001B[39;49m\u001B[43mkwargs\u001B[49m\u001B[43m)\u001B[49m\n\u001B[0;32m   1475\u001B[0m     bound \u001B[38;5;241m=\u001B[39m new_sig\u001B[38;5;241m.\u001B[39mbind(ax, \u001B[38;5;241m*\u001B[39margs, \u001B[38;5;241m*\u001B[39m\u001B[38;5;241m*\u001B[39mkwargs)\n\u001B[0;32m   1476\u001B[0m     auto_label \u001B[38;5;241m=\u001B[39m (bound\u001B[38;5;241m.\u001B[39marguments\u001B[38;5;241m.\u001B[39mget(label_namer)\n\u001B[0;32m   1477\u001B[0m                   \u001B[38;5;129;01mor\u001B[39;00m bound\u001B[38;5;241m.\u001B[39mkwargs\u001B[38;5;241m.\u001B[39mget(label_namer))\n",
      "File \u001B[1;32m~\\anaconda3\\envs\\tf-gpu\\lib\\site-packages\\matplotlib\\axes\\_axes.py:2409\u001B[0m, in \u001B[0;36mAxes.bar\u001B[1;34m(self, x, height, width, bottom, align, **kwargs)\u001B[0m\n\u001B[0;32m   2406\u001B[0m     \u001B[38;5;28;01mif\u001B[39;00m yerr \u001B[38;5;129;01mis\u001B[39;00m \u001B[38;5;129;01mnot\u001B[39;00m \u001B[38;5;28;01mNone\u001B[39;00m:\n\u001B[0;32m   2407\u001B[0m         yerr \u001B[38;5;241m=\u001B[39m \u001B[38;5;28mself\u001B[39m\u001B[38;5;241m.\u001B[39m_convert_dx(yerr, y0, y, \u001B[38;5;28mself\u001B[39m\u001B[38;5;241m.\u001B[39mconvert_yunits)\n\u001B[1;32m-> 2409\u001B[0m x, height, width, y, linewidth, hatch \u001B[38;5;241m=\u001B[39m \u001B[43mnp\u001B[49m\u001B[38;5;241;43m.\u001B[39;49m\u001B[43mbroadcast_arrays\u001B[49m\u001B[43m(\u001B[49m\n\u001B[0;32m   2410\u001B[0m \u001B[43m    \u001B[49m\u001B[38;5;66;43;03m# Make args iterable too.\u001B[39;49;00m\n\u001B[0;32m   2411\u001B[0m \u001B[43m    \u001B[49m\u001B[43mnp\u001B[49m\u001B[38;5;241;43m.\u001B[39;49m\u001B[43matleast_1d\u001B[49m\u001B[43m(\u001B[49m\u001B[43mx\u001B[49m\u001B[43m)\u001B[49m\u001B[43m,\u001B[49m\u001B[43m \u001B[49m\u001B[43mheight\u001B[49m\u001B[43m,\u001B[49m\u001B[43m \u001B[49m\u001B[43mwidth\u001B[49m\u001B[43m,\u001B[49m\u001B[43m \u001B[49m\u001B[43my\u001B[49m\u001B[43m,\u001B[49m\u001B[43m \u001B[49m\u001B[43mlinewidth\u001B[49m\u001B[43m,\u001B[49m\u001B[43m \u001B[49m\u001B[43mhatch\u001B[49m\u001B[43m)\u001B[49m\n\u001B[0;32m   2413\u001B[0m \u001B[38;5;66;03m# Now that units have been converted, set the tick locations.\u001B[39;00m\n\u001B[0;32m   2414\u001B[0m \u001B[38;5;28;01mif\u001B[39;00m orientation \u001B[38;5;241m==\u001B[39m \u001B[38;5;124m'\u001B[39m\u001B[38;5;124mvertical\u001B[39m\u001B[38;5;124m'\u001B[39m:\n",
      "File \u001B[1;32m<__array_function__ internals>:200\u001B[0m, in \u001B[0;36mbroadcast_arrays\u001B[1;34m(*args, **kwargs)\u001B[0m\n",
      "File \u001B[1;32m~\\anaconda3\\envs\\tf-gpu\\lib\\site-packages\\numpy\\lib\\stride_tricks.py:540\u001B[0m, in \u001B[0;36mbroadcast_arrays\u001B[1;34m(subok, *args)\u001B[0m\n\u001B[0;32m    533\u001B[0m \u001B[38;5;66;03m# nditer is not used here to avoid the limit of 32 arrays.\u001B[39;00m\n\u001B[0;32m    534\u001B[0m \u001B[38;5;66;03m# Otherwise, something like the following one-liner would suffice:\u001B[39;00m\n\u001B[0;32m    535\u001B[0m \u001B[38;5;66;03m# return np.nditer(args, flags=['multi_index', 'zerosize_ok'],\u001B[39;00m\n\u001B[0;32m    536\u001B[0m \u001B[38;5;66;03m#                  order='C').itviews\u001B[39;00m\n\u001B[0;32m    538\u001B[0m args \u001B[38;5;241m=\u001B[39m [np\u001B[38;5;241m.\u001B[39marray(_m, copy\u001B[38;5;241m=\u001B[39m\u001B[38;5;28;01mFalse\u001B[39;00m, subok\u001B[38;5;241m=\u001B[39msubok) \u001B[38;5;28;01mfor\u001B[39;00m _m \u001B[38;5;129;01min\u001B[39;00m args]\n\u001B[1;32m--> 540\u001B[0m shape \u001B[38;5;241m=\u001B[39m \u001B[43m_broadcast_shape\u001B[49m\u001B[43m(\u001B[49m\u001B[38;5;241;43m*\u001B[39;49m\u001B[43margs\u001B[49m\u001B[43m)\u001B[49m\n\u001B[0;32m    542\u001B[0m \u001B[38;5;28;01mif\u001B[39;00m \u001B[38;5;28mall\u001B[39m(array\u001B[38;5;241m.\u001B[39mshape \u001B[38;5;241m==\u001B[39m shape \u001B[38;5;28;01mfor\u001B[39;00m array \u001B[38;5;129;01min\u001B[39;00m args):\n\u001B[0;32m    543\u001B[0m     \u001B[38;5;66;03m# Common case where nothing needs to be broadcasted.\u001B[39;00m\n\u001B[0;32m    544\u001B[0m     \u001B[38;5;28;01mreturn\u001B[39;00m args\n",
      "File \u001B[1;32m~\\anaconda3\\envs\\tf-gpu\\lib\\site-packages\\numpy\\lib\\stride_tricks.py:422\u001B[0m, in \u001B[0;36m_broadcast_shape\u001B[1;34m(*args)\u001B[0m\n\u001B[0;32m    417\u001B[0m \u001B[38;5;250m\u001B[39m\u001B[38;5;124;03m\"\"\"Returns the shape of the arrays that would result from broadcasting the\u001B[39;00m\n\u001B[0;32m    418\u001B[0m \u001B[38;5;124;03msupplied arrays against each other.\u001B[39;00m\n\u001B[0;32m    419\u001B[0m \u001B[38;5;124;03m\"\"\"\u001B[39;00m\n\u001B[0;32m    420\u001B[0m \u001B[38;5;66;03m# use the old-iterator because np.nditer does not handle size 0 arrays\u001B[39;00m\n\u001B[0;32m    421\u001B[0m \u001B[38;5;66;03m# consistently\u001B[39;00m\n\u001B[1;32m--> 422\u001B[0m b \u001B[38;5;241m=\u001B[39m \u001B[43mnp\u001B[49m\u001B[38;5;241;43m.\u001B[39;49m\u001B[43mbroadcast\u001B[49m\u001B[43m(\u001B[49m\u001B[38;5;241;43m*\u001B[39;49m\u001B[43margs\u001B[49m\u001B[43m[\u001B[49m\u001B[43m:\u001B[49m\u001B[38;5;241;43m32\u001B[39;49m\u001B[43m]\u001B[49m\u001B[43m)\u001B[49m\n\u001B[0;32m    423\u001B[0m \u001B[38;5;66;03m# unfortunately, it cannot handle 32 or more arguments directly\u001B[39;00m\n\u001B[0;32m    424\u001B[0m \u001B[38;5;28;01mfor\u001B[39;00m pos \u001B[38;5;129;01min\u001B[39;00m \u001B[38;5;28mrange\u001B[39m(\u001B[38;5;241m32\u001B[39m, \u001B[38;5;28mlen\u001B[39m(args), \u001B[38;5;241m31\u001B[39m):\n\u001B[0;32m    425\u001B[0m     \u001B[38;5;66;03m# ironically, np.broadcast does not properly handle np.broadcast\u001B[39;00m\n\u001B[0;32m    426\u001B[0m     \u001B[38;5;66;03m# objects (it treats them as scalars)\u001B[39;00m\n\u001B[0;32m    427\u001B[0m     \u001B[38;5;66;03m# use broadcasting to avoid allocating the full array\u001B[39;00m\n",
      "\u001B[1;31mValueError\u001B[0m: shape mismatch: objects cannot be broadcast to a single shape.  Mismatch is between arg 0 with shape (10,) and arg 1 with shape (5,)."
     ]
    },
    {
     "data": {
      "text/plain": "<Figure size 2000x2000 with 1 Axes>",
      "image/png": "[encoded data removed]"
     },
     "metadata": {},
     "output_type": "display_data"
    }
   ],
   "source": [
    "fig=plt.figure(figsize = (20,20))\n",
    "\n",
    "num_feature = 10\n",
    "plt.bar(range(num_feature), importances[indices][:num_feature],\n",
    "      color=\"darkred\", align=\"center\")\n",
    "plt.xticks(range(num_feature), np.array(importance_indices)[indices][:num_feature], rotation=45,size=35)\n",
    "plt.yticks(size=40, rotation=45)\n",
    "plt.xlabel('Top'+ str(num_feature) +' features',size = 40)\n",
    "plt.ylabel('Importance',size = 40)\n",
    "fig.text(0.695, 0.862, 'Beijing test dataset', bbox=dict(facecolor='grey', alpha=0.9),color='black', weight='roman',\n",
    "fontsize=30)\n",
    "fig.subplots_adjust(bottom=0.3, left = 0.2)\n",
    "plt.show()\n",
    "#savepdf(fig,'Feature_importances VGG16tune_Beijing_top10')"
   ]
  },
  {
   "cell_type": "markdown",
   "metadata": {
    "pycharm": {
     "name": "#%% md\n"
    }
   },
   "source": [
    "# Out-of-bag sample (US EMBASSY) test"
   ]
  },
  {
   "cell_type": "code",
   "execution_count": null,
   "metadata": {
    "pycharm": {
     "name": "#%%\n"
    }
   },
   "outputs": [],
   "source": [
    "my_X_images_folder = './X_image_embassy'\n",
    "image_files = [f for f in listdir(my_X_images_folder) if isfile(join(my_X_images_folder, f)) and '.DS_Store' not in f ]\n",
    "image_files_sorted = sorted(image_files, key = lambda x: int(x.split('.')[0].split('_')[2]))\n",
    "\n",
    "image_files_sorted"
   ]
  },
  {
   "cell_type": "code",
   "execution_count": null,
   "metadata": {
    "pycharm": {
     "name": "#%%\n"
    }
   },
   "outputs": [],
   "source": [
    "X_image_embassy = []\n",
    "image_size = 224\n",
    "for image_file in image_files_sorted:\n",
    "    img = image.load_img(my_X_images_folder+'/'+image_file)\n",
    "    x = image.img_to_array(img)\n",
    "    x = img_cropper(x, image_size)\n",
    "    x = np.expand_dims(x, axis=0) \n",
    "    x = preprocess_input(x)\n",
    "    X_image_embassy.append(x)"
   ]
  },
  {
   "cell_type": "code",
   "execution_count": null,
   "metadata": {
    "pycharm": {
     "name": "#%%\n"
    }
   },
   "outputs": [],
   "source": [
    "y_PM25_embassy = []\n",
    "with open(\"./y_PM25_embassy.txt\", \"r\") as f:\n",
    "    for line in f:\n",
    "        y_PM25_embassy.append(np.float32(float(line.strip())))"
   ]
  },
  {
   "cell_type": "code",
   "execution_count": null,
   "metadata": {
    "pycharm": {
     "name": "#%%\n"
    }
   },
   "outputs": [],
   "source": [
    "len(X_image_embassy)"
   ]
  },
  {
   "cell_type": "code",
   "execution_count": null,
   "metadata": {
    "pycharm": {
     "name": "#%%\n"
    }
   },
   "outputs": [],
   "source": [
    "X_image_embassy_features = extract_model.predict(np.array(X_image_embassy).reshape(-1,image_size ,image_size ,3))\n",
    "\n",
    "X_image_embassy_features"
   ]
  },
  {
   "cell_type": "code",
   "execution_count": null,
   "metadata": {
    "pycharm": {
     "name": "#%%\n"
    }
   },
   "outputs": [],
   "source": [
    "meteo_feature_embassy = np.load('meteo_feature_embassy.npy')\n",
    "features_meteo_embassy = np.append(X_image_embassy_features,meteo_feature_embassy,axis = 1)\n",
    "\n",
    "\n",
    "\n",
    "mask = ~np.any(np.isnan(features_meteo_embassy), axis=1)\n",
    "features_meteo_embassy = features_meteo_embassy[mask]\n",
    "\n",
    "y_all_embassy= np.array(y_PM25_embassy).reshape([373,-1])[mask]\n",
    "\n",
    "features_meteo_embassy\n",
    "\n",
    "y_all_embassy"
   ]
  },
  {
   "cell_type": "code",
   "execution_count": null,
   "metadata": {
    "pycharm": {
     "name": "#%%\n"
    }
   },
   "outputs": [],
   "source": [
    "prediction_embassy = our_pipeline.predict(features_meteo_embassy)\n",
    "\n",
    "np.sqrt(round(metrics.mean_squared_error(y_all_embassy, prediction_embassy),0))"
   ]
  },
  {
   "cell_type": "code",
   "execution_count": null,
   "metadata": {
    "pycharm": {
     "name": "#%%\n"
    }
   },
   "outputs": [],
   "source": [
    "Rsquared = stats.spearmanr(prediction_embassy,y_all_embassy.ravel())[0]\n",
    "pvalue = stats.spearmanr(prediction_embassy,y_all_embassy.ravel())[1]\n",
    "Rsquared_pearson = stats.pearsonr(prediction_embassy,y_all_embassy.ravel())[0]\n",
    "pvalue_pearson = stats.pearsonr(prediction_embassy,y_all_embassy.ravel())[1]"
   ]
  },
  {
   "cell_type": "code",
   "execution_count": null,
   "metadata": {
    "pycharm": {
     "name": "#%%\n"
    }
   },
   "outputs": [],
   "source": [
    "RMSE = round(np.sqrt(metrics.mean_squared_error(y_all_embassy, prediction_embassy)),1)\n",
    "MAE = round(metrics.mean_absolute_error(y_all_embassy, prediction_embassy),1)\n",
    "fig, ax = plt.subplots(figsize = (10,10))\n",
    "ax.set_yscale('log')\n",
    "ax.set_xscale('log')\n",
    "ax.scatter(y_all_embassy, prediction_embassy, color = 'plum',edgecolors=(0, 0, 0), s = 100)\n",
    "ax.plot([0, 400], [0, 400], 'k--', lw=4)\n",
    "ax.set_xlabel('True $PM_{2.5}$ ($\\mu $g m$^{-3}$)', size = 30)\n",
    "ax.set_ylabel('Predicted $PM_{2.5}$ ($\\mu $g m$^{-3}$)', size = 30)\n",
    "ax.tick_params(labelsize = 30)\n",
    "fig.text(0.15, 0.85, 'Spearman r = '+ str(round(Rsquared,2)) + ' (p-value = '+ str(round(pvalue,7))+')', color='black', weight='roman',\n",
    "fontsize=25)\n",
    "\n",
    "plt.axis('tight')\n",
    "fig.text(0.15, 0.81, 'Pearson r = '+ str(round(Rsquared_pearson,2)) + ' (p-value = '+ str(round(pvalue_pearson,2)) + ')', color='black', weight='roman',\n",
    "fontsize=25)\n",
    "\n",
    "fig.text(0.15, 0.77, 'RMSE = '+ str(RMSE), color='black', weight='roman',\n",
    "fontsize=25)\n",
    "fig.text(0.15, 0.73, 'MAE = '+ str(MAE), color='black', weight='roman',\n",
    "fontsize=25)\n",
    "fig.text(0.15, 0.69, 'NRMSE = '+ str(round(RMSE/np.mean(y_all_embassy)*100,1))+'%', color='black', weight='roman',\n",
    "fontsize=25)\n",
    "fig.text(0.15, 0.65, 'NMAE = '+ str(round(MAE/np.mean(y_all_embassy)*100,1))+'%', color='black', weight='roman',\n",
    "fontsize=25)\n",
    "fig.text(0.305, 0.14, 'Embassy out-of-bag dataset', bbox=dict(facecolor='grey', alpha=0.9),color='black', weight='roman',\n",
    "fontsize=30)\n",
    "plt.gcf().subplots_adjust(left=0.15)\n",
    "plt.show()\n",
    "savepdf(fig,'Embassy_out_of_bag_VGG16fine')"
   ]
  },
  {
   "cell_type": "markdown",
   "metadata": {
    "pycharm": {
     "name": "#%% md\n"
    }
   },
   "source": [
    "# Finally Shanghai Data"
   ]
  },
  {
   "cell_type": "code",
   "execution_count": null,
   "metadata": {
    "pycharm": {
     "name": "#%%\n"
    }
   },
   "outputs": [],
   "source": [
    "my_X_images_folder = './X_image_Shanghai'\n",
    "image_files = [f for f in listdir(my_X_images_folder) if isfile(join(my_X_images_folder, f)) and '.DS_Store' not in f ]\n",
    "image_files_sorted = sorted(image_files, key = lambda x: int(x.split('.')[0].split('_')[2]))\n",
    "\n",
    "image_files_sorted"
   ]
  },
  {
   "cell_type": "code",
   "execution_count": null,
   "metadata": {
    "pycharm": {
     "name": "#%%\n"
    }
   },
   "outputs": [],
   "source": [
    "X_image_shanghai = []\n",
    "for image_file in image_files_sorted:\n",
    "    img = image.load_img(my_X_images_folder+'/'+image_file)\n",
    "    x = image.img_to_array(img) \n",
    "    x = img_cropper(x, image_size)\n",
    "    x = np.expand_dims(x, axis=0) \n",
    "    x = preprocess_input(x)\n",
    "    X_image_shanghai.append(x)"
   ]
  },
  {
   "cell_type": "code",
   "execution_count": null,
   "metadata": {
    "pycharm": {
     "name": "#%%\n"
    }
   },
   "outputs": [],
   "source": [
    "y_PM25_shanghai = []\n",
    "with open(\"./y_PM25_Shanghai.txt\", \"r\") as f:\n",
    "    for line in f:\n",
    "        y_PM25_shanghai.append(np.float32(float(line.strip())))"
   ]
  },
  {
   "cell_type": "code",
   "execution_count": null,
   "metadata": {
    "pycharm": {
     "name": "#%%\n"
    }
   },
   "outputs": [],
   "source": [
    "X_image_shanghai_features = extract_model.predict(np.array(X_image_shanghai).reshape(-1,image_size ,image_size ,3))\n",
    "\n",
    "X_image_shanghai_features"
   ]
  },
  {
   "cell_type": "code",
   "execution_count": null,
   "metadata": {
    "pycharm": {
     "name": "#%%\n"
    }
   },
   "outputs": [],
   "source": [
    "meteo_feature_shanghai = np.load('meteo_feature_shanghai.npy')\n",
    "features_meteo_shanghai = np.append(X_image_shanghai_features,meteo_feature_shanghai,axis = 1)\n",
    "\n",
    "\n",
    "\n",
    "mask = ~np.any(np.isnan(features_meteo_shanghai), axis=1)\n",
    "features_meteo_shanghai = features_meteo_shanghai[mask]\n",
    "\n",
    "y_all_shanghai= np.array(y_PM25_shanghai).reshape([1897,-1])[mask]\n",
    "\n",
    "prediction_shanghai = our_pipeline.predict(features_meteo_shanghai)"
   ]
  },
  {
   "cell_type": "code",
   "execution_count": null,
   "metadata": {
    "pycharm": {
     "name": "#%%\n"
    }
   },
   "outputs": [],
   "source": [
    "Rsquared = stats.spearmanr(prediction_shanghai ,y_all_shanghai .ravel())[0]\n",
    "pvalue = stats.spearmanr(prediction_shanghai ,y_all_shanghai .ravel())[1]\n",
    "Rsquared_pearson = stats.pearsonr(prediction_shanghai ,y_all_shanghai .ravel())[0]\n",
    "pvalue_pearson = stats.pearsonr(prediction_shanghai ,y_all_shanghai .ravel())[1]"
   ]
  },
  {
   "cell_type": "code",
   "execution_count": null,
   "metadata": {
    "pycharm": {
     "name": "#%%\n"
    }
   },
   "outputs": [],
   "source": [
    "RMSE = round(np.sqrt(metrics.mean_squared_error(y_all_shanghai , prediction_shanghai)),1)\n",
    "MAE = round(metrics.mean_absolute_error(y_all_shanghai , prediction_shanghai),1)\n",
    "fig, ax = plt.subplots(figsize = (10,10))\n",
    "ax.set_yscale('log')\n",
    "ax.set_xscale('log')\n",
    "ax.scatter(y_all_shanghai , prediction_shanghai, color = 'gold',edgecolors=(0, 0, 0), s = 100)\n",
    "ax.plot([0, 400], [0, 400], 'k--', lw=4)\n",
    "ax.set_xlabel('True $PM_{2.5}$ ($\\mu $g m$^{-3}$)', size = 30)\n",
    "ax.set_ylabel('Predicted $PM_{2.5}$ ($\\mu $g m$^{-3}$)', size = 30)\n",
    "ax.tick_params(labelsize = 30)\n",
    "fig.text(0.15, 0.85, 'Spearman r = '+ str(round(Rsquared,2)) + ' (p-value = '+ str(round(pvalue,7))+')', color='black', weight='roman',\n",
    "fontsize=25)\n",
    "\n",
    "plt.axis('tight')\n",
    "fig.text(0.15, 0.81, 'Pearson r = '+ str(round(Rsquared_pearson,2)) + ' (p-value = '+ str(round(pvalue_pearson,2)) + ')', color='black', weight='roman',\n",
    "fontsize=25)\n",
    "\n",
    "fig.text(0.15, 0.77, 'RMSE = '+ str(RMSE), color='black', weight='roman',\n",
    "fontsize=25)\n",
    "fig.text(0.15, 0.73, 'MAE = '+ str(MAE), color='black', weight='roman',\n",
    "fontsize=25)\n",
    "fig.text(0.15, 0.69, 'NRMSE = '+ str(round(RMSE/np.mean(y_all_shanghai)*100,1))+'%', color='black', weight='roman',\n",
    "fontsize=25)\n",
    "fig.text(0.15, 0.65, 'NMAE = '+ str(round(MAE/np.mean(y_all_shanghai)*100,1))+'%', color='black', weight='roman',\n",
    "fontsize=25)\n",
    "fig.text(0.258, 0.14, 'Shanghai dataset (no training)', bbox=dict(facecolor='grey', alpha=0.9),color='black', weight='roman',\n",
    "fontsize=30)\n",
    "plt.gcf().subplots_adjust(left=0.15)\n",
    "plt.show()\n",
    "savepdf(fig,'Shanghai_VGG16fine_no_training')"
   ]
  },
  {
   "cell_type": "markdown",
   "metadata": {
    "pycharm": {
     "name": "#%% md\n"
    }
   },
   "source": [
    "# For shanghai, only re-train random forest then"
   ]
  },
  {
   "cell_type": "code",
   "execution_count": null,
   "metadata": {
    "pycharm": {
     "name": "#%%\n"
    }
   },
   "outputs": [],
   "source": [
    "meteo_feature_shanghai = np.load('meteo_feature_shanghai.npy')\n",
    "features_meteo_shanghai = np.append(X_image_shanghai_features,meteo_feature_shanghai,axis = 1)\n",
    "\n",
    "\n",
    "\n",
    "mask = ~np.any(np.isnan(features_meteo_shanghai), axis=1)\n",
    "features_meteo_shanghai = features_meteo_shanghai[mask]\n",
    "\n",
    "y_all_shanghai= np.array(y_PM25_shanghai).reshape([1897,-1])[mask]"
   ]
  },
  {
   "cell_type": "code",
   "execution_count": null,
   "metadata": {
    "pycharm": {
     "name": "#%%\n"
    }
   },
   "outputs": [],
   "source": [
    "## load in site labels and time index to see the seasonal trend and site-specific trend\n",
    "time_stamps = np.load('time_stamp_shanghai.npy')\n",
    "site_labels = np.load('site_label_shanghai.npy')\n",
    "\n",
    "time_stamps = np.array([float(x) for x in time_stamps ])\n",
    "site_labels = np.array([float(x) for x in site_labels ])\n",
    "\n",
    "features_meteo = np.append(features_meteo_shanghai,time_stamps.reshape(1897,1),axis = 1)\n",
    "features_meteo = np.append(features_meteo_shanghai,site_labels.reshape(1897,1),axis = 1)\n",
    "\n",
    "X_train_full, X_test_full, y_train, y_test = train_test_split(features_meteo , y_all_shanghai, test_size=0.2, random_state=0)\n",
    "X_train = X_train_full[:, :-2]\n",
    "X_test = X_test_full[:, :-2]"
   ]
  },
  {
   "cell_type": "code",
   "execution_count": null,
   "metadata": {
    "pycharm": {
     "name": "#%%\n"
    }
   },
   "outputs": [],
   "source": [
    "scaler=StandardScaler()\n",
    "cls = RandomForestRegressor(bootstrap=True, n_jobs=-1, random_state = 40,max_features ='auto',n_estimators =500,min_samples_leaf=1 )\n",
    "our_pipeline=Pipeline([('scaler',scaler),('cls',cls)])\n",
    "our_pipeline.fit(X_train,y_train.ravel())"
   ]
  },
  {
   "cell_type": "code",
   "execution_count": null,
   "metadata": {
    "pycharm": {
     "name": "#%%\n"
    }
   },
   "outputs": [],
   "source": [
    "Rsquared = stats.spearmanr((our_pipeline.predict(X_test)),y_test.ravel())[0]\n",
    "pvalue = stats.spearmanr((our_pipeline.predict(X_test)),y_test.ravel())[1]\n",
    "Rsquared_pearson = stats.pearsonr((our_pipeline.predict(X_test)),y_test.ravel())[0]\n",
    "pvalue_pearson = stats.pearsonr((our_pipeline.predict(X_test)),y_test.ravel())[1]"
   ]
  },
  {
   "cell_type": "code",
   "execution_count": null,
   "metadata": {
    "pycharm": {
     "name": "#%%\n"
    }
   },
   "outputs": [],
   "source": [
    "my_prediction = our_pipeline.predict(X_test)\n",
    "RMSE = round(np.sqrt(metrics.mean_squared_error(y_test, my_prediction)),1)\n",
    "MAE = round(metrics.mean_absolute_error(y_test, my_prediction),1)\n",
    "fig, ax = plt.subplots(figsize = (10,10))\n",
    "ax.set_yscale('log')\n",
    "ax.set_xscale('log')\n",
    "ax.scatter(y_test, my_prediction, color = 'coral',edgecolors=(0, 0, 0), s = 100)\n",
    "ax.plot([0, 200], [0, 200], 'k--', lw=4)\n",
    "ax.set_xlabel('True $PM_{2.5}$ ($\\mu $g m$^{-3}$)', size = 30)\n",
    "ax.set_ylabel('Predicted $PM_{2.5}$ ($\\mu $g m$^{-3}$)', size = 30)\n",
    "ax.tick_params(labelsize = 30)\n",
    "fig.text(0.15, 0.85, 'Spearman r = '+ str(round(Rsquared,2)) + ' (p-value = '+ str(round(pvalue,7))+')', color='black', weight='roman',\n",
    "fontsize=25)\n",
    "\n",
    "plt.axis('tight')\n",
    "fig.text(0.15, 0.81, 'Pearson r = '+ str(round(Rsquared_pearson,2)) + ' (p-value = '+ str(round(pvalue_pearson,2)) + ')', color='black', weight='roman',\n",
    "fontsize=25)\n",
    "\n",
    "fig.text(0.15, 0.77, 'RMSE = '+ str(RMSE), color='black', weight='roman',\n",
    "fontsize=25)\n",
    "fig.text(0.15, 0.73, 'MAE = '+ str(MAE), color='black', weight='roman',\n",
    "fontsize=25)\n",
    "fig.text(0.15, 0.69, 'NRMSE = '+ str(round(RMSE/np.mean(y_test)*100,1))+'%', color='black', weight='roman',\n",
    "fontsize=25)\n",
    "fig.text(0.15, 0.65, 'NMAE = '+ str(round(MAE/np.mean(y_test)*100,1))+'%', color='black', weight='roman',\n",
    "fontsize=25)\n",
    "fig.text(0.21, 0.137, 'Shanghai dataset (RF re-trained)', bbox=dict(facecolor='grey', alpha=0.9),color='black', weight='roman',\n",
    "fontsize=30)\n",
    "plt.gcf().subplots_adjust(left=0.15)\n",
    "#plt.gca().set_aspect('equal', adjustable='box')\n",
    "plt.show()\n",
    "savepdf(fig,'Shanghai_VGGtune_RFretrain_best')"
   ]
  }
 ],
 "metadata": {
  "kernelspec": {
   "name": "tf",
   "language": "python",
   "display_name": "tf"
  },
  "language_info": {
   "codemirror_mode": {
    "name": "ipython",
    "version": 3
   },
   "file_extension": ".py",
   "mimetype": "text/x-python",
   "name": "python",
   "nbconvert_exporter": "python",
   "pygments_lexer": "ipython3",
   "version": "3.6.8"
  }
 },
 "nbformat": 4,
 "nbformat_minor": 2
}